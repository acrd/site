{
 "metadata": {
  "language_info": {
   "codemirror_mode": {
    "name": "ipython",
    "version": 3
   },
   "file_extension": ".py",
   "mimetype": "text/x-python",
   "name": "python",
   "nbconvert_exporter": "python",
   "pygments_lexer": "ipython3",
   "version": "3.6.9-final"
  },
  "orig_nbformat": 2,
  "kernelspec": {
   "name": "python36964bitb2f6799a6d294292a84414c9014f9ca3",
   "display_name": "Python 3.6.9 64-bit"
  }
 },
 "nbformat": 4,
 "nbformat_minor": 2,
 "cells": [
  {
   "cell_type": "markdown",
   "metadata": {},
   "source": [
    "# Dictionnaires et Pandas"
   ]
  },
  {
   "cell_type": "markdown",
   "metadata": {},
   "source": [
    "## Les dictionnaires\n",
    "\n",
    "Un dictionnaire ressemble à une liste mais il est plus général. Alors que les indices d'une liste doivent être des entiers, dans un dictionnaire, les indices peuvent être de type différent.\n",
    "\n",
    "Un dictionnaire contient une collection d'indices, appelés **clés**, et une collection de valeurs. A chaque *clé* correspond une *valeur*, ce que l'on appelle une **paire clé-valeur**, ou **item**.\n",
    "\n",
    "La syntaxe pour définir une liste est:"
   ]
  },
  {
   "cell_type": "code",
   "execution_count": 46,
   "metadata": {},
   "outputs": [],
   "source": [
    "my_dict = {\n",
    "   \"key1\":\"value1\",\n",
    "   \"key2\":\"value2\",\n",
    "}"
   ]
  },
  {
   "cell_type": "markdown",
   "metadata": {},
   "source": [
    "Définissons 2 listes nous donnant les pays européens et leur capitale:"
   ]
  },
  {
   "cell_type": "code",
   "execution_count": 47,
   "metadata": {},
   "outputs": [],
   "source": [
    "pays = ['allemagne', 'autriche', 'belgique', 'bulgarie', 'chypre', 'croatie', 'danemark', 'espagne', 'estonie', \n",
    "        'finlande', 'france', 'grèce', 'hongrie', 'irlande', 'italie', 'lettonie', 'lituanie', 'luxembourg', \n",
    "        'malte', 'pays-bas', 'pologne', 'portugal', 'république tchèque', 'roumanie', 'slovaquie', 'slovénie', 'suède']\n",
    "capitales = ['berlin', 'vienne', 'bruxelles', 'sofia', 'nicosie', 'zagreb', 'copenhague', 'madrid', 'tallinn', \n",
    "             'helsinki', 'paris', 'athènes', 'budapest', 'dublin', 'rome', 'riga', 'vilnius', 'luxembourg', 'la valette',\n",
    "             'amsterdam', 'varsovie', 'lisbonne', 'prague', 'bucarest', 'bratislava', 'ljubljana', 'stockholm']"
   ]
  },
  {
   "cell_type": "markdown",
   "metadata": {},
   "source": [
    "Nous voulons trouver la capitale de la Hongrie. Nous pouvons utiliser la méthode de liste `index()`:"
   ]
  },
  {
   "cell_type": "code",
   "execution_count": 48,
   "metadata": {
    "tags": []
   },
   "outputs": [
    {
     "output_type": "stream",
     "name": "stdout",
     "text": "Budapest\n"
    }
   ],
   "source": [
    "# trouver l'indice de 'hongrie'\n",
    "ind_hongrie = pays.index('hongrie')\n",
    "\n",
    "# afficher la capitale de la Hongrie\n",
    "print(capitales[ind_hongrie].capitalize())"
   ]
  },
  {
   "cell_type": "markdown",
   "metadata": {},
   "source": [
    "Maintenant, définissons un dictionnaire contenant les même informations:"
   ]
  },
  {
   "cell_type": "code",
   "execution_count": 49,
   "metadata": {},
   "outputs": [],
   "source": [
    "europe = {\n",
    "    'allemagne' : 'berlin',\n",
    "    'autriche' : 'vienne',\n",
    "    'belgique' : 'bruxelles',\n",
    "    'bulgarie' : 'sofia',\n",
    "    'chypre' : 'nicosie',\n",
    "    'croatie' : 'zagreb',\n",
    "    'danemark' : 'copenhague',\n",
    "    'espagne' : 'madrid',\n",
    "    'estonie' : 'tallinn',\n",
    "    'finlande' : 'helsinki',\n",
    "    'france' : 'paris',\n",
    "    'grèce' : 'athènes',\n",
    "    'hongrie' : 'budapest',\n",
    "    'irlande' : 'dublin',\n",
    "    'italie' : 'rome',\n",
    "    'lettonie' : 'riga',\n",
    "    'lituanie' : 'vilnius',\n",
    "    'luxembourg' : 'luxembourg',\n",
    "    'malte' : 'la valette',\n",
    "    'pays-bas' : 'amsterdam',\n",
    "    'pologne' : 'varsovie',\n",
    "    'portugal' : 'lisbonne',\n",
    "    'république tchèque' : 'prague',\n",
    "    'roumanie' : 'bucarest',\n",
    "    'slovaquie' : 'bratislava',\n",
    "    'slovénie' : 'ljubljana',\n",
    "    'suède' : 'stockholm'\n",
    "}"
   ]
  },
  {
   "cell_type": "markdown",
   "metadata": {
    "tags": []
   },
   "source": [
    "Pour accéder à la *valeur* associée à la une *clé* donnée, il suffit alors d'utiliser la clé en indice du dictionnaire. Ainsi, pour afficher la capitale de la Hongrie:"
   ]
  },
  {
   "cell_type": "code",
   "execution_count": 50,
   "metadata": {},
   "outputs": [
    {
     "output_type": "execute_result",
     "data": {
      "text/plain": "'budapest'"
     },
     "metadata": {},
     "execution_count": 50
    }
   ],
   "source": [
    "europe['hongrie']"
   ]
  },
  {
   "cell_type": "markdown",
   "metadata": {},
   "source": [
    "Il est facile avec un dictionnaire d'ajouter ou enlever une paire clé-valeur, ou bien de changer une valeur:"
   ]
  },
  {
   "cell_type": "code",
   "execution_count": 51,
   "metadata": {},
   "outputs": [
    {
     "output_type": "execute_result",
     "data": {
      "text/plain": "True"
     },
     "metadata": {},
     "execution_count": 51
    }
   ],
   "source": [
    "# ajouter la Turqie au dictionnaire\n",
    "europe['turquie'] = 'istanbul'\n",
    "\n",
    "# vérifier que le pays est bien contenu dans le dictionnaire\n",
    "'turquie' in europe"
   ]
  },
  {
   "cell_type": "code",
   "execution_count": 52,
   "metadata": {
    "tags": []
   },
   "outputs": [
    {
     "output_type": "stream",
     "name": "stdout",
     "text": "Ankara\n"
    }
   ],
   "source": [
    "# changer le nom de la capitale de la Turquie (et oui ce n'est pas Istanbul...)\n",
    "europe['turquie'] = 'ankara'\n",
    "\n",
    "# afficher la capitale de la Turquie\n",
    "print(europe['turquie'].capitalize())"
   ]
  },
  {
   "cell_type": "code",
   "execution_count": 53,
   "metadata": {},
   "outputs": [
    {
     "output_type": "execute_result",
     "data": {
      "text/plain": "False"
     },
     "metadata": {},
     "execution_count": 53
    }
   ],
   "source": [
    "# enlever la paire clé-valeur du dictionnaire\n",
    "del(europe['turquie'])\n",
    "\n",
    "# vérifier que le pays n'est pas contenu dans le dictionnaire\n",
    "'turquie' in europe"
   ]
  },
  {
   "cell_type": "markdown",
   "metadata": {},
   "source": [
    "## Pandas DataFrames\n",
    "\n",
    "[Pandas](https://pandas.pydata.org/) est un module de Python pour l'analyse et la manipulation de données. L'objet de base de Pandas est le *DataFrame*, qui est un tableau similaire auc feuilles Excel ou LibreOffice que vous devez connaître. Le module Pandas fonctionne en harmonie avec les modules [Numpy](https://numpy.org/) et [Matplotlib](https://matplotlib.org/) vus dans les cours précédents.\n",
    "\n",
    "Voyons comment créer un DataFrame à partir d'un dictionnaire. Nous allons reprendre les listes créées plus sur les pays et capitales européennes, les transformer en tableaux Numpy, et y ajouter d'autres informations:"
   ]
  },
  {
   "cell_type": "code",
   "execution_count": 54,
   "metadata": {},
   "outputs": [],
   "source": [
    "# importation du module Numpy\n",
    "import numpy as np\n",
    "\n",
    "# importation du module Pandas\n",
    "import pandas as pd\n",
    "\n",
    "# création des tableaux Numpy à partir des listes des pays et des capitales: type string\n",
    "np_pays = np.array(pays)\n",
    "np_capitales = np.array(capitales)\n",
    "\n",
    "# liste avec les populations des pays européens: type integer\n",
    "np_population = np.array([82162000, 8700471, 11289853, 7153784, 848319, 4190669, 5659715, 46438422, 1315944, \n",
    "                       5401267, 66661621, 10793526, 9830485, 4658530, 60665551, 1968957, 2888558, 576249, \n",
    "                       434403, 16979120, 37967209, 10341330, 10553853, 19759968, 5426252, 2064188, 9851017],\n",
    "                       dtype='int64')\n",
    "\n",
    "# liste avec les dates d'adhésion des pays à l'UE: type datetime\n",
    "np_date = np.array(['1957', '1995', '1957', '2007', '2004', '2013', '1973', '1986', '2004', '1995',\n",
    "                    '1957', '1981', '2004', '1973', '1957', '2004', '2004', '1957', '2004', '1957',\n",
    "                    '2004', '1986', '2004', '2007', '2004', '2004', '1995'],\n",
    "                    dtype='datetime64[Y]')"
   ]
  },
  {
   "cell_type": "markdown",
   "metadata": {},
   "source": [
    "Maintenant, créons un dictionnaire en utilisant les tableaux Numpy dans les paires clé-valeur:"
   ]
  },
  {
   "cell_type": "code",
   "execution_count": 55,
   "metadata": {
    "tags": []
   },
   "outputs": [],
   "source": [
    "dic_europe = {\n",
    "    \"pays\" : np_pays,\n",
    "    \"capitale\" : np_capitales,\n",
    "    \"population\" : np_population,\n",
    "    \"date d'adhésion\" : np_date\n",
    "}"
   ]
  },
  {
   "cell_type": "markdown",
   "metadata": {},
   "source": [
    "Pour créer le *DataFrame* à partir du dictionnaire il suffit d'utiliser la fonction `DataFrame()` de Pandas:"
   ]
  },
  {
   "cell_type": "code",
   "execution_count": 56,
   "metadata": {
    "tags": []
   },
   "outputs": [
    {
     "output_type": "execute_result",
     "data": {
      "text/plain": "                  pays    capitale  population date d'adhésion\n0            allemagne      berlin    82162000      1957-01-01\n1             autriche      vienne     8700471      1995-01-01\n2             belgique   bruxelles    11289853      1957-01-01\n3             bulgarie       sofia     7153784      2007-01-01\n4               chypre     nicosie      848319      2004-01-01\n5              croatie      zagreb     4190669      2013-01-01\n6             danemark  copenhague     5659715      1973-01-01\n7              espagne      madrid    46438422      1986-01-01\n8              estonie     tallinn     1315944      2004-01-01\n9             finlande    helsinki     5401267      1995-01-01\n10              france       paris    66661621      1957-01-01\n11               grèce     athènes    10793526      1981-01-01\n12             hongrie    budapest     9830485      2004-01-01\n13             irlande      dublin     4658530      1973-01-01\n14              italie        rome    60665551      1957-01-01\n15            lettonie        riga     1968957      2004-01-01\n16            lituanie     vilnius     2888558      2004-01-01\n17          luxembourg  luxembourg      576249      1957-01-01\n18               malte  la valette      434403      2004-01-01\n19            pays-bas   amsterdam    16979120      1957-01-01\n20             pologne    varsovie    37967209      2004-01-01\n21            portugal    lisbonne    10341330      1986-01-01\n22  république tchèque      prague    10553853      2004-01-01\n23            roumanie    bucarest    19759968      2007-01-01\n24           slovaquie  bratislava     5426252      2004-01-01\n25            slovénie   ljubljana     2064188      2004-01-01\n26               suède   stockholm     9851017      1995-01-01",
      "text/html": "<div>\n<style scoped>\n    .dataframe tbody tr th:only-of-type {\n        vertical-align: middle;\n    }\n\n    .dataframe tbody tr th {\n        vertical-align: top;\n    }\n\n    .dataframe thead th {\n        text-align: right;\n    }\n</style>\n<table border=\"1\" class=\"dataframe\">\n  <thead>\n    <tr style=\"text-align: right;\">\n      <th></th>\n      <th>pays</th>\n      <th>capitale</th>\n      <th>population</th>\n      <th>date d'adhésion</th>\n    </tr>\n  </thead>\n  <tbody>\n    <tr>\n      <th>0</th>\n      <td>allemagne</td>\n      <td>berlin</td>\n      <td>82162000</td>\n      <td>1957-01-01</td>\n    </tr>\n    <tr>\n      <th>1</th>\n      <td>autriche</td>\n      <td>vienne</td>\n      <td>8700471</td>\n      <td>1995-01-01</td>\n    </tr>\n    <tr>\n      <th>2</th>\n      <td>belgique</td>\n      <td>bruxelles</td>\n      <td>11289853</td>\n      <td>1957-01-01</td>\n    </tr>\n    <tr>\n      <th>3</th>\n      <td>bulgarie</td>\n      <td>sofia</td>\n      <td>7153784</td>\n      <td>2007-01-01</td>\n    </tr>\n    <tr>\n      <th>4</th>\n      <td>chypre</td>\n      <td>nicosie</td>\n      <td>848319</td>\n      <td>2004-01-01</td>\n    </tr>\n    <tr>\n      <th>5</th>\n      <td>croatie</td>\n      <td>zagreb</td>\n      <td>4190669</td>\n      <td>2013-01-01</td>\n    </tr>\n    <tr>\n      <th>6</th>\n      <td>danemark</td>\n      <td>copenhague</td>\n      <td>5659715</td>\n      <td>1973-01-01</td>\n    </tr>\n    <tr>\n      <th>7</th>\n      <td>espagne</td>\n      <td>madrid</td>\n      <td>46438422</td>\n      <td>1986-01-01</td>\n    </tr>\n    <tr>\n      <th>8</th>\n      <td>estonie</td>\n      <td>tallinn</td>\n      <td>1315944</td>\n      <td>2004-01-01</td>\n    </tr>\n    <tr>\n      <th>9</th>\n      <td>finlande</td>\n      <td>helsinki</td>\n      <td>5401267</td>\n      <td>1995-01-01</td>\n    </tr>\n    <tr>\n      <th>10</th>\n      <td>france</td>\n      <td>paris</td>\n      <td>66661621</td>\n      <td>1957-01-01</td>\n    </tr>\n    <tr>\n      <th>11</th>\n      <td>grèce</td>\n      <td>athènes</td>\n      <td>10793526</td>\n      <td>1981-01-01</td>\n    </tr>\n    <tr>\n      <th>12</th>\n      <td>hongrie</td>\n      <td>budapest</td>\n      <td>9830485</td>\n      <td>2004-01-01</td>\n    </tr>\n    <tr>\n      <th>13</th>\n      <td>irlande</td>\n      <td>dublin</td>\n      <td>4658530</td>\n      <td>1973-01-01</td>\n    </tr>\n    <tr>\n      <th>14</th>\n      <td>italie</td>\n      <td>rome</td>\n      <td>60665551</td>\n      <td>1957-01-01</td>\n    </tr>\n    <tr>\n      <th>15</th>\n      <td>lettonie</td>\n      <td>riga</td>\n      <td>1968957</td>\n      <td>2004-01-01</td>\n    </tr>\n    <tr>\n      <th>16</th>\n      <td>lituanie</td>\n      <td>vilnius</td>\n      <td>2888558</td>\n      <td>2004-01-01</td>\n    </tr>\n    <tr>\n      <th>17</th>\n      <td>luxembourg</td>\n      <td>luxembourg</td>\n      <td>576249</td>\n      <td>1957-01-01</td>\n    </tr>\n    <tr>\n      <th>18</th>\n      <td>malte</td>\n      <td>la valette</td>\n      <td>434403</td>\n      <td>2004-01-01</td>\n    </tr>\n    <tr>\n      <th>19</th>\n      <td>pays-bas</td>\n      <td>amsterdam</td>\n      <td>16979120</td>\n      <td>1957-01-01</td>\n    </tr>\n    <tr>\n      <th>20</th>\n      <td>pologne</td>\n      <td>varsovie</td>\n      <td>37967209</td>\n      <td>2004-01-01</td>\n    </tr>\n    <tr>\n      <th>21</th>\n      <td>portugal</td>\n      <td>lisbonne</td>\n      <td>10341330</td>\n      <td>1986-01-01</td>\n    </tr>\n    <tr>\n      <th>22</th>\n      <td>république tchèque</td>\n      <td>prague</td>\n      <td>10553853</td>\n      <td>2004-01-01</td>\n    </tr>\n    <tr>\n      <th>23</th>\n      <td>roumanie</td>\n      <td>bucarest</td>\n      <td>19759968</td>\n      <td>2007-01-01</td>\n    </tr>\n    <tr>\n      <th>24</th>\n      <td>slovaquie</td>\n      <td>bratislava</td>\n      <td>5426252</td>\n      <td>2004-01-01</td>\n    </tr>\n    <tr>\n      <th>25</th>\n      <td>slovénie</td>\n      <td>ljubljana</td>\n      <td>2064188</td>\n      <td>2004-01-01</td>\n    </tr>\n    <tr>\n      <th>26</th>\n      <td>suède</td>\n      <td>stockholm</td>\n      <td>9851017</td>\n      <td>1995-01-01</td>\n    </tr>\n  </tbody>\n</table>\n</div>"
     },
     "metadata": {},
     "execution_count": 56
    }
   ],
   "source": [
    "# création du DataFrame\n",
    "df_europe = pd.DataFrame(data=dic_europe)\n",
    "\n",
    "# affichage du DataFrame\n",
    "df_europe"
   ]
  },
  {
   "cell_type": "markdown",
   "metadata": {},
   "source": [
    "On voit que:\n",
    "\n",
    "- les clés du dictionnaire ont été utilisées pour nommer les colonnes du DataFrame,\n",
    "- les listes ont été utilisée pour remplir chaque colonne\n",
    "- les lignes sont étiquetées, par défaut avec des entiers à partir de l'indice 0, mais il est possible d'utiliser d'autres types pour les étiquettes, comme pour les clés d'un dictionnaire\n",
    "\n",
    "Nous pouvons vérifier le type du DataFrame avec la fonction `type()`:"
   ]
  },
  {
   "cell_type": "code",
   "execution_count": 57,
   "metadata": {
    "tags": []
   },
   "outputs": [
    {
     "output_type": "stream",
     "name": "stdout",
     "text": "<class 'pandas.core.frame.DataFrame'>\n"
    }
   ],
   "source": [
    "# affichage du type\n",
    "print(type(df_europe))"
   ]
  },
  {
   "cell_type": "markdown",
   "metadata": {},
   "source": [
    "Les attributs de DataFrame sont:\n",
    "\n",
    "| Attributs | Description\n",
    "|--|--\n",
    "| `ndim` | nombre de dimension\n",
    "| `shape` | forme, nombre d'éléments dans chaque dimension\n",
    "| `size` | nombre d'éléments"
   ]
  },
  {
   "cell_type": "code",
   "execution_count": 58,
   "metadata": {
    "tags": []
   },
   "outputs": [
    {
     "output_type": "stream",
     "name": "stdout",
     "text": "ndim : 2\nshape: (27, 4)\nsize: 108\n"
    }
   ],
   "source": [
    "print('ndim :', df_europe.ndim)\n",
    "print('shape:', df_europe.shape)\n",
    "print('size:', df_europe.size)"
   ]
  },
  {
   "cell_type": "markdown",
   "metadata": {},
   "source": [
    "Les DataFrame contiennent parfois beaucoup de lignes. On peut afficher seulement les première ou dernière lignes avec les méthodes `head()` et `tail()`:"
   ]
  },
  {
   "cell_type": "code",
   "execution_count": 59,
   "metadata": {},
   "outputs": [
    {
     "output_type": "execute_result",
     "data": {
      "text/plain": "        pays capitale  population date d'adhésion\n0  allemagne   berlin    82162000      1957-01-01\n1   autriche   vienne     8700471      1995-01-01",
      "text/html": "<div>\n<style scoped>\n    .dataframe tbody tr th:only-of-type {\n        vertical-align: middle;\n    }\n\n    .dataframe tbody tr th {\n        vertical-align: top;\n    }\n\n    .dataframe thead th {\n        text-align: right;\n    }\n</style>\n<table border=\"1\" class=\"dataframe\">\n  <thead>\n    <tr style=\"text-align: right;\">\n      <th></th>\n      <th>pays</th>\n      <th>capitale</th>\n      <th>population</th>\n      <th>date d'adhésion</th>\n    </tr>\n  </thead>\n  <tbody>\n    <tr>\n      <th>0</th>\n      <td>allemagne</td>\n      <td>berlin</td>\n      <td>82162000</td>\n      <td>1957-01-01</td>\n    </tr>\n    <tr>\n      <th>1</th>\n      <td>autriche</td>\n      <td>vienne</td>\n      <td>8700471</td>\n      <td>1995-01-01</td>\n    </tr>\n  </tbody>\n</table>\n</div>"
     },
     "metadata": {},
     "execution_count": 59
    }
   ],
   "source": [
    "# afficher les 2 premieres lignes\n",
    "df_europe.head(n=2)"
   ]
  },
  {
   "cell_type": "code",
   "execution_count": 60,
   "metadata": {},
   "outputs": [
    {
     "output_type": "execute_result",
     "data": {
      "text/plain": "        pays   capitale  population date d'adhésion\n25  slovénie  ljubljana     2064188      2004-01-01\n26     suède  stockholm     9851017      1995-01-01",
      "text/html": "<div>\n<style scoped>\n    .dataframe tbody tr th:only-of-type {\n        vertical-align: middle;\n    }\n\n    .dataframe tbody tr th {\n        vertical-align: top;\n    }\n\n    .dataframe thead th {\n        text-align: right;\n    }\n</style>\n<table border=\"1\" class=\"dataframe\">\n  <thead>\n    <tr style=\"text-align: right;\">\n      <th></th>\n      <th>pays</th>\n      <th>capitale</th>\n      <th>population</th>\n      <th>date d'adhésion</th>\n    </tr>\n  </thead>\n  <tbody>\n    <tr>\n      <th>25</th>\n      <td>slovénie</td>\n      <td>ljubljana</td>\n      <td>2064188</td>\n      <td>2004-01-01</td>\n    </tr>\n    <tr>\n      <th>26</th>\n      <td>suède</td>\n      <td>stockholm</td>\n      <td>9851017</td>\n      <td>1995-01-01</td>\n    </tr>\n  </tbody>\n</table>\n</div>"
     },
     "metadata": {},
     "execution_count": 60
    }
   ],
   "source": [
    "# afficher les 2 dernieres lignes\n",
    "df_europe.tail(n=2)"
   ]
  },
  {
   "cell_type": "markdown",
   "metadata": {},
   "source": [
    "## L'objet *Series*"
   ]
  },
  {
   "cell_type": "markdown",
   "metadata": {},
   "source": [
    "Il est possible d'extraire une colonne en mettant en indice le nom de la colonne:"
   ]
  },
  {
   "cell_type": "code",
   "execution_count": 61,
   "metadata": {
    "tags": []
   },
   "outputs": [
    {
     "output_type": "stream",
     "name": "stdout",
     "text": "0              allemagne\n1               autriche\n2               belgique\n3               bulgarie\n4                 chypre\n5                croatie\n6               danemark\n7                espagne\n8                estonie\n9               finlande\n10                france\n11                 grèce\n12               hongrie\n13               irlande\n14                italie\n15              lettonie\n16              lituanie\n17            luxembourg\n18                 malte\n19              pays-bas\n20               pologne\n21              portugal\n22    république tchèque\n23              roumanie\n24             slovaquie\n25              slovénie\n26                 suède\nName: pays, dtype: object\n"
    }
   ],
   "source": [
    "# extraire la colonne pays du DataFrame\n",
    "col_pays = df_europe['pays']\n",
    "\n",
    "# ou de manière similaire\n",
    "col_pays = df_europe.pays\n",
    "\n",
    "# affichage\n",
    "print(col_pays)"
   ]
  },
  {
   "cell_type": "markdown",
   "metadata": {},
   "source": [
    "On voit que l'on a extrait la colonne mais aussi les étiquettes des lignes et d'autres informations telle que l'étiquette de la colonne. Une colonne extraite de cette manière est un objet **Series** de Pandas: "
   ]
  },
  {
   "cell_type": "code",
   "execution_count": 62,
   "metadata": {
    "tags": []
   },
   "outputs": [
    {
     "output_type": "stream",
     "name": "stdout",
     "text": "<class 'pandas.core.series.Series'>\n"
    }
   ],
   "source": [
    "print(type(col_pays))"
   ]
  },
  {
   "cell_type": "markdown",
   "metadata": {},
   "source": [
    "On accède aux valeurs d'un objet *Series* de la même manière qu'un dictionnaire, c'est-à-dire en écrivant l'étiquette en indice de l'objet:"
   ]
  },
  {
   "cell_type": "code",
   "execution_count": 63,
   "metadata": {
    "tags": []
   },
   "outputs": [
    {
     "output_type": "stream",
     "name": "stdout",
     "text": "roumanie\n"
    }
   ],
   "source": [
    "# afficher la valeur de la \"Series\" col_pays correspondant a l'étiquette 23\n",
    "print(col_pays[23])"
   ]
  },
  {
   "cell_type": "markdown",
   "metadata": {},
   "source": [
    "Pour accéder à une ligne, il faut utiliser un *accesseur* `.loc[]`:"
   ]
  },
  {
   "cell_type": "code",
   "execution_count": 64,
   "metadata": {
    "tags": []
   },
   "outputs": [
    {
     "output_type": "stream",
     "name": "stdout",
     "text": "pays                          roumanie\ncapitale                      bucarest\npopulation                    19759968\ndate d'adhésion    2007-01-01 00:00:00\nName: 23, dtype: object\n"
    }
   ],
   "source": [
    "# extraire la ligne 23 du DataFrame\n",
    "ligne_23 = df_europe.loc[23]\n",
    "\n",
    "# affichage\n",
    "print(ligne_23)"
   ]
  },
  {
   "cell_type": "markdown",
   "metadata": {},
   "source": [
    "Une ligne extraite de cette façon est aussi un objet *Series*:"
   ]
  },
  {
   "cell_type": "code",
   "execution_count": 65,
   "metadata": {},
   "outputs": [
    {
     "output_type": "execute_result",
     "data": {
      "text/plain": "pandas.core.series.Series"
     },
     "metadata": {},
     "execution_count": 65
    }
   ],
   "source": [
    "type(ligne_23)"
   ]
  },
  {
   "cell_type": "markdown",
   "metadata": {},
   "source": [
    "Les noms des colonnes ont été utilisés pour étiqueter les lignes de ce nouvel objet, et l'étiquette de la ligne a été utilisé pour nommer l'objet."
   ]
  },
  {
   "cell_type": "markdown",
   "metadata": {},
   "source": [
    "### Exercice\n",
    "\n",
    "1. Créer un objet *Series* contenant la colonne date d'adhésion\n",
    "2. Créer un objet *Series* contenant la ligne 12"
   ]
  },
  {
   "cell_type": "code",
   "execution_count": 66,
   "metadata": {},
   "outputs": [],
   "source": [
    "# 1\n",
    "col_adhesion = df_europe[\"date d'adhésion\"]\n",
    "\n",
    "# 2\n",
    "ligne_12 = df_europe.loc[12]"
   ]
  },
  {
   "cell_type": "markdown",
   "metadata": {},
   "source": [
    "## L'objet *Index*\n",
    "\n",
    "On peut extraire les étiquettes des lignes et des colonnes avec `.index` et `.columns`:"
   ]
  },
  {
   "cell_type": "code",
   "execution_count": 67,
   "metadata": {
    "tags": []
   },
   "outputs": [
    {
     "output_type": "stream",
     "name": "stdout",
     "text": "RangeIndex(start=0, stop=27, step=1)\n"
    }
   ],
   "source": [
    "# etiquettes des lignes\n",
    "print(df_europe.index)"
   ]
  },
  {
   "cell_type": "code",
   "execution_count": 68,
   "metadata": {
    "tags": []
   },
   "outputs": [
    {
     "output_type": "stream",
     "name": "stdout",
     "text": "Index(['pays', 'capitale', 'population', 'date d'adhésion'], dtype='object')\n"
    }
   ],
   "source": [
    "# etiquette des lignes\n",
    "print(df_europe.columns)"
   ]
  },
  {
   "cell_type": "markdown",
   "metadata": {},
   "source": [
    "Ces étiquettes sont des objet Pandas appelés **Index**. Ce sont des tableaux Numpy *immuables*, c'est-à-dire qu'on ne peut pas modifier leurs éléments.\n",
    "\n",
    "On peut par contre changer un *index* entier:"
   ]
  },
  {
   "cell_type": "code",
   "execution_count": 69,
   "metadata": {
    "tags": []
   },
   "outputs": [
    {
     "output_type": "execute_result",
     "data": {
      "text/plain": "        pays capitale  population date d'adhésion\n1  allemagne   berlin    82162000      1957-01-01",
      "text/html": "<div>\n<style scoped>\n    .dataframe tbody tr th:only-of-type {\n        vertical-align: middle;\n    }\n\n    .dataframe tbody tr th {\n        vertical-align: top;\n    }\n\n    .dataframe thead th {\n        text-align: right;\n    }\n</style>\n<table border=\"1\" class=\"dataframe\">\n  <thead>\n    <tr style=\"text-align: right;\">\n      <th></th>\n      <th>pays</th>\n      <th>capitale</th>\n      <th>population</th>\n      <th>date d'adhésion</th>\n    </tr>\n  </thead>\n  <tbody>\n    <tr>\n      <th>1</th>\n      <td>allemagne</td>\n      <td>berlin</td>\n      <td>82162000</td>\n      <td>1957-01-01</td>\n    </tr>\n  </tbody>\n</table>\n</div>"
     },
     "metadata": {},
     "execution_count": 69
    }
   ],
   "source": [
    "# Modifier les étiquettes des lignes du DataFrame en les faisant commencer à 1\n",
    "df_europe.index = np.arange(1,28)\n",
    "\n",
    "# afficher la premiere ligne\n",
    "df_europe.head(n=1)"
   ]
  },
  {
   "cell_type": "markdown",
   "metadata": {},
   "source": [
    "## Accéder et modifier les données\n",
    "\n",
    "On peut accéder aux données du DataFrame pour les extraire ou les modifier grâce à des **accesseurs**:\n",
    "\n",
    "| Accesseur | Description\n",
    "|--|--\n",
    "| `.loc[]`  | accepte les étiquettes des lignes ou colonnes et retourne un objet *Series* ou *DataFrame*\n",
    "| `.iloc[]` | accepte les indices des lignes ou colonnes et retourne un objet *Series* ou *DataFrame*\n",
    "| `.at[]`   | accepte les étiquettes des lignes ou colonnes et retourne une valeur unique\n",
    "| `.iat[]`  | accepte les indices des lignes ou colonnes et retourne une valeur unique\n",
    "\n",
    "Comme pour les tableaux Numpy, les accesseurs supportent l'indexation et le tranchage. Voyons quelques exemples:"
   ]
  },
  {
   "cell_type": "code",
   "execution_count": 70,
   "metadata": {
    "tags": []
   },
   "outputs": [
    {
     "output_type": "stream",
     "name": "stdout",
     "text": "1       berlin\n2       vienne\n3    bruxelles\n4        sofia\nName: capitale, dtype: object\n"
    }
   ],
   "source": [
    "# extraire les capitales des 3 premiers pays\n",
    "print(df_europe.loc[1:4, 'capitale'])"
   ]
  },
  {
   "cell_type": "markdown",
   "metadata": {},
   "source": [
    "Attention, avec `.loc[]` on a utilisé les étiquettes des lignes, décalées de 1 par rapport à leur indice. Pour extraire le  même objet *Series* avec `iloc[]`, on écrira:"
   ]
  },
  {
   "cell_type": "code",
   "execution_count": 71,
   "metadata": {
    "tags": []
   },
   "outputs": [
    {
     "output_type": "stream",
     "name": "stdout",
     "text": "1       berlin\n2       vienne\n3    bruxelles\nName: capitale, dtype: object\n"
    }
   ],
   "source": [
    "# extraire les capitales des 3 premiers pays\n",
    "print(df_europe.iloc[0:3, 1])"
   ]
  },
  {
   "cell_type": "markdown",
   "metadata": {},
   "source": [
    "Comme pour les tableaux Numpy, on peut trancher en frounissant une liste: "
   ]
  },
  {
   "cell_type": "code",
   "execution_count": 72,
   "metadata": {
    "tags": []
   },
   "outputs": [
    {
     "output_type": "execute_result",
     "data": {
      "text/plain": "       pays  population\n3  belgique    11289853\n4  bulgarie     7153784\n5    chypre      848319\n6   croatie     4190669\n7  danemark     5659715",
      "text/html": "<div>\n<style scoped>\n    .dataframe tbody tr th:only-of-type {\n        vertical-align: middle;\n    }\n\n    .dataframe tbody tr th {\n        vertical-align: top;\n    }\n\n    .dataframe thead th {\n        text-align: right;\n    }\n</style>\n<table border=\"1\" class=\"dataframe\">\n  <thead>\n    <tr style=\"text-align: right;\">\n      <th></th>\n      <th>pays</th>\n      <th>population</th>\n    </tr>\n  </thead>\n  <tbody>\n    <tr>\n      <th>3</th>\n      <td>belgique</td>\n      <td>11289853</td>\n    </tr>\n    <tr>\n      <th>4</th>\n      <td>bulgarie</td>\n      <td>7153784</td>\n    </tr>\n    <tr>\n      <th>5</th>\n      <td>chypre</td>\n      <td>848319</td>\n    </tr>\n    <tr>\n      <th>6</th>\n      <td>croatie</td>\n      <td>4190669</td>\n    </tr>\n    <tr>\n      <th>7</th>\n      <td>danemark</td>\n      <td>5659715</td>\n    </tr>\n  </tbody>\n</table>\n</div>"
     },
     "metadata": {},
     "execution_count": 72
    }
   ],
   "source": [
    "# extraire les noms et les populations pays 3 à 7\n",
    "df_europe.loc[3:7, ['pays', 'population']]"
   ]
  },
  {
   "cell_type": "markdown",
   "metadata": {},
   "source": [
    "Avec l'accesseur `iloc[]` on écrira:"
   ]
  },
  {
   "cell_type": "code",
   "execution_count": 73,
   "metadata": {
    "tags": []
   },
   "outputs": [
    {
     "output_type": "execute_result",
     "data": {
      "text/plain": "       pays  population\n3  belgique    11289853\n4  bulgarie     7153784\n5    chypre      848319\n6   croatie     4190669\n7  danemark     5659715",
      "text/html": "<div>\n<style scoped>\n    .dataframe tbody tr th:only-of-type {\n        vertical-align: middle;\n    }\n\n    .dataframe tbody tr th {\n        vertical-align: top;\n    }\n\n    .dataframe thead th {\n        text-align: right;\n    }\n</style>\n<table border=\"1\" class=\"dataframe\">\n  <thead>\n    <tr style=\"text-align: right;\">\n      <th></th>\n      <th>pays</th>\n      <th>population</th>\n    </tr>\n  </thead>\n  <tbody>\n    <tr>\n      <th>3</th>\n      <td>belgique</td>\n      <td>11289853</td>\n    </tr>\n    <tr>\n      <th>4</th>\n      <td>bulgarie</td>\n      <td>7153784</td>\n    </tr>\n    <tr>\n      <th>5</th>\n      <td>chypre</td>\n      <td>848319</td>\n    </tr>\n    <tr>\n      <th>6</th>\n      <td>croatie</td>\n      <td>4190669</td>\n    </tr>\n    <tr>\n      <th>7</th>\n      <td>danemark</td>\n      <td>5659715</td>\n    </tr>\n  </tbody>\n</table>\n</div>"
     },
     "metadata": {},
     "execution_count": 73
    }
   ],
   "source": [
    "# extraire les noms et les populations pays 3 à 7\n",
    "df_europe.iloc[2:7, [0, 2]]"
   ]
  },
  {
   "cell_type": "markdown",
   "metadata": {},
   "source": [
    "Pour accéder à une valeur en particulier:"
   ]
  },
  {
   "cell_type": "code",
   "execution_count": 74,
   "metadata": {
    "tags": []
   },
   "outputs": [
    {
     "output_type": "stream",
     "name": "stdout",
     "text": "république tchèque\nrépublique tchèque\n"
    }
   ],
   "source": [
    "# nom du pays 23\n",
    "print(df_europe.at[23, 'pays'])\n",
    "\n",
    "# ou avec les indices\n",
    "print(df_europe.iat[22, 0])"
   ]
  },
  {
   "cell_type": "markdown",
   "metadata": {},
   "source": [
    "### Exercice\n",
    "\n",
    "1. Extraire les date d'adhésion des pays avec les étiquettes 12 et 25\n",
    "2. Extraire la population du pays avec l'étiquette 6"
   ]
  },
  {
   "cell_type": "code",
   "execution_count": 75,
   "metadata": {
    "tags": []
   },
   "outputs": [
    {
     "output_type": "stream",
     "name": "stdout",
     "text": "12   1981-01-01\n25   2004-01-01\nName: date d'adhésion, dtype: datetime64[ns]\n"
    }
   ],
   "source": [
    "# 1\n",
    "print(df_europe.loc[[12,25], \"date d'adhésion\"])"
   ]
  },
  {
   "cell_type": "code",
   "execution_count": 76,
   "metadata": {
    "tags": []
   },
   "outputs": [
    {
     "output_type": "stream",
     "name": "stdout",
     "text": "4190669\n"
    }
   ],
   "source": [
    "# 2\n",
    "print(df_europe.at[6, \"population\"])"
   ]
  },
  {
   "cell_type": "markdown",
   "metadata": {},
   "source": [
    "## Insérer et supprimer des données\n",
    "\n",
    "Pour insérer une nouvelle ligne, on peut créer un objet *Series* et l'ajouter au DataFrame avec la méthode `.append()`. Supposons que la Turquie joigne l'Union Européenne en 2026:"
   ]
  },
  {
   "cell_type": "code",
   "execution_count": 77,
   "metadata": {
    "tags": []
   },
   "outputs": [
    {
     "output_type": "stream",
     "name": "stdout",
     "text": "pays                turquie\ncapitale             ankara\npopulation         83154997\ndate d'adhésion        2026\nName: 28, dtype: object\n"
    }
   ],
   "source": [
    "# creation de l'objet Series\n",
    "ligne_turquie = pd.Series(data=['turquie', 'ankara', 83154997, np.datetime64('2026', 'Y')], \n",
    "                          index=df_europe.columns, name=28)\n",
    "\n",
    "# affichage\n",
    "print(ligne_turquie)"
   ]
  },
  {
   "cell_type": "code",
   "execution_count": 78,
   "metadata": {
    "tags": []
   },
   "outputs": [
    {
     "output_type": "execute_result",
     "data": {
      "text/plain": "       pays   capitale  population date d'adhésion\n27    suède  stockholm     9851017      1995-01-01\n28  turquie     ankara    83154997      2026-01-01",
      "text/html": "<div>\n<style scoped>\n    .dataframe tbody tr th:only-of-type {\n        vertical-align: middle;\n    }\n\n    .dataframe tbody tr th {\n        vertical-align: top;\n    }\n\n    .dataframe thead th {\n        text-align: right;\n    }\n</style>\n<table border=\"1\" class=\"dataframe\">\n  <thead>\n    <tr style=\"text-align: right;\">\n      <th></th>\n      <th>pays</th>\n      <th>capitale</th>\n      <th>population</th>\n      <th>date d'adhésion</th>\n    </tr>\n  </thead>\n  <tbody>\n    <tr>\n      <th>27</th>\n      <td>suède</td>\n      <td>stockholm</td>\n      <td>9851017</td>\n      <td>1995-01-01</td>\n    </tr>\n    <tr>\n      <th>28</th>\n      <td>turquie</td>\n      <td>ankara</td>\n      <td>83154997</td>\n      <td>2026-01-01</td>\n    </tr>\n  </tbody>\n</table>\n</div>"
     },
     "metadata": {},
     "execution_count": 78
    }
   ],
   "source": [
    "# ajout de la ligne à l'objet DataFrame\n",
    "df_europe = df_europe.append(ligne_turquie)\n",
    "\n",
    "# affichage des 2 dernieres lignes\n",
    "df_europe.tail(n=2)"
   ]
  },
  {
   "cell_type": "markdown",
   "metadata": {},
   "source": [
    "Plusieurs remarques:\n",
    "- pour créer l'objet *Series* on a utilisé l'option `index` pour nommer les colonnes, et l'option `name` pour lui donner un nom\n",
    "- l'étiquette de la nouvelle ligne de l'objet DataFrame est le nom de l'objet Series\n",
    "- on aurait pu ignorer ce nom en utilisant l'option de la méthode `append()`: `ignore_index=True`\n",
    "\n",
    "La méthode `.drop()` permet de supprimer des lignes:"
   ]
  },
  {
   "cell_type": "code",
   "execution_count": 79,
   "metadata": {
    "tags": []
   },
   "outputs": [
    {
     "output_type": "execute_result",
     "data": {
      "text/plain": "        pays   capitale  population date d'adhésion\n26  slovénie  ljubljana     2064188      2004-01-01\n27     suède  stockholm     9851017      1995-01-01",
      "text/html": "<div>\n<style scoped>\n    .dataframe tbody tr th:only-of-type {\n        vertical-align: middle;\n    }\n\n    .dataframe tbody tr th {\n        vertical-align: top;\n    }\n\n    .dataframe thead th {\n        text-align: right;\n    }\n</style>\n<table border=\"1\" class=\"dataframe\">\n  <thead>\n    <tr style=\"text-align: right;\">\n      <th></th>\n      <th>pays</th>\n      <th>capitale</th>\n      <th>population</th>\n      <th>date d'adhésion</th>\n    </tr>\n  </thead>\n  <tbody>\n    <tr>\n      <th>26</th>\n      <td>slovénie</td>\n      <td>ljubljana</td>\n      <td>2064188</td>\n      <td>2004-01-01</td>\n    </tr>\n    <tr>\n      <th>27</th>\n      <td>suède</td>\n      <td>stockholm</td>\n      <td>9851017</td>\n      <td>1995-01-01</td>\n    </tr>\n  </tbody>\n</table>\n</div>"
     },
     "metadata": {},
     "execution_count": 79
    }
   ],
   "source": [
    "# supprimer la ligne avec l'étiquette 28\n",
    "df_europe = df_europe.drop([28])\n",
    "\n",
    "# affichage des 2 dernieres lignes\n",
    "df_europe.tail(n=2)"
   ]
  },
  {
   "cell_type": "markdown",
   "metadata": {},
   "source": [
    "Il est beaucoup plus simple d'ajouter une colonne à un DataFrame. On peut le faire de la même manière que l'on ajoute une paire clé-valeur à un dictionnaire. Par exemple, ajoutons la colonne qui donne le nombre de siège au parlement européen pour chaque pays de l'UE:"
   ]
  },
  {
   "cell_type": "code",
   "execution_count": 80,
   "metadata": {
    "tags": []
   },
   "outputs": [
    {
     "output_type": "execute_result",
     "data": {
      "text/plain": "        pays capitale  population date d'adhésion  sièges\n1  allemagne   berlin    82162000      1957-01-01      96\n2   autriche   vienne     8700471      1995-01-01      18",
      "text/html": "<div>\n<style scoped>\n    .dataframe tbody tr th:only-of-type {\n        vertical-align: middle;\n    }\n\n    .dataframe tbody tr th {\n        vertical-align: top;\n    }\n\n    .dataframe thead th {\n        text-align: right;\n    }\n</style>\n<table border=\"1\" class=\"dataframe\">\n  <thead>\n    <tr style=\"text-align: right;\">\n      <th></th>\n      <th>pays</th>\n      <th>capitale</th>\n      <th>population</th>\n      <th>date d'adhésion</th>\n      <th>sièges</th>\n    </tr>\n  </thead>\n  <tbody>\n    <tr>\n      <th>1</th>\n      <td>allemagne</td>\n      <td>berlin</td>\n      <td>82162000</td>\n      <td>1957-01-01</td>\n      <td>96</td>\n    </tr>\n    <tr>\n      <th>2</th>\n      <td>autriche</td>\n      <td>vienne</td>\n      <td>8700471</td>\n      <td>1995-01-01</td>\n      <td>18</td>\n    </tr>\n  </tbody>\n</table>\n</div>"
     },
     "metadata": {},
     "execution_count": 80
    }
   ],
   "source": [
    "# nombre de sieges au parlement\n",
    "np_sieges = np.array([96, 18, 21, 17, 6, 11, 13, 54, 6, 13, 74, 21, 21, 11, 73, 8, 11, 6, 6, 26, 51, 21, 21, 32, 13, 8, 20])\n",
    "\n",
    "# ajout de la colonne\n",
    "df_europe['sièges'] = np_sieges\n",
    "\n",
    "# affichage des 2 premieres lignes\n",
    "df_europe.head(n=2)"
   ]
  },
  {
   "cell_type": "markdown",
   "metadata": {},
   "source": [
    "## Opérateurs arithmétiques et fonctions\n",
    "\n",
    "Il est possible d'utiliser les opérateurs arithmétiques usuels et les fonctions Numpy sur les colonnes d'un objet DataFrame. Par exemple, calculons le pourcentage de la population dans chaque pays par rapport à la population totale:"
   ]
  },
  {
   "cell_type": "code",
   "execution_count": 81,
   "metadata": {
    "tags": []
   },
   "outputs": [
    {
     "output_type": "stream",
     "name": "stdout",
     "text": "1     18.480761\n2      1.957004\n3      2.539435\n4      1.609106\n5      0.190813\n6      0.942610\n7      1.273044\n8     10.445429\n9      0.295996\n10     1.214911\n11    14.994249\n12     2.427796\n13     2.211178\n14     1.047847\n15    13.645548\n16     0.442879\n17     0.649726\n18     0.129616\n19     0.097711\n20     3.819126\n21     8.539993\n22     2.326083\n23     2.373886\n24     4.444625\n25     1.220531\n26     0.464299\n27     2.215797\nName: population, dtype: float64\n"
    }
   ],
   "source": [
    "# population totale\n",
    "pop_tot = df_europe['population'].sum()\n",
    "\n",
    "# pourcentage de la population\n",
    "pop_pourcentage = df_europe['population'] / pop_tot * 100\n",
    "\n",
    "# affichage\n",
    "print(pop_pourcentage)"
   ]
  },
  {
   "cell_type": "markdown",
   "metadata": {},
   "source": [
    "### Exercice\n",
    "\n",
    "Nous voulons connaître le poids de chaque pays au parlement par rapport à son nombre d'habitants.\n",
    "\n",
    "1. Calculer le nombre de sièges au parlement par habitants dans chaque pays, c'est-à-dire:\n",
    "\n",
    "$$N_i = \\frac{\\text{nombre de siège}}{\\text{nombre d'habitants}}$$\n",
    "\n",
    "2. Normaliser le résultat et l'exprimer en pourcentage, c'est-à-dire:\n",
    "\n",
    "$$\\bar{N}_i = \\frac{N_i}{\\sum_i N_i}\\times 100$$\n",
    "\n",
    "3. Ajouter une nouvelle colonne au DataFrame `df_europe` avec le nom `'poids'` qui contient $\\bar{N}_i$\n",
    "4. Afficher les colonnes `'pays'` et `'poids'` du DataFrame `df_europe` pour les 20 premières lignes"
   ]
  },
  {
   "cell_type": "code",
   "execution_count": 82,
   "metadata": {
    "tags": []
   },
   "outputs": [
    {
     "output_type": "execute_result",
     "data": {
      "text/plain": "          pays      poids\n1    allemagne   1.370336\n2     autriche   2.426367\n3     belgique   2.181513\n4     bulgarie   2.787018\n5       chypre   8.295046\n6      croatie   3.078478\n7     danemark   2.693863\n8      espagne   1.363776\n9      estonie   5.347374\n10    finlande   2.822763\n11      france   1.301915\n12       grèce   2.281827\n13     hongrie   2.505365\n14     irlande   2.769303\n15      italie   1.411261\n16    lettonie   4.765193\n17    lituanie   4.466202\n18  luxembourg  12.211466\n19       malte  16.198887\n20    pays-bas   1.795911",
      "text/html": "<div>\n<style scoped>\n    .dataframe tbody tr th:only-of-type {\n        vertical-align: middle;\n    }\n\n    .dataframe tbody tr th {\n        vertical-align: top;\n    }\n\n    .dataframe thead th {\n        text-align: right;\n    }\n</style>\n<table border=\"1\" class=\"dataframe\">\n  <thead>\n    <tr style=\"text-align: right;\">\n      <th></th>\n      <th>pays</th>\n      <th>poids</th>\n    </tr>\n  </thead>\n  <tbody>\n    <tr>\n      <th>1</th>\n      <td>allemagne</td>\n      <td>1.370336</td>\n    </tr>\n    <tr>\n      <th>2</th>\n      <td>autriche</td>\n      <td>2.426367</td>\n    </tr>\n    <tr>\n      <th>3</th>\n      <td>belgique</td>\n      <td>2.181513</td>\n    </tr>\n    <tr>\n      <th>4</th>\n      <td>bulgarie</td>\n      <td>2.787018</td>\n    </tr>\n    <tr>\n      <th>5</th>\n      <td>chypre</td>\n      <td>8.295046</td>\n    </tr>\n    <tr>\n      <th>6</th>\n      <td>croatie</td>\n      <td>3.078478</td>\n    </tr>\n    <tr>\n      <th>7</th>\n      <td>danemark</td>\n      <td>2.693863</td>\n    </tr>\n    <tr>\n      <th>8</th>\n      <td>espagne</td>\n      <td>1.363776</td>\n    </tr>\n    <tr>\n      <th>9</th>\n      <td>estonie</td>\n      <td>5.347374</td>\n    </tr>\n    <tr>\n      <th>10</th>\n      <td>finlande</td>\n      <td>2.822763</td>\n    </tr>\n    <tr>\n      <th>11</th>\n      <td>france</td>\n      <td>1.301915</td>\n    </tr>\n    <tr>\n      <th>12</th>\n      <td>grèce</td>\n      <td>2.281827</td>\n    </tr>\n    <tr>\n      <th>13</th>\n      <td>hongrie</td>\n      <td>2.505365</td>\n    </tr>\n    <tr>\n      <th>14</th>\n      <td>irlande</td>\n      <td>2.769303</td>\n    </tr>\n    <tr>\n      <th>15</th>\n      <td>italie</td>\n      <td>1.411261</td>\n    </tr>\n    <tr>\n      <th>16</th>\n      <td>lettonie</td>\n      <td>4.765193</td>\n    </tr>\n    <tr>\n      <th>17</th>\n      <td>lituanie</td>\n      <td>4.466202</td>\n    </tr>\n    <tr>\n      <th>18</th>\n      <td>luxembourg</td>\n      <td>12.211466</td>\n    </tr>\n    <tr>\n      <th>19</th>\n      <td>malte</td>\n      <td>16.198887</td>\n    </tr>\n    <tr>\n      <th>20</th>\n      <td>pays-bas</td>\n      <td>1.795911</td>\n    </tr>\n  </tbody>\n</table>\n</div>"
     },
     "metadata": {},
     "execution_count": 82
    }
   ],
   "source": [
    "# nombre de siège par habitant\n",
    "siege_pour = df_europe['sièges'] / df_europe['population']\n",
    "\n",
    "# normalisation\n",
    "siege_pour = siege_pour / siege_pour.sum() * 100\n",
    "\n",
    "# ajout d'une colonne poids\n",
    "df_europe['poids'] = siege_pour\n",
    "\n",
    "# affichage\n",
    "df_europe.loc[1:20,['pays','poids']]"
   ]
  },
  {
   "cell_type": "markdown",
   "metadata": {},
   "source": [
    "## Trier un *DataFrame*\n",
    "\n",
    "Il est très facile de trier un objet DataFrame avec la méthode `.sort_values()`. Par exemple, on voit qu'en classant les pays d'abord par nombre de sièges croissant, puis, pour un même nombre de sièges, par poids décroissant, on déduit que plus le nombre de siège et la population augmentent, plus le poids d'un pays au parlement diminue:"
   ]
  },
  {
   "cell_type": "code",
   "execution_count": 83,
   "metadata": {
    "tags": []
   },
   "outputs": [
    {
     "output_type": "execute_result",
     "data": {
      "text/plain": "                  pays    capitale  population date d'adhésion  sièges  \\\n19               malte  la valette      434403      2004-01-01       6   \n18          luxembourg  luxembourg      576249      1957-01-01       6   \n5               chypre     nicosie      848319      2004-01-01       6   \n9              estonie     tallinn     1315944      2004-01-01       6   \n16            lettonie        riga     1968957      2004-01-01       8   \n26            slovénie   ljubljana     2064188      2004-01-01       8   \n17            lituanie     vilnius     2888558      2004-01-01      11   \n6              croatie      zagreb     4190669      2013-01-01      11   \n14             irlande      dublin     4658530      1973-01-01      11   \n10            finlande    helsinki     5401267      1995-01-01      13   \n25           slovaquie  bratislava     5426252      2004-01-01      13   \n7             danemark  copenhague     5659715      1973-01-01      13   \n4             bulgarie       sofia     7153784      2007-01-01      17   \n2             autriche      vienne     8700471      1995-01-01      18   \n27               suède   stockholm     9851017      1995-01-01      20   \n13             hongrie    budapest     9830485      2004-01-01      21   \n22            portugal    lisbonne    10341330      1986-01-01      21   \n23  république tchèque      prague    10553853      2004-01-01      21   \n12               grèce     athènes    10793526      1981-01-01      21   \n3             belgique   bruxelles    11289853      1957-01-01      21   \n20            pays-bas   amsterdam    16979120      1957-01-01      26   \n24            roumanie    bucarest    19759968      2007-01-01      32   \n21             pologne    varsovie    37967209      2004-01-01      51   \n8              espagne      madrid    46438422      1986-01-01      54   \n15              italie        rome    60665551      1957-01-01      73   \n11              france       paris    66661621      1957-01-01      74   \n1            allemagne      berlin    82162000      1957-01-01      96   \n\n        poids  \n19  16.198887  \n18  12.211466  \n5    8.295046  \n9    5.347374  \n16   4.765193  \n26   4.545352  \n17   4.466202  \n6    3.078478  \n14   2.769303  \n10   2.822763  \n25   2.809766  \n7    2.693863  \n4    2.787018  \n2    2.426367  \n27   2.381089  \n13   2.505365  \n22   2.381604  \n23   2.333646  \n12   2.281827  \n3    2.181513  \n20   1.795911  \n24   1.899287  \n21   1.575391  \n8    1.363776  \n15   1.411261  \n11   1.301915  \n1    1.370336  ",
      "text/html": "<div>\n<style scoped>\n    .dataframe tbody tr th:only-of-type {\n        vertical-align: middle;\n    }\n\n    .dataframe tbody tr th {\n        vertical-align: top;\n    }\n\n    .dataframe thead th {\n        text-align: right;\n    }\n</style>\n<table border=\"1\" class=\"dataframe\">\n  <thead>\n    <tr style=\"text-align: right;\">\n      <th></th>\n      <th>pays</th>\n      <th>capitale</th>\n      <th>population</th>\n      <th>date d'adhésion</th>\n      <th>sièges</th>\n      <th>poids</th>\n    </tr>\n  </thead>\n  <tbody>\n    <tr>\n      <th>19</th>\n      <td>malte</td>\n      <td>la valette</td>\n      <td>434403</td>\n      <td>2004-01-01</td>\n      <td>6</td>\n      <td>16.198887</td>\n    </tr>\n    <tr>\n      <th>18</th>\n      <td>luxembourg</td>\n      <td>luxembourg</td>\n      <td>576249</td>\n      <td>1957-01-01</td>\n      <td>6</td>\n      <td>12.211466</td>\n    </tr>\n    <tr>\n      <th>5</th>\n      <td>chypre</td>\n      <td>nicosie</td>\n      <td>848319</td>\n      <td>2004-01-01</td>\n      <td>6</td>\n      <td>8.295046</td>\n    </tr>\n    <tr>\n      <th>9</th>\n      <td>estonie</td>\n      <td>tallinn</td>\n      <td>1315944</td>\n      <td>2004-01-01</td>\n      <td>6</td>\n      <td>5.347374</td>\n    </tr>\n    <tr>\n      <th>16</th>\n      <td>lettonie</td>\n      <td>riga</td>\n      <td>1968957</td>\n      <td>2004-01-01</td>\n      <td>8</td>\n      <td>4.765193</td>\n    </tr>\n    <tr>\n      <th>26</th>\n      <td>slovénie</td>\n      <td>ljubljana</td>\n      <td>2064188</td>\n      <td>2004-01-01</td>\n      <td>8</td>\n      <td>4.545352</td>\n    </tr>\n    <tr>\n      <th>17</th>\n      <td>lituanie</td>\n      <td>vilnius</td>\n      <td>2888558</td>\n      <td>2004-01-01</td>\n      <td>11</td>\n      <td>4.466202</td>\n    </tr>\n    <tr>\n      <th>6</th>\n      <td>croatie</td>\n      <td>zagreb</td>\n      <td>4190669</td>\n      <td>2013-01-01</td>\n      <td>11</td>\n      <td>3.078478</td>\n    </tr>\n    <tr>\n      <th>14</th>\n      <td>irlande</td>\n      <td>dublin</td>\n      <td>4658530</td>\n      <td>1973-01-01</td>\n      <td>11</td>\n      <td>2.769303</td>\n    </tr>\n    <tr>\n      <th>10</th>\n      <td>finlande</td>\n      <td>helsinki</td>\n      <td>5401267</td>\n      <td>1995-01-01</td>\n      <td>13</td>\n      <td>2.822763</td>\n    </tr>\n    <tr>\n      <th>25</th>\n      <td>slovaquie</td>\n      <td>bratislava</td>\n      <td>5426252</td>\n      <td>2004-01-01</td>\n      <td>13</td>\n      <td>2.809766</td>\n    </tr>\n    <tr>\n      <th>7</th>\n      <td>danemark</td>\n      <td>copenhague</td>\n      <td>5659715</td>\n      <td>1973-01-01</td>\n      <td>13</td>\n      <td>2.693863</td>\n    </tr>\n    <tr>\n      <th>4</th>\n      <td>bulgarie</td>\n      <td>sofia</td>\n      <td>7153784</td>\n      <td>2007-01-01</td>\n      <td>17</td>\n      <td>2.787018</td>\n    </tr>\n    <tr>\n      <th>2</th>\n      <td>autriche</td>\n      <td>vienne</td>\n      <td>8700471</td>\n      <td>1995-01-01</td>\n      <td>18</td>\n      <td>2.426367</td>\n    </tr>\n    <tr>\n      <th>27</th>\n      <td>suède</td>\n      <td>stockholm</td>\n      <td>9851017</td>\n      <td>1995-01-01</td>\n      <td>20</td>\n      <td>2.381089</td>\n    </tr>\n    <tr>\n      <th>13</th>\n      <td>hongrie</td>\n      <td>budapest</td>\n      <td>9830485</td>\n      <td>2004-01-01</td>\n      <td>21</td>\n      <td>2.505365</td>\n    </tr>\n    <tr>\n      <th>22</th>\n      <td>portugal</td>\n      <td>lisbonne</td>\n      <td>10341330</td>\n      <td>1986-01-01</td>\n      <td>21</td>\n      <td>2.381604</td>\n    </tr>\n    <tr>\n      <th>23</th>\n      <td>république tchèque</td>\n      <td>prague</td>\n      <td>10553853</td>\n      <td>2004-01-01</td>\n      <td>21</td>\n      <td>2.333646</td>\n    </tr>\n    <tr>\n      <th>12</th>\n      <td>grèce</td>\n      <td>athènes</td>\n      <td>10793526</td>\n      <td>1981-01-01</td>\n      <td>21</td>\n      <td>2.281827</td>\n    </tr>\n    <tr>\n      <th>3</th>\n      <td>belgique</td>\n      <td>bruxelles</td>\n      <td>11289853</td>\n      <td>1957-01-01</td>\n      <td>21</td>\n      <td>2.181513</td>\n    </tr>\n    <tr>\n      <th>20</th>\n      <td>pays-bas</td>\n      <td>amsterdam</td>\n      <td>16979120</td>\n      <td>1957-01-01</td>\n      <td>26</td>\n      <td>1.795911</td>\n    </tr>\n    <tr>\n      <th>24</th>\n      <td>roumanie</td>\n      <td>bucarest</td>\n      <td>19759968</td>\n      <td>2007-01-01</td>\n      <td>32</td>\n      <td>1.899287</td>\n    </tr>\n    <tr>\n      <th>21</th>\n      <td>pologne</td>\n      <td>varsovie</td>\n      <td>37967209</td>\n      <td>2004-01-01</td>\n      <td>51</td>\n      <td>1.575391</td>\n    </tr>\n    <tr>\n      <th>8</th>\n      <td>espagne</td>\n      <td>madrid</td>\n      <td>46438422</td>\n      <td>1986-01-01</td>\n      <td>54</td>\n      <td>1.363776</td>\n    </tr>\n    <tr>\n      <th>15</th>\n      <td>italie</td>\n      <td>rome</td>\n      <td>60665551</td>\n      <td>1957-01-01</td>\n      <td>73</td>\n      <td>1.411261</td>\n    </tr>\n    <tr>\n      <th>11</th>\n      <td>france</td>\n      <td>paris</td>\n      <td>66661621</td>\n      <td>1957-01-01</td>\n      <td>74</td>\n      <td>1.301915</td>\n    </tr>\n    <tr>\n      <th>1</th>\n      <td>allemagne</td>\n      <td>berlin</td>\n      <td>82162000</td>\n      <td>1957-01-01</td>\n      <td>96</td>\n      <td>1.370336</td>\n    </tr>\n  </tbody>\n</table>\n</div>"
     },
     "metadata": {},
     "execution_count": 83
    }
   ],
   "source": [
    "df_europe.sort_values(by=['sièges', 'poids'], ascending=[True, False])"
   ]
  },
  {
   "cell_type": "markdown",
   "metadata": {},
   "source": [
    "## Sauver un DataFrame\n",
    "Il est possible de sauver un objet DataFrame sous la forme d'un [fichier csv](https://fr.wikipedia.org/wiki/Comma-separated_values). C'est un format pratique qui peut être lu par la plupart des tableurs comme LibreOffice Calc ou Microsoft Excel. Il faut utiliser la métode `.to_csv()`:"
   ]
  },
  {
   "cell_type": "code",
   "execution_count": 84,
   "metadata": {},
   "outputs": [],
   "source": [
    "df_europe.to_csv(\"europe.csv\")"
   ]
  },
  {
   "cell_type": "markdown",
   "metadata": {},
   "source": [
    "Cette méthode crée un fichier nommé *data.csv* dans le répertoire de travail (allez vérifier!), avec le contenu du DataFrame:\n",
    "\n",
    "```\n",
    ",pays,capitale,population,date d'adhésion,sièges,poids\n",
    "1,allemagne,berlin,82162000,1957-01-01,96,1.3703356988657123\n",
    "2,autriche,vienne,8700471,1995-01-01,18,2.4263669538020842\n",
    "3,belgique,bruxelles,11289853,1957-01-01,21,2.1815127149779783\n",
    "4,bulgarie,sofia,7153784,2007-01-01,17,2.7870184226008328\n",
    "5,chypre,nicosie,848319,2004-01-01,6,8.295045974023676\n",
    "6,croatie,zagreb,4190669,2013-01-01,11,3.078478088741746\n",
    "7,danemark,copenhague,5659715,1973-01-01,13,2.6938631589897866\n",
    "8,espagne,madrid,46438422,1986-01-01,54,1.363776011827881\n",
    "9,estonie,tallinn,1315944,2004-01-01,6,5.347374284648732\n",
    "10,finlande,helsinki,5401267,1995-01-01,13,2.822763201464005\n",
    "11,france,paris,66661621,1957-01-01,74,1.301914879970682\n",
    "12,grèce,athènes,10793526,1981-01-01,21,2.28182689046492\n",
    "13,hongrie,budapest,9830485,2004-01-01,21,2.5053654900782893\n",
    "14,irlande,dublin,4658530,1973-01-01,11,2.7693033411117423\n",
    "15,italie,rome,60665551,1957-01-01,73,1.4112613727889787\n",
    "16,lettonie,riga,1968957,2004-01-01,8,4.765193013788716\n",
    "17,lituanie,vilnius,2888558,2004-01-01,11,4.466201715066578\n",
    "18,luxembourg,luxembourg,576249,1957-01-01,6,12.211466060050068\n",
    "19,malte,la valette,434403,2004-01-01,6,16.198886991198936\n",
    "20,pays-bas,amsterdam,16979120,1957-01-01,26,1.7959114169499812\n",
    "21,pologne,varsovie,37967209,2004-01-01,51,1.5753905797479404\n",
    "22,portugal,lisbonne,10341330,1986-01-01,21,2.381604481215885\n",
    "23,république tchèque,prague,10553853,2004-01-01,21,2.3336460977552242\n",
    "24,roumanie,bucarest,19759968,2007-01-01,32,1.8992865050895604\n",
    "25,slovaquie,bratislava,5426252,2004-01-01,13,2.8097658805528902\n",
    "26,slovénie,ljubljana,2064188,2004-01-01,8,4.545351557537583\n",
    "27,suède,stockholm,9851017,1995-01-01,20,2.381089216689604\n",
    "```"
   ]
  },
  {
   "cell_type": "markdown",
   "metadata": {},
   "source": [
    "Il est alors possible, plus tard, de charger le contenu du fichier csv avec la méthode `.read_csv()`:"
   ]
  },
  {
   "cell_type": "code",
   "execution_count": 90,
   "metadata": {},
   "outputs": [],
   "source": [
    "df_europe_from_csv = pd.read_csv(\"europe.csv\", index_col=0)"
   ]
  },
  {
   "cell_type": "markdown",
   "metadata": {},
   "source": [
    "Un problème de sauvegarder en csv est que si une des colonnes contient des objets python, il peuvent être convertit en un autre type au moment de l'écriture et de la lecture. Dans l'exemple ci-dessus, la colonne `date d'adhésion` n'est plus un objet `datetime64` au moment de la lecture: il a été convertit en objet `str`. "
   ]
  },
  {
   "cell_type": "code",
   "execution_count": 112,
   "metadata": {
    "tags": []
   },
   "outputs": [
    {
     "output_type": "stream",
     "name": "stdout",
     "text": "1957-01-01\n<class 'str'>\n"
    }
   ],
   "source": [
    "A = df_europe_from_csv[\"date d'adhésion\"][1]\n",
    "print(A)\n",
    "print(type(A))"
   ]
  },
  {
   "cell_type": "markdown",
   "metadata": {},
   "source": [
    "Une façon de garder toutes les propriétés des objets python est de les sauver dans un format que l'on appelle *pickle*:"
   ]
  },
  {
   "cell_type": "code",
   "execution_count": 98,
   "metadata": {},
   "outputs": [],
   "source": [
    "# sauvegarde d'un DataFrame dans un fichier pickle\n",
    "df_europe.to_pickle('europe.pkl')\n",
    "\n",
    "# lecture du fichier pickle\n",
    "df_europe_from_pickle = pd.read_pickle('europe.pkl')"
   ]
  },
  {
   "cell_type": "markdown",
   "metadata": {},
   "source": [
    "On voit alors que les dates sont restées des objets `datetime64`:"
   ]
  },
  {
   "cell_type": "code",
   "execution_count": 113,
   "metadata": {
    "tags": []
   },
   "outputs": [
    {
     "output_type": "execute_result",
     "data": {
      "text/plain": "1   1957-01-01\n2   1995-01-01\nName: date d'adhésion, dtype: datetime64[ns]"
     },
     "metadata": {},
     "execution_count": 113
    }
   ],
   "source": [
    "df_europe_from_pickle[\"date d'adhésion\"].head(n=2)"
   ]
  }
 ]
}