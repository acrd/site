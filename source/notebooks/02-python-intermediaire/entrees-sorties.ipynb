{
 "metadata": {
  "language_info": {
   "codemirror_mode": {
    "name": "ipython",
    "version": 3
   },
   "file_extension": ".py",
   "mimetype": "text/x-python",
   "name": "python",
   "nbconvert_exporter": "python",
   "pygments_lexer": "ipython3",
   "version": "3.6.9-final"
  },
  "orig_nbformat": 2,
  "kernelspec": {
   "name": "python36964bitb2f6799a6d294292a84414c9014f9ca3",
   "display_name": "Python 3.6.9 64-bit"
  }
 },
 "nbformat": 4,
 "nbformat_minor": 2,
 "cells": [
  {
   "cell_type": "markdown",
   "metadata": {},
   "source": [
    "# Entrées-sorties"
   ]
  },
  {
   "cell_type": "markdown",
   "metadata": {},
   "source": [
    "Commencer une ligne avec `!` vous donne accès aux commandes du shell. Par exemple, `! ls` permet d'afficher les fichiers présents dans votre répértoire de travail:"
   ]
  },
  {
   "cell_type": "code",
   "execution_count": 101,
   "metadata": {
    "tags": []
   },
   "outputs": [
    {
     "output_type": "stream",
     "name": "stdout",
     "text": "banksy.txt\t\t    exoplanets.csv     iteration.ipynb\ndictionnaires-pandas.ipynb  exoplanets.dat     logique-filtrage.ipynb\nentrees-sorties.ipynb\t    exoplanets-SI.dat  test.txt\neurope.csv\t\t    exo-write.txt      verne-lune.txt\neurope.pkl\t\t    fonctions.ipynb\n"
    }
   ],
   "source": [
    "! ls"
   ]
  },
  {
   "cell_type": "markdown",
   "metadata": {},
   "source": [
    "## Lire un fichier texte\n",
    "Nous avons extrait un passage du livre *De la Terre à la Lune, trajet direct en 97 heures 20 minutes*, paru en 1865 et écrit par Jules Verne (1828-1905). Il est [disponible librement](https://www.gutenberg.org/ebooks/799) sur le site du Projet Gutenberg. Cet extrait est enregistré dans le fichier nommé *verne-lune.txt*.\n",
    "\n",
    "Pour pouvoir importer le texte dans Python, il faut d'abord ouvrir le fichier avec la fonction `open()`:"
   ]
  },
  {
   "cell_type": "code",
   "execution_count": 102,
   "metadata": {},
   "outputs": [],
   "source": [
    "# ouverture du fichier texte\n",
    "file = open('verne-lune.txt', mode='r')"
   ]
  },
  {
   "cell_type": "markdown",
   "metadata": {},
   "source": [
    "Nous avons donné à l'argument `mode` la valeur `r` pour ouvrir le fichier seulement en lecture et pas en écriture (*read-only*). Cela permet d'empêcher toute modification du fichier. Afin de lire tout le fichier, on peut utiliser la méthode `.read()` sur la variable `file`:"
   ]
  },
  {
   "cell_type": "code",
   "execution_count": 103,
   "metadata": {
    "tags": []
   },
   "outputs": [
    {
     "output_type": "stream",
     "name": "stdout",
     "text": "_Longs's-Peak, 12 décembre._\n\nA MM. LES MEMBRES DU BUREAU DE L'OBSERVATOIRE DE CAMBRIDGE.\n\n_Le projectile lancé par la Columbiad de Stone's-Hill a été aperçu par\nMM. Belfast et J.-T. Maston, le 12 décembre, à huit heures\nquarante-sept minutes du soir, la Lune étant entrée dans son dernier\nquartier.\n\nCe projectile n'est point arrivé à son but.  Il a passé à côté, mais\nassez près, cependant, pour être retenu par l'attraction lunaire.\n\nLà, son mouvement rectiligne s'est changé en un mouvement circulaire\nd'une rapidité vertigineuse, et il a été entraîné suivant une orbite\nelliptique autour de la Lune, dont il est devenu le véritable\nsatellite.\n\nLes éléments de ce nouvel astre n'ont pas encore pu être déterminés.\nOn ne connaît ni sa vitesse de translation, ni sa vitesse de rotation.\nLa distance qui le sépare de la surface de la Lune peut être évaluée à\ndeux mille huit cent trente-trois milles environ (-- 4,500 lieues).\n\nMaintenant, deux hypothèses peuvent se produire et amener une\nmodification dans l'état des choses:\n\nOu l'attraction de la Lune finira par l'emporter, et les voyageurs\natteindront le but de leur voyage;\n\nOu, maintenu dans un ordre immutable, le projectile gravitera autour\ndu disque lunaire jusqu'à la fin des siècles.\n\nC'est ce que les observations apprendront un jour, mais jusqu'ici la\ntentative du Gun-Club n'a eu d'autre résultat que de doter d'un nouvel\nastre notre système solaire._\n\n                                                    J.-M. BELFAST.\n\n\n"
    }
   ],
   "source": [
    "# lecture du fichier\n",
    "print(file.read())"
   ]
  },
  {
   "cell_type": "markdown",
   "metadata": {},
   "source": [
    "Une fois fini, il faut libérer la mémoire en fermant le fichier. On peut vérifier si le fichier est ouvert ou fermé en affichant l'attribut `closed` de l'objet `file`:"
   ]
  },
  {
   "cell_type": "code",
   "execution_count": 104,
   "metadata": {
    "tags": []
   },
   "outputs": [
    {
     "output_type": "stream",
     "name": "stdout",
     "text": "False\n"
    }
   ],
   "source": [
    "# verifie si le fichier est fermé\n",
    "print(file.closed)"
   ]
  },
  {
   "cell_type": "markdown",
   "metadata": {},
   "source": [
    "Le fichier n'est pas fermé. On peut le fermer avec la méthode `.close()`:"
   ]
  },
  {
   "cell_type": "code",
   "execution_count": 105,
   "metadata": {
    "tags": []
   },
   "outputs": [
    {
     "output_type": "stream",
     "name": "stdout",
     "text": "True\n"
    }
   ],
   "source": [
    "# fermeture du fichier\n",
    "file.close()\n",
    "\n",
    "# verifie si le fichier est fermé\n",
    "print(file.closed)"
   ]
  },
  {
   "cell_type": "markdown",
   "metadata": {},
   "source": [
    "On peut aussi ne lire qu'une seule ligne avec la méthode `.readline()`. Si on utilise de nouveau cette méthode, alors Python lit la ligne suivante:"
   ]
  },
  {
   "cell_type": "code",
   "execution_count": 106,
   "metadata": {
    "tags": []
   },
   "outputs": [
    {
     "output_type": "stream",
     "name": "stdout",
     "text": "_Longs's-Peak, 12 décembre._\n\n\n\nA MM. LES MEMBRES DU BUREAU DE L'OBSERVATOIRE DE CAMBRIDGE.\n\n"
    }
   ],
   "source": [
    "# ouverture du fichier texte\n",
    "file = open('verne-lune.txt', mode='r')\n",
    "\n",
    "# lecture des 3 premieres lignes\n",
    "print(file.readline())\n",
    "print(file.readline())\n",
    "print(file.readline())\n",
    "\n",
    "# fermeture du fichier\n",
    "file.close()"
   ]
  },
  {
   "cell_type": "markdown",
   "metadata": {},
   "source": [
    "### Exercice\n",
    "\n",
    "1. ouvrir le fichier *banksy.txt* en lecture seul\n",
    "2. afficher le fichier\n",
    "3. fermer le fichier"
   ]
  },
  {
   "cell_type": "code",
   "execution_count": 107,
   "metadata": {
    "tags": []
   },
   "outputs": [
    {
     "output_type": "stream",
     "name": "stdout",
     "text": "\n                        .s$$$Ss.\n            .8,         $$$. _. .              ..sS$$$$$\"  ...,.;\n o.   ,@..  88        =.$\"$'  '          ..sS$$$$$$$$$$$$s. _;\"'\n  @@@.@@@. .88.   `  ` \"\"l. .sS$$.._.sS$$$$$$$$$$$$S'\"'\n   .@@@q@@.8888o.         .s$$$$$$$$$$$$$$$$$$$$$'\n     .:`@@@@33333.       .>$$$$$$$$$$$$$$$$$$$$'\n     .: `@@@@333'       ..>$$$$$$$$$$$$$$$$$$$'\n      :  `@@333.     `.,   s$$$$$$$$$$$$$$$$$'\n      :   `@33       $$ S.s$$$$$$$$$$$$$$$$$'\n      .S   `Y      ..`  ,\"$' `$$$$$$$$$$$$$$\n      $s  .       ..S$s,    . .`$$$$$$$$$$$$.\n      $s .,      ,s ,$$$$,,sS$s.$$$$$$$$$$$$$.\n      / /$$SsS.s. ..s$$$$$$$$$$$$$$$$$$$$$$$$$.\n     /`.`$$$$$dN.ssS$$'`$$$$$$$$$$$$$$$$$$$$$$$.\n    ///   `$$$$$$$$$'    `$$$$$$$$$$$$$$$$$$$$$$.\n   ///|     `S$$S$'       `$$$$$$$$$$$$$$$$$$$$$$.\n  / /                      $$$$$$$$$$$$$$$$$$$$$.\n                           `$$$$$$$$$$$$$$$$$$$$$s.\n                            $$$\"'        .?T$$$$$$$\n                           .$'        ...      ?$$#\\\n                           !       -=S$$$$$s\n                         .!       -=s$$'  `$=-_      :\n                        ,        .$$$'     `$,       .|\n                       ,       .$$$'          .        ,\n                      ,     ..$$$'\n                          .s$$$'                 `s     .\n                   .   .s$$$$'                    $s. ..$s\n                  .  .s$$$$'                      `$s=s$$$\n                    .$$$$'                         ,    $$s\n               `   \" .$$'                               $$$\n               ,   s$$'                              .  $$$s\n            ` .s..s$'                                .s ,$$\n             .s$$$'                                   \"s$$$,\n          -   $$$'                                     .$$$$.\n        .\"  .s$$s                                     .$',',$.\n        $s.s$$$$S..............   ................    $$....s$s......\n         `\"\"'           `     ```\"\"\"\"\"\"\"\"\"\"\"\"\"\"\"         `\"\"   ``\n\n\n"
    }
   ],
   "source": [
    "# ouverture du fichier texte\n",
    "file = open('banksy.txt', mode='r')\n",
    "\n",
    "# lecture du fichier\n",
    "print(file.read())\n",
    "\n",
    "# fermeture du fichier\n",
    "file.close()"
   ]
  },
  {
   "cell_type": "markdown",
   "metadata": {},
   "source": [
    "## Gestionnaire de contexte\n",
    "Le flux d'instruction introduit précédemment peut poser problème: si une erreur intervient avant la fermeture du fichier (avec la méthode `.close()`), celui-ci ne sera pas fermé et des données pourraient être perdues.\n",
    "\n",
    "La meilleure manière de faire est d'utiliser un **gestionnaire de contexte**, que l'on utilise avec l'instruction `with` de la façon suivante:"
   ]
  },
  {
   "cell_type": "code",
   "execution_count": 108,
   "metadata": {
    "tags": []
   },
   "outputs": [
    {
     "output_type": "stream",
     "name": "stdout",
     "text": "_Longs's-Peak, 12 décembre._\n\n"
    }
   ],
   "source": [
    "# ouverture et lecture du fichier avec un gestionnaire de contexte\n",
    "with open('verne-lune.txt', mode='r') as file:\n",
    "    print(file.readline())"
   ]
  },
  {
   "cell_type": "markdown",
   "metadata": {},
   "source": [
    "La fermeture du fichier est alors implicite. On peut aussi écrire dans un fichier avec la méthode `.write()`. Pour cela, il faut ouvrir le fichier avec le mode `'w'` (*write*):"
   ]
  },
  {
   "cell_type": "code",
   "execution_count": 109,
   "metadata": {},
   "outputs": [],
   "source": [
    "# ouverture et écriture dans un fichier avec un gestionnaire de contexte\n",
    "with open('test.txt', mode='w') as file:\n",
    "    file.write('Je sais écrire dans un fichier!\\nSuper!')"
   ]
  },
  {
   "cell_type": "markdown",
   "metadata": {},
   "source": [
    "Le caractère spécial `\\n` dans la chaîne de caractères permet le retour à la ligne.\n",
    "\n",
    "Il existe de nombreux [modes d'ouverture d'un fichier](https://docs.python.org/fr/3/library/functions.html#open), les principaux étant:\n",
    "\n",
    "| Caractère | Signification\n",
    "|--|--\n",
    "| `'r'` | ouvre en lecture (par défaut)\n",
    "| `'w'` | ouvre en écriture, tronquant le fichier\n",
    "| `'x'` | ouvre pour une création exclusive, échouant si le fichier existe déjà\n",
    "| `'a'` | ouvre en écriture, ajoutant à la fin du fichier s'il existe"
   ]
  },
  {
   "cell_type": "markdown",
   "metadata": {},
   "source": [
    "### Exercice\n",
    "En utilisant un gestionnaire de contexte et une boucle `for`:\n",
    "\n",
    "1. afficher la ligne 13 du fichier *verne-lune.txt*. Pour cela il faut exécuter 12 fois la méthode `.readline()` sans `print()`, puis une treizième fois avec `print()`\n",
    "2. créer un fichier nommé *exo-write.txt* dans lequel vous écrirez tous les entiers entre 1 et 100 (avec un entier par ligne)"
   ]
  },
  {
   "cell_type": "code",
   "execution_count": 110,
   "metadata": {
    "tags": []
   },
   "outputs": [
    {
     "output_type": "stream",
     "name": "stdout",
     "text": "Là, son mouvement rectiligne s'est changé en un mouvement circulaire\n\n"
    }
   ],
   "source": [
    "# 1. ouverture et lecture du fichier avec un gestionnaire de contexte\n",
    "with open('verne-lune.txt', mode='r') as file:\n",
    "    for i in range(12):\n",
    "        file.readline()\n",
    "    print(file.readline())"
   ]
  },
  {
   "cell_type": "code",
   "execution_count": 111,
   "metadata": {},
   "outputs": [],
   "source": [
    "# 2. ouverture et écriture dans un fichier avec un gestionnaire de contexte\n",
    "with open('exo-write.txt', mode='w') as file:\n",
    "    for i in range(100):\n",
    "        file.write(str(i+1)+'\\n')"
   ]
  },
  {
   "cell_type": "markdown",
   "metadata": {},
   "source": [
    "## Lire le clavier\n",
    "La fonction `input()` lit tout ce qui est écrit au clavier comme une chaîne de caractères:"
   ]
  },
  {
   "cell_type": "code",
   "execution_count": 112,
   "metadata": {
    "tags": []
   },
   "outputs": [
    {
     "output_type": "stream",
     "name": "stdout",
     "text": "vous avez entre: Salut!\n<class 'str'>\n"
    }
   ],
   "source": [
    "# lire qui est ecrit au clavier (finir avec la touche entrée)\n",
    "chaine = input(\"Entrer votre message avec input:\\n\")\n",
    "\n",
    "# afficher ce qui a ete ecrit\n",
    "print(\"vous avez entre:\", chaine)\n",
    "print(type(chaine))"
   ]
  },
  {
   "cell_type": "markdown",
   "metadata": {},
   "source": [
    "### Exercice\n",
    "\n",
    "1. avec la fonction `input()`, demander à l'utilisateur d'entrer un entier au clavier et affecter la valeur à une variable `sn`\n",
    "2. convertir la variable `sn` en entier avec la fonction `int()`, et affecter la valeur à une variable `n`\n",
    "3. afficher le carré de `n` à l'écran"
   ]
  },
  {
   "cell_type": "code",
   "execution_count": 113,
   "metadata": {
    "tags": []
   },
   "outputs": [
    {
     "output_type": "stream",
     "name": "stdout",
     "text": "16\n"
    }
   ],
   "source": [
    "# entree au clavier\n",
    "sn = input(\"Entrer un entier: \\n\")\n",
    "\n",
    "# conversion en entier\n",
    "n = int(sn)\n",
    "\n",
    "# afficher le carre de n\n",
    "print(n*n)"
   ]
  },
  {
   "cell_type": "markdown",
   "metadata": {},
   "source": [
    "## Format défini\n",
    "Dans l'exemple suivant nous affichons les valeurs des variables `x` et `n` avec un format défini. La syntaxe est similaire à celle d'autres langages comme Matlab ou C:"
   ]
  },
  {
   "cell_type": "code",
   "execution_count": 114,
   "metadata": {
    "tags": []
   },
   "outputs": [
    {
     "output_type": "stream",
     "name": "stdout",
     "text": "x = 45.988, n = 6\nx = 4.599e+01, n =     6\n"
    }
   ],
   "source": [
    "# création des variables\n",
    "x = 45.9876\n",
    "n = 6\n",
    "\n",
    "# affichage avec un format defini\n",
    "print('x = %5.3f, n = %d' % (x,n))\n",
    "print('x = %5.3e, n = %5d' % (x,n))"
   ]
  },
  {
   "cell_type": "markdown",
   "metadata": {},
   "source": [
    "`%5d`\n",
    "\n",
    "- `5` est le nombre de caractères imprimés, y compris les espaces blancs\n",
    "- `d` indique un entier\n",
    "\n",
    "`%5.3f`\n",
    "\n",
    "- `5` est le nombre total de caractères imprimés, y compris le signe - si le chiffre est négatif, ou tout autre caractère. Cependant le nombre de caractères imprimés sera supérieur à ce chiffre si il est trop petit pour pouvoir atteindre la pécision recquise dans l'affichage: dans l'exemple donné, le nombre total de caractères imprimés est 6\n",
    "- `3` est le nombre de chiffres après le point décimal (6 par défaut)\n",
    "- `f` donne le type, ici le format fixe pour un réel\n",
    "\n",
    "`%5.3e`\n",
    "\n",
    "- la seule différence est `e` qui donne le type d'affichage exponentiel\n",
    "\n",
    "Une syntaxe alternative a été introduite depuis Python 2.6 avec la méthode `.format()` des chaînes de caractères:"
   ]
  },
  {
   "cell_type": "code",
   "execution_count": 115,
   "metadata": {
    "tags": []
   },
   "outputs": [
    {
     "output_type": "stream",
     "name": "stdout",
     "text": "x = 45.987600, n = 6\nx =   45.988, n = 6\n"
    }
   ],
   "source": [
    "print('x = {:f}, n = {}'.format(x,n))\n",
    "print('x = {:8.3f}, n = {:d}'.format(x,n))"
   ]
  },
  {
   "cell_type": "markdown",
   "metadata": {},
   "source": [
    "Un bon endroit pour découvrir toutes les possibilités offerte par le formatage en Python, dans les deux styles d'écriture, est le [site pyformat](https://pyformat.info)."
   ]
  },
  {
   "cell_type": "markdown",
   "metadata": {},
   "source": [
    "## Lire et écrire des tableaux Numpy\n",
    "Pour importer les données d'un fichier texte dans un tableau Numpy on peut utiliser la fonction `loadtxt()`. Chaque ligne du fichier doit avoir le même nombre de valeurs. Par défaut les lignes commençant par # ne sont pas lues. Elles sont généralement utilisées pour décrire les données dans l'en-tête du fichier.\n",
    "\n",
    "Nous disposons d'un fichier *exoplanets.dat* qui décrit les caractéristiques de 256 [exoplanètes](https://fr.wikipedia.org/wiki/Exoplan%C3%A8te). Ces données sont tirées du site internet [exoplanets.org](http://exoplanets.org). Chaque ligne du fichier caractérise une exoplanète et l'étoile autour de laquelle elle gravite. Les quatre colonnes donnent:\n",
    "\n",
    "1. le demi-grand axe de l'orbite parcourue par la planète en [unités astronomiques](https://fr.wikipedia.org/wiki/Unit%C3%A9_astronomique) ;\n",
    "2. la période orbitale en jours ;\n",
    "3. la masse de la planète en unités de masse de Jupiter ;\n",
    "4. la masse de l'etoile autour de laquelle la planète gravite en unités de masse solaire.\n",
    "\n",
    "Importons les données dans la variable `data` grâce à la fonction `loadtxt()` de Numpy:"
   ]
  },
  {
   "cell_type": "code",
   "execution_count": 116,
   "metadata": {},
   "outputs": [],
   "source": [
    "# importation du module numpy\n",
    "import numpy as np\n",
    "\n",
    "# importation des données\n",
    "data = np.loadtxt('exoplanets.dat')"
   ]
  },
  {
   "cell_type": "markdown",
   "metadata": {},
   "source": [
    "Nous vérifions que `data` est bien un tableau Numpy de forme (256, 4):"
   ]
  },
  {
   "cell_type": "code",
   "execution_count": 117,
   "metadata": {
    "tags": []
   },
   "outputs": [
    {
     "output_type": "stream",
     "name": "stdout",
     "text": "<class 'numpy.ndarray'>\n(256, 4)\n"
    }
   ],
   "source": [
    "print(type(data))\n",
    "print(data.shape)"
   ]
  },
  {
   "cell_type": "markdown",
   "metadata": {},
   "source": [
    "Plutôt que de créer un tableau 2D, il est possible de créer 4 tableaux 1D contenant les données de chaque colonne directement avec l'argument `unpack`:"
   ]
  },
  {
   "cell_type": "code",
   "execution_count": 118,
   "metadata": {},
   "outputs": [],
   "source": [
    "a, p, mp, me = np.loadtxt('exoplanets.dat', unpack=True)"
   ]
  },
  {
   "cell_type": "markdown",
   "metadata": {},
   "source": [
    "Nous voulons changer les unités des données en [unités S.I.](https://fr.wikipedia.org/wiki/Syst%C3%A8me_international_d%27unit%C3%A9s) et sauvegarder les nouvelles données dans un nouveau fichier. D'abord, changeons les unités:"
   ]
  },
  {
   "cell_type": "code",
   "execution_count": 119,
   "metadata": {},
   "outputs": [],
   "source": [
    "# set constants\n",
    "au2m = 149597870700. # conversion from astronomical units to m\n",
    "day2seconds = 24.* 60.* 60. # conversion from day to seconds\n",
    "M_jupiter = 1.898e27 # Jupiter mass in kg\n",
    "M_sun = 1.9891e30 # Solar mass in kg\n",
    "\n",
    "# change units to SI\n",
    "a_SI = a * au2m\n",
    "p_SI = p * day2seconds\n",
    "mp_SI = mp * M_jupiter\n",
    "me_SI = me * M_sun"
   ]
  },
  {
   "cell_type": "markdown",
   "metadata": {},
   "source": [
    "On peut ensuite sauvegarder les nouvelles données dans le fichier *exoplanets-SI.dat* avec la fonction Numpy `savetxt()`:"
   ]
  },
  {
   "cell_type": "code",
   "execution_count": 120,
   "metadata": {},
   "outputs": [],
   "source": [
    "np.savetxt('exoplanets-SI.dat', np.c_[a_SI, p_SI, mp_SI, me_SI], fmt='%10.3e')"
   ]
  },
  {
   "cell_type": "markdown",
   "metadata": {},
   "source": [
    "On a utilisé la commande Numpy `c_[]` pour concaténer en colonnes les tableaux 1D. L'argument `fmt` permet de spécifier le format d'écriture, avec la même syntaxe vue plus haut pour `print`."
   ]
  },
  {
   "cell_type": "markdown",
   "metadata": {},
   "source": [
    "## Importer des données mixtes avec Pandas\n",
    "Il arrive souvent que les données à importer soient de types différents. Il n'est pas très pratique de les importer avec Numpy. On peut alors utiliser le module Pandas. Nous avons sauvegardé un fichier plus complet contenant les informations de 3236 exoplanètes, sous la forme d'un fichier csv. La signification des différentes colonnes est expliquée sur le site [exoplanets.org](http://exoplanets.org/table). Ces colonnes contiennent à la fois des données numériques et du texte. On ne peut pas utiliser la fonction `loadtxt()`.\n",
    "\n",
    "Comme expliqué dans le module *Dictionnaires et Pandas*, on utilise la fonction `read_csv()` pour importer et créer un DataFrame:"
   ]
  },
  {
   "cell_type": "code",
   "execution_count": 121,
   "metadata": {},
   "outputs": [],
   "source": [
    "# importer le module pandas\n",
    "import pandas as pd\n",
    "\n",
    "# importer les données dans un DataFrame\n",
    "data = pd.read_csv('exoplanets.csv')"
   ]
  },
  {
   "cell_type": "markdown",
   "metadata": {},
   "source": [
    "Nous vérifions que les données ont bien été importées:"
   ]
  },
  {
   "cell_type": "code",
   "execution_count": 122,
   "metadata": {},
   "outputs": [
    {
     "output_type": "execute_result",
     "data": {
      "text/plain": "            NAME  ...                                           FIRSTURL\n0   Kepler-107 d  ...  http://adsabs.harvard.edu/abs/2014arXiv1402.6534R\n1  Kepler-1049 b  ...  http://adsabs.harvard.edu/abs/2016ApJ...822...86M\n2   Kepler-813 b  ...  http://adsabs.harvard.edu/abs/2016ApJ...822...86M\n\n[3 rows x 12 columns]",
      "text/html": "<div>\n<style scoped>\n    .dataframe tbody tr th:only-of-type {\n        vertical-align: middle;\n    }\n\n    .dataframe tbody tr th {\n        vertical-align: top;\n    }\n\n    .dataframe thead th {\n        text-align: right;\n    }\n</style>\n<table border=\"1\" class=\"dataframe\">\n  <thead>\n    <tr style=\"text-align: right;\">\n      <th></th>\n      <th>NAME</th>\n      <th>MSINI</th>\n      <th>A</th>\n      <th>PER</th>\n      <th>ECC</th>\n      <th>OM</th>\n      <th>T0</th>\n      <th>K</th>\n      <th>ORBREF</th>\n      <th>ORBURL</th>\n      <th>FIRSTREF</th>\n      <th>FIRSTURL</th>\n    </tr>\n  </thead>\n  <tbody>\n    <tr>\n      <th>0</th>\n      <td>Kepler-107 d</td>\n      <td>NaN</td>\n      <td>0.078010</td>\n      <td>7.958203</td>\n      <td>NaN</td>\n      <td>90.0</td>\n      <td>2.454971e+06</td>\n      <td>NaN</td>\n      <td>Rowe 2014</td>\n      <td>http://adsabs.harvard.edu/abs/2014arXiv1402.6534R</td>\n      <td>Rowe 2014</td>\n      <td>http://adsabs.harvard.edu/abs/2014arXiv1402.6534R</td>\n    </tr>\n    <tr>\n      <th>1</th>\n      <td>Kepler-1049 b</td>\n      <td>NaN</td>\n      <td>0.034472</td>\n      <td>3.273461</td>\n      <td>0.0</td>\n      <td>90.0</td>\n      <td>NaN</td>\n      <td>NaN</td>\n      <td>Morton 2016</td>\n      <td>http://adsabs.harvard.edu/abs/2016ApJ...822...86M</td>\n      <td>Morton 2016</td>\n      <td>http://adsabs.harvard.edu/abs/2016ApJ...822...86M</td>\n    </tr>\n    <tr>\n      <th>2</th>\n      <td>Kepler-813 b</td>\n      <td>NaN</td>\n      <td>0.137610</td>\n      <td>19.129473</td>\n      <td>0.0</td>\n      <td>90.0</td>\n      <td>NaN</td>\n      <td>NaN</td>\n      <td>Morton 2016</td>\n      <td>http://adsabs.harvard.edu/abs/2016ApJ...822...86M</td>\n      <td>Morton 2016</td>\n      <td>http://adsabs.harvard.edu/abs/2016ApJ...822...86M</td>\n    </tr>\n  </tbody>\n</table>\n</div>"
     },
     "metadata": {},
     "execution_count": 122
    }
   ],
   "source": [
    "# affichage des 3 premières lignes\n",
    "data.head(n=3)"
   ]
  },
  {
   "cell_type": "markdown",
   "metadata": {},
   "source": [
    "On voit que les données manquantes ont été remplacées par NaN ([Not-a-Number](https://fr.wikipedia.org/wiki/NaN)).\n",
    "\n",
    "On peut maintenant utiliser ces données, par exemple pour savoir combien de planètes ont été reportées pour la première fois dans la référence *Morton 2016*:"
   ]
  },
  {
   "cell_type": "code",
   "execution_count": 123,
   "metadata": {
    "tags": []
   },
   "outputs": [
    {
     "output_type": "stream",
     "name": "stdout",
     "text": "1283\n"
    }
   ],
   "source": [
    "# nombre de planetes dans Morton 2016\n",
    "print(np.sum(data['FIRSTREF'] == 'Morton 2016'))"
   ]
  },
  {
   "cell_type": "markdown",
   "metadata": {},
   "source": [
    "Remarquez que dans cette commande on a sommé les éléments d'un objet Series contenant des booléens. Dans ce cas, la valeur `True` est considéré comme un `1`, et la valeur `False` comme un `0`."
   ]
  }
 ]
}