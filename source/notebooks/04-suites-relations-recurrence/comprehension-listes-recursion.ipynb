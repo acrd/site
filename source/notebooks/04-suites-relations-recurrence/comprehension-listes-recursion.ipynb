{
 "cells": [
  {
   "cell_type": "markdown",
   "metadata": {},
   "source": [
    "# Compréhensions de listes et récursion\n",
    "\n",
    "Les listes de Python sont très versatiles ; elles sont beaucoup utilisées dans des situations dont le point commun est de nécessiter le stockage d'élements en séquence, c'est-à-dire avec un ordre donné.\n",
    "\n",
    "On rappelle que les listes de Python sont des objets mutable (à l'opposé des tuples que l'on note avec une parenthèse) qui possèdent un grand nombre de [méthodes de classe](../01-python-base/fonctions-modules.ipynb#Méthodes-de-liste). Il existe de plus une manière très expressive de manipuler les listes : les **compréhensions de listes** (« list comprehension » en anglais).\n",
    "\n",
    "Les schémas de manipulations les plus fréquents pour les listes sont:\n",
    "\n",
    "* **schémas de construction** de liste de manière algorithmique, c'est-à-dire pas à partir d'une autre liste\n",
    "\n",
    "* **schémas de transformation** en appliquant à chaque élement de la liste une fonction à un argument\n",
    "\n",
    "* **schémas de filtrage** en sélectionnant les élements d'une liste avec une condition donnée agissant sur chaque élement de la liste (voir [Logique, structures de contrôle et filtrage](../02-python-intermediaire/logique-filtrage.ipynb))\n",
    "\n",
    "* **schémas de réduction** en réduisant l'information disponible dans la liste par une procédure algorithmique\n",
    "\n",
    "Les compréhensions de liste permettent d'appliquer les trois premiers schémas de manière élégante, et surtout très intuitive à la lecture. Les schémas de réductions peuvent eux être généralisés à l'aide des fonctionnelles."
   ]
  },
  {
   "cell_type": "markdown",
   "metadata": {},
   "source": [
    "## Schéma de construction\n",
    "\n",
    "On peut créer une liste à partir d'un intervalle d'entiers en définissant la fonction suivante:"
   ]
  },
  {
   "cell_type": "code",
   "execution_count": 1,
   "metadata": {},
   "outputs": [],
   "source": [
    "# definition de la fonction naturelsFor\n",
    "def naturelsFor(a, b):\n",
    "    ''' retourne une liste d'entiers [a,b[ '''\n",
    "    listRes = []\n",
    "    for k in range(a, b):\n",
    "        listRes.append(k)\n",
    "    return listRes"
   ]
  },
  {
   "cell_type": "markdown",
   "metadata": {},
   "source": [
    "Pour vérifier le fonctionnement de la fonction, on peut utiliser l'instruction `assert`. Cette instruction vérifie que la fonction produit bien le résultat attendu. Si ce n'est pas le cas elle renvoie un message d'erreur, sinon elle ne renvoie rien:"
   ]
  },
  {
   "cell_type": "code",
   "execution_count": 2,
   "metadata": {},
   "outputs": [],
   "source": [
    "assert naturelsFor(2,8) == [2, 3, 4, 5, 6, 7]\n",
    "assert naturelsFor(-3,1) == [-3, -2, -1, 0]"
   ]
  },
  {
   "cell_type": "markdown",
   "metadata": {},
   "source": [
    "### Exercice\n",
    "On rappelle que l'objet de type `range` est différent d'une liste (vu [par ici](../02-python-intermediaire/iteration.ipynb#L'instruction-for)). Pour le convertir en liste, on peut utiliser la fonction `list()`. Proposez un test de la fonction `naturelsFor()` avec `assert`, en comparant son résultat au résultat d'une liste construite avec `range()`."
   ]
  },
  {
   "cell_type": "code",
   "execution_count": 3,
   "metadata": {
    "tags": [
     "solution"
    ]
   },
   "outputs": [],
   "source": [
    "assert naturelsFor(-3,1) == list(range(-3,1))"
   ]
  },
  {
   "cell_type": "markdown",
   "metadata": {},
   "source": [
    "## Compréhension de liste\n",
    "\n",
    "La fonction `naturelsFor` n'est pas optimisée du tout, et sa lecture est plutôt lourde. Elle peut se réduire à la simple ligne:"
   ]
  },
  {
   "cell_type": "code",
   "execution_count": 4,
   "metadata": {
    "tags": []
   },
   "outputs": [
    {
     "output_type": "stream",
     "name": "stdout",
     "text": "[-3, -2, -1, 0]\n"
    }
   ],
   "source": [
    "# definition de la fonction naturelsFor2\n",
    "def naturelsFor2(a, b):\n",
    "    ''' retourne une liste d'entiers [a,b[ '''\n",
    "    return [k for k in range(a, b)]\n",
    "\n",
    "# appel de la fonction\n",
    "print(naturelsFor2(-3,1))"
   ]
  },
  {
   "cell_type": "markdown",
   "metadata": {},
   "source": [
    "Ce qui est entre crochet `[...]` est une compréhension de liste. Elle peut se lire:\n",
    "\n",
    "> « Construit la liste des $k$ pour $k$ dans l'intervalle $[a, b[$ »\n",
    "\n",
    "On dit que les compréhensions de liste ont un *caractère déclaratif*."
   ]
  },
  {
   "cell_type": "markdown",
   "metadata": {},
   "source": [
    "La syntaxe générale d'une compréhension de liste est la suivante:\n",
    "\n",
    "> `[ <elem> for <var> in <seq> ]`\n",
    "\n",
    "où `<var>` est la variable de compréhension, `<elem>` est une expression appliquée aux valeurs successives de la variable `<var>` et `<seq>` est une expression qui retourne une séquence."
   ]
  },
  {
   "cell_type": "markdown",
   "metadata": {},
   "source": [
    "### Exercice\n",
    "Notez que `<seq>` peut être n'importe quelle séquence, ce qui inclue donc les chaînes de caractères `str`. A vous de faire des essais.\n"
   ]
  },
  {
   "cell_type": "code",
   "execution_count": 5,
   "metadata": {},
   "outputs": [],
   "source": [
    "mot = \"ABCDEFG\""
   ]
  },
  {
   "cell_type": "markdown",
   "metadata": {},
   "source": [
    "Grâce à une compréhension de liste, créer une liste de chaîne de caractères à partir de la variable `mot` de la forme `['A0', 'B0', 'C0', ...]`"
   ]
  },
  {
   "cell_type": "code",
   "execution_count": 6,
   "metadata": {
    "tags": [
     "solution"
    ]
   },
   "outputs": [
    {
     "output_type": "execute_result",
     "data": {
      "text/plain": "['A0', 'B0', 'C0', 'D0', 'E0', 'F0', 'G0']"
     },
     "metadata": {},
     "execution_count": 6
    }
   ],
   "source": [
    "[s+'0' for s in mot]"
   ]
  },
  {
   "cell_type": "markdown",
   "metadata": {},
   "source": [
    "## Schéma de transformation\n",
    "\n",
    "On a plusieurs choix pour utiliser un schéma de transformation. Ainsi, si l'on a défini la fonction"
   ]
  },
  {
   "cell_type": "code",
   "execution_count": 7,
   "metadata": {},
   "outputs": [],
   "source": [
    "# definition de la fonction carre\n",
    "def carre(x):\n",
    "    ''' retourne le carre de x '''\n",
    "    return x*x"
   ]
  },
  {
   "cell_type": "markdown",
   "metadata": {},
   "source": [
    "alors, on peut écrire"
   ]
  },
  {
   "cell_type": "code",
   "execution_count": 8,
   "metadata": {},
   "outputs": [
    {
     "output_type": "execute_result",
     "data": {
      "text/plain": "[1, 4, 9, 16, 25, 36]"
     },
     "metadata": {},
     "execution_count": 8
    }
   ],
   "source": [
    "[carre(k) for k in range(1, 7)]"
   ]
  },
  {
   "cell_type": "markdown",
   "metadata": {},
   "source": [
    "afin d'appliquer la fonction `carre()` à chaque entier compris dans $[1,7[$."
   ]
  },
  {
   "cell_type": "markdown",
   "metadata": {},
   "source": [
    "### Exercice\n",
    "Il est possible d'avoir une écriture encore plus compacte en utilisant les [formes lambda](../02-python-intermediaire/fonctions.ipynb#Forme-lambda). Proposez une alternative à la question précédente avec une forme lambda."
   ]
  },
  {
   "cell_type": "code",
   "execution_count": 9,
   "metadata": {
    "tags": [
     "solution"
    ]
   },
   "outputs": [
    {
     "output_type": "execute_result",
     "data": {
      "text/plain": "[1, 4, 9, 16, 25, 36]"
     },
     "metadata": {},
     "execution_count": 9
    }
   ],
   "source": [
    "[(lambda x: x*x)(x) for x in range(1, 7)]"
   ]
  },
  {
   "cell_type": "markdown",
   "metadata": {},
   "source": [
    "Cependant, ce n'est pas optimal car dans ce cas, vous aller créer à la volée 6 formes lambda qui sont en fait les mêmes. Mais vous faites l'économie de nommer la fonction, ce qui peut-être le but."
   ]
  },
  {
   "cell_type": "markdown",
   "metadata": {},
   "source": [
    "## La fonction `map()`\n",
    "La fonction générique `map()` offre une alternative aux compréhensions de liste pour exprimer de façon concise des transformations de listes. \n",
    "\n",
    "La fonction `map()` applique une fonction sur un objet, par exemple sur une liste:"
   ]
  },
  {
   "cell_type": "code",
   "execution_count": 10,
   "metadata": {
    "tags": []
   },
   "outputs": [
    {
     "output_type": "execute_result",
     "data": {
      "text/plain": "<map at 0x7fa2c12afe48>"
     },
     "metadata": {},
     "execution_count": 10
    }
   ],
   "source": [
    "map(lambda x : x*x, [1, 2, 3, 4, 5])"
   ]
  },
  {
   "cell_type": "markdown",
   "metadata": {},
   "source": [
    "`map()` renvoie un **itérateur** et non pas une liste. Un itérateur est une notion avancée de python que nous ne traiterons pas en détail ici. Afin de le transformer en liste, on peut utiliser la fonction `list()`:"
   ]
  },
  {
   "cell_type": "code",
   "execution_count": 11,
   "metadata": {},
   "outputs": [
    {
     "output_type": "execute_result",
     "data": {
      "text/plain": "[1, 4, 9, 16, 25]"
     },
     "metadata": {},
     "execution_count": 11
    }
   ],
   "source": [
    "list(map(lambda x : x*x, [1, 2, 3, 4, 5]))"
   ]
  },
  {
   "cell_type": "markdown",
   "metadata": {},
   "source": [
    "La forme lambda est bien adaptée dans ce cas."
   ]
  },
  {
   "cell_type": "markdown",
   "metadata": {},
   "source": [
    "## Schéma de filtrage\n",
    "On peut ajouter la possibilité de faire du filtrage sur les élements sur lesquels on itère dans `<seq>`. La syntaxe est la suivante:\n",
    "\n",
    "> `[ <elem> for <var> in <seq> if <condition> ]`\n",
    "\n",
    "où `<condition>` est une expression booléenne portant sur la variable de compréhension, ici `<var>`. Dans cet exemple, on prend le carré de chaque élément de la liste, à condition que l'élément de la liste soit pair:"
   ]
  },
  {
   "cell_type": "code",
   "execution_count": 12,
   "metadata": {},
   "outputs": [
    {
     "output_type": "execute_result",
     "data": {
      "text/plain": "[4, 16, 36]"
     },
     "metadata": {},
     "execution_count": 12
    }
   ],
   "source": [
    "[k*k for k in range(1, 7) if k%2 == 0]"
   ]
  },
  {
   "source": [
    "On peut donner une instruction alternative si la condition n'est pas remplie avec `else`. Par exemple, on applique la fonction carre pour les éléments pairs, et la fonction cube pour les éléments impairs:"
   ],
   "cell_type": "markdown",
   "metadata": {}
  },
  {
   "cell_type": "code",
   "execution_count": 13,
   "metadata": {},
   "outputs": [
    {
     "output_type": "execute_result",
     "data": {
      "text/plain": "[1, 4, 27, 16, 125, 36]"
     },
     "metadata": {},
     "execution_count": 13
    }
   ],
   "source": [
    "[k*k if k%2 == 0 else k*k*k for k in range(1, 7)]"
   ]
  },
  {
   "source": [
    "Attention: dans ce cas les instruction `if ... else` sont placées *avant* l'instruction `for`."
   ],
   "cell_type": "markdown",
   "metadata": {}
  },
  {
   "cell_type": "markdown",
   "metadata": {},
   "source": [
    "### Exercice"
   ]
  },
  {
   "cell_type": "code",
   "execution_count": 14,
   "metadata": {},
   "outputs": [],
   "source": [
    "mot = \"vwsxyazvxlwyzuvwxtxv wxycv'wxezyvxyszwtxyz zywvcvwzoywzovxlwzy\""
   ]
  },
  {
   "cell_type": "markdown",
   "metadata": {},
   "source": [
    "A l'aide d'une compréhension de liste conditionnelle, créer une liste de toutes les lettres strictement inférieures à `'v'` de la variable `mot`."
   ]
  },
  {
   "cell_type": "code",
   "execution_count": 15,
   "metadata": {
    "tags": []
   },
   "outputs": [
    {
     "output_type": "stream",
     "name": "stdout",
     "text": "['s', 'a', 'l', 'u', 't', ' ', 'c', \"'\", 'e', 's', 't', ' ', 'c', 'o', 'o', 'l']\n"
    }
   ],
   "source": [
    "print([s for s in mot if s < 'v'])"
   ]
  },
  {
   "cell_type": "markdown",
   "metadata": {},
   "source": [
    "## Compréhension multiple\n",
    "Pour achever cette présentation, on peut utiliser des compréhensions multiples. Par exemple:"
   ]
  },
  {
   "cell_type": "code",
   "execution_count": 16,
   "metadata": {},
   "outputs": [
    {
     "output_type": "execute_result",
     "data": {
      "text/plain": "[(1, 1), (1, 2), (1, 3), (2, 2), (2, 3), (3, 3)]"
     },
     "metadata": {},
     "execution_count": 16
    }
   ],
   "source": [
    "[(i, j) for i in range(1, 4) for j in range(i, 4)]"
   ]
  },
  {
   "source": [
    "## Récursion\n",
    "Une fonction peut en appeler une autre, et peut donc s'appeler elle-même! C'est ce que l'on appelle une **fonction récursive**, et cela permet de créer des fonctions très ingénieuse.\n",
    "\n",
    "Regardez par exemple cette fonction de signature `compte-à-rebours(n)`:"
   ],
   "cell_type": "markdown",
   "metadata": {}
  },
  {
   "cell_type": "code",
   "execution_count": 17,
   "metadata": {},
   "outputs": [],
   "source": [
    "# definition de la fonction de compte-a-rebours\n",
    "def compte_a_rebours(n):\n",
    "    ''' affiche un compte-a-rebours a partir de n '''\n",
    "    if n <= 0:\n",
    "        print('Partez !')\n",
    "    else:\n",
    "        print(n)\n",
    "        compte_a_rebours(n-1)"
   ]
  },
  {
   "source": [
    "Si la variable `n` est inférieur ou égale à 0, la fonction affiche `Partez !`, sinon elle affiche la valeur de `n` et elle appelle la fonction `compte_a_rebours`, c'est-à-dire elle-même, avec l'argument `n-1`.\n",
    "\n",
    "Par exemple:"
   ],
   "cell_type": "markdown",
   "metadata": {}
  },
  {
   "cell_type": "code",
   "execution_count": 18,
   "metadata": {
    "tags": []
   },
   "outputs": [
    {
     "output_type": "stream",
     "name": "stdout",
     "text": "3\n2\n1\nPartez !\n"
    }
   ],
   "source": [
    "compte_a_rebours(3)"
   ]
  },
  {
   "source": [
    "## Représentation graphique d'une série mathématique\n",
    "Nous introduisons la série $S_n$ définie par:\n",
    "\n",
    "$$\n",
    "S_n = \\frac{3n-5}{2n+2}\n",
    "$$\n",
    "\n",
    "où $S_n$ est un nombre réel et $n$ un entier positif.\n",
    "\n",
    "Nous pouvons calculer la liste des $N$ premiers éléments de cette suite avec une fonction une compréhension de liste:"
   ],
   "cell_type": "markdown",
   "metadata": {}
  },
  {
   "cell_type": "code",
   "execution_count": 19,
   "metadata": {},
   "outputs": [],
   "source": [
    "# nombre de termes\n",
    "N = 25\n",
    "\n",
    "# definition de la fonction suite\n",
    "def F(n):\n",
    "    ''' retourne l'element Sn de la suite '''\n",
    "    return (3*n - 5) / (2*n + 2)\n",
    "\n",
    "# liste des elements\n",
    "liste_elements = [F(k) for k in range(N)]"
   ]
  },
  {
   "source": [
    "Dans ce cas, la suite n'est qu'une version discrete de la fonction `F`. Nous pouvons représenter sur un même graphique les éléments de la suite et la fonction:"
   ],
   "cell_type": "markdown",
   "metadata": {}
  },
  {
   "cell_type": "code",
   "execution_count": 20,
   "metadata": {},
   "outputs": [
    {
     "output_type": "execute_result",
     "data": {
      "text/plain": "[<matplotlib.lines.Line2D at 0x7fa2c0a6da58>]"
     },
     "metadata": {},
     "execution_count": 20
    },
    {
     "output_type": "display_data",
     "data": {
      "text/plain": "<Figure size 432x288 with 1 Axes>",
      "image/svg+xml": "<?xml version=\"1.0\" encoding=\"utf-8\" standalone=\"no\"?>\n<!DOCTYPE svg PUBLIC \"-//W3C//DTD SVG 1.1//EN\"\n  \"http://www.w3.org/Graphics/SVG/1.1/DTD/svg11.dtd\">\n<!-- Created with matplotlib (https://matplotlib.org/) -->\n<svg height=\"250.340616pt\" version=\"1.1\" viewBox=\"0 0 380.482812 250.340616\" width=\"380.482812pt\" xmlns=\"http://www.w3.org/2000/svg\" xmlns:xlink=\"http://www.w3.org/1999/xlink\">\n <defs>\n  <style type=\"text/css\">\n*{stroke-linecap:butt;stroke-linejoin:round;}\n  </style>\n </defs>\n <g id=\"figure_1\">\n  <g id=\"patch_1\">\n   <path d=\"M -0 250.340616 \nL 380.482812 250.340616 \nL 380.482812 0 \nL -0 0 \nz\n\" style=\"fill:none;\"/>\n  </g>\n  <g id=\"axes_1\">\n   <g id=\"patch_2\">\n    <path d=\"M 38.482813 226.462491 \nL 373.282813 226.462491 \nL 373.282813 9.022491 \nL 38.482813 9.022491 \nz\n\" style=\"fill:#ffffff;\"/>\n   </g>\n   <g id=\"matplotlib.axis_1\">\n    <g id=\"xtick_1\">\n     <g id=\"line2d_1\">\n      <defs>\n       <path d=\"M 0 0 \nL 0 3.5 \n\" id=\"m569a4faea1\" style=\"stroke:#000000;stroke-width:0.8;\"/>\n      </defs>\n      <g>\n       <use style=\"stroke:#000000;stroke-width:0.8;\" x=\"53.700994\" xlink:href=\"#m569a4faea1\" y=\"226.462491\"/>\n      </g>\n     </g>\n     <g id=\"text_1\">\n      <!-- 0 -->\n      <defs>\n       <path d=\"M 31.78125 66.40625 \nQ 24.171875 66.40625 20.328125 58.90625 \nQ 16.5 51.421875 16.5 36.375 \nQ 16.5 21.390625 20.328125 13.890625 \nQ 24.171875 6.390625 31.78125 6.390625 \nQ 39.453125 6.390625 43.28125 13.890625 \nQ 47.125 21.390625 47.125 36.375 \nQ 47.125 51.421875 43.28125 58.90625 \nQ 39.453125 66.40625 31.78125 66.40625 \nz\nM 31.78125 74.21875 \nQ 44.046875 74.21875 50.515625 64.515625 \nQ 56.984375 54.828125 56.984375 36.375 \nQ 56.984375 17.96875 50.515625 8.265625 \nQ 44.046875 -1.421875 31.78125 -1.421875 \nQ 19.53125 -1.421875 13.0625 8.265625 \nQ 6.59375 17.96875 6.59375 36.375 \nQ 6.59375 54.828125 13.0625 64.515625 \nQ 19.53125 74.21875 31.78125 74.21875 \nz\n\" id=\"DejaVuSans-48\"/>\n      </defs>\n      <g transform=\"translate(50.519744 241.060929)scale(0.1 -0.1)\">\n       <use xlink:href=\"#DejaVuSans-48\"/>\n      </g>\n     </g>\n    </g>\n    <g id=\"xtick_2\">\n     <g id=\"line2d_2\">\n      <g>\n       <use style=\"stroke:#000000;stroke-width:0.8;\" x=\"114.573722\" xlink:href=\"#m569a4faea1\" y=\"226.462491\"/>\n      </g>\n     </g>\n     <g id=\"text_2\">\n      <!-- 5 -->\n      <defs>\n       <path d=\"M 10.796875 72.90625 \nL 49.515625 72.90625 \nL 49.515625 64.59375 \nL 19.828125 64.59375 \nL 19.828125 46.734375 \nQ 21.96875 47.46875 24.109375 47.828125 \nQ 26.265625 48.1875 28.421875 48.1875 \nQ 40.625 48.1875 47.75 41.5 \nQ 54.890625 34.8125 54.890625 23.390625 \nQ 54.890625 11.625 47.5625 5.09375 \nQ 40.234375 -1.421875 26.90625 -1.421875 \nQ 22.3125 -1.421875 17.546875 -0.640625 \nQ 12.796875 0.140625 7.71875 1.703125 \nL 7.71875 11.625 \nQ 12.109375 9.234375 16.796875 8.0625 \nQ 21.484375 6.890625 26.703125 6.890625 \nQ 35.15625 6.890625 40.078125 11.328125 \nQ 45.015625 15.765625 45.015625 23.390625 \nQ 45.015625 31 40.078125 35.4375 \nQ 35.15625 39.890625 26.703125 39.890625 \nQ 22.75 39.890625 18.8125 39.015625 \nQ 14.890625 38.140625 10.796875 36.28125 \nz\n\" id=\"DejaVuSans-53\"/>\n      </defs>\n      <g transform=\"translate(111.392472 241.060929)scale(0.1 -0.1)\">\n       <use xlink:href=\"#DejaVuSans-53\"/>\n      </g>\n     </g>\n    </g>\n    <g id=\"xtick_3\">\n     <g id=\"line2d_3\">\n      <g>\n       <use style=\"stroke:#000000;stroke-width:0.8;\" x=\"175.446449\" xlink:href=\"#m569a4faea1\" y=\"226.462491\"/>\n      </g>\n     </g>\n     <g id=\"text_3\">\n      <!-- 10 -->\n      <defs>\n       <path d=\"M 12.40625 8.296875 \nL 28.515625 8.296875 \nL 28.515625 63.921875 \nL 10.984375 60.40625 \nL 10.984375 69.390625 \nL 28.421875 72.90625 \nL 38.28125 72.90625 \nL 38.28125 8.296875 \nL 54.390625 8.296875 \nL 54.390625 0 \nL 12.40625 0 \nz\n\" id=\"DejaVuSans-49\"/>\n      </defs>\n      <g transform=\"translate(169.083949 241.060929)scale(0.1 -0.1)\">\n       <use xlink:href=\"#DejaVuSans-49\"/>\n       <use x=\"63.623047\" xlink:href=\"#DejaVuSans-48\"/>\n      </g>\n     </g>\n    </g>\n    <g id=\"xtick_4\">\n     <g id=\"line2d_4\">\n      <g>\n       <use style=\"stroke:#000000;stroke-width:0.8;\" x=\"236.319176\" xlink:href=\"#m569a4faea1\" y=\"226.462491\"/>\n      </g>\n     </g>\n     <g id=\"text_4\">\n      <!-- 15 -->\n      <g transform=\"translate(229.956676 241.060929)scale(0.1 -0.1)\">\n       <use xlink:href=\"#DejaVuSans-49\"/>\n       <use x=\"63.623047\" xlink:href=\"#DejaVuSans-53\"/>\n      </g>\n     </g>\n    </g>\n    <g id=\"xtick_5\">\n     <g id=\"line2d_5\">\n      <g>\n       <use style=\"stroke:#000000;stroke-width:0.8;\" x=\"297.191903\" xlink:href=\"#m569a4faea1\" y=\"226.462491\"/>\n      </g>\n     </g>\n     <g id=\"text_5\">\n      <!-- 20 -->\n      <defs>\n       <path d=\"M 19.1875 8.296875 \nL 53.609375 8.296875 \nL 53.609375 0 \nL 7.328125 0 \nL 7.328125 8.296875 \nQ 12.9375 14.109375 22.625 23.890625 \nQ 32.328125 33.6875 34.8125 36.53125 \nQ 39.546875 41.84375 41.421875 45.53125 \nQ 43.3125 49.21875 43.3125 52.78125 \nQ 43.3125 58.59375 39.234375 62.25 \nQ 35.15625 65.921875 28.609375 65.921875 \nQ 23.96875 65.921875 18.8125 64.3125 \nQ 13.671875 62.703125 7.8125 59.421875 \nL 7.8125 69.390625 \nQ 13.765625 71.78125 18.9375 73 \nQ 24.125 74.21875 28.421875 74.21875 \nQ 39.75 74.21875 46.484375 68.546875 \nQ 53.21875 62.890625 53.21875 53.421875 \nQ 53.21875 48.921875 51.53125 44.890625 \nQ 49.859375 40.875 45.40625 35.40625 \nQ 44.1875 33.984375 37.640625 27.21875 \nQ 31.109375 20.453125 19.1875 8.296875 \nz\n\" id=\"DejaVuSans-50\"/>\n      </defs>\n      <g transform=\"translate(290.829403 241.060929)scale(0.1 -0.1)\">\n       <use xlink:href=\"#DejaVuSans-50\"/>\n       <use x=\"63.623047\" xlink:href=\"#DejaVuSans-48\"/>\n      </g>\n     </g>\n    </g>\n    <g id=\"xtick_6\">\n     <g id=\"line2d_6\">\n      <g>\n       <use style=\"stroke:#000000;stroke-width:0.8;\" x=\"358.064631\" xlink:href=\"#m569a4faea1\" y=\"226.462491\"/>\n      </g>\n     </g>\n     <g id=\"text_6\">\n      <!-- 25 -->\n      <g transform=\"translate(351.702131 241.060929)scale(0.1 -0.1)\">\n       <use xlink:href=\"#DejaVuSans-50\"/>\n       <use x=\"63.623047\" xlink:href=\"#DejaVuSans-53\"/>\n      </g>\n     </g>\n    </g>\n   </g>\n   <g id=\"matplotlib.axis_2\">\n    <g id=\"ytick_1\">\n     <g id=\"line2d_7\">\n      <defs>\n       <path d=\"M 0 0 \nL -3.5 0 \n\" id=\"m7bc85e7403\" style=\"stroke:#000000;stroke-width:0.8;\"/>\n      </defs>\n      <g>\n       <use style=\"stroke:#000000;stroke-width:0.8;\" x=\"38.482813\" xlink:href=\"#m7bc85e7403\" y=\"216.578855\"/>\n      </g>\n     </g>\n     <g id=\"text_7\">\n      <!-- −2.5 -->\n      <defs>\n       <path d=\"M 10.59375 35.5 \nL 73.1875 35.5 \nL 73.1875 27.203125 \nL 10.59375 27.203125 \nz\n\" id=\"DejaVuSans-8722\"/>\n       <path d=\"M 10.6875 12.40625 \nL 21 12.40625 \nL 21 0 \nL 10.6875 0 \nz\n\" id=\"DejaVuSans-46\"/>\n      </defs>\n      <g transform=\"translate(7.2 220.378074)scale(0.1 -0.1)\">\n       <use xlink:href=\"#DejaVuSans-8722\"/>\n       <use x=\"83.789062\" xlink:href=\"#DejaVuSans-50\"/>\n       <use x=\"147.412109\" xlink:href=\"#DejaVuSans-46\"/>\n       <use x=\"179.199219\" xlink:href=\"#DejaVuSans-53\"/>\n      </g>\n     </g>\n    </g>\n    <g id=\"ytick_2\">\n     <g id=\"line2d_8\">\n      <g>\n       <use style=\"stroke:#000000;stroke-width:0.8;\" x=\"38.482813\" xlink:href=\"#m7bc85e7403\" y=\"190.881401\"/>\n      </g>\n     </g>\n     <g id=\"text_8\">\n      <!-- −2.0 -->\n      <g transform=\"translate(7.2 194.680619)scale(0.1 -0.1)\">\n       <use xlink:href=\"#DejaVuSans-8722\"/>\n       <use x=\"83.789062\" xlink:href=\"#DejaVuSans-50\"/>\n       <use x=\"147.412109\" xlink:href=\"#DejaVuSans-46\"/>\n       <use x=\"179.199219\" xlink:href=\"#DejaVuSans-48\"/>\n      </g>\n     </g>\n    </g>\n    <g id=\"ytick_3\">\n     <g id=\"line2d_9\">\n      <g>\n       <use style=\"stroke:#000000;stroke-width:0.8;\" x=\"38.482813\" xlink:href=\"#m7bc85e7403\" y=\"165.183946\"/>\n      </g>\n     </g>\n     <g id=\"text_9\">\n      <!-- −1.5 -->\n      <g transform=\"translate(7.2 168.983165)scale(0.1 -0.1)\">\n       <use xlink:href=\"#DejaVuSans-8722\"/>\n       <use x=\"83.789062\" xlink:href=\"#DejaVuSans-49\"/>\n       <use x=\"147.412109\" xlink:href=\"#DejaVuSans-46\"/>\n       <use x=\"179.199219\" xlink:href=\"#DejaVuSans-53\"/>\n      </g>\n     </g>\n    </g>\n    <g id=\"ytick_4\">\n     <g id=\"line2d_10\">\n      <g>\n       <use style=\"stroke:#000000;stroke-width:0.8;\" x=\"38.482813\" xlink:href=\"#m7bc85e7403\" y=\"139.486491\"/>\n      </g>\n     </g>\n     <g id=\"text_10\">\n      <!-- −1.0 -->\n      <g transform=\"translate(7.2 143.28571)scale(0.1 -0.1)\">\n       <use xlink:href=\"#DejaVuSans-8722\"/>\n       <use x=\"83.789062\" xlink:href=\"#DejaVuSans-49\"/>\n       <use x=\"147.412109\" xlink:href=\"#DejaVuSans-46\"/>\n       <use x=\"179.199219\" xlink:href=\"#DejaVuSans-48\"/>\n      </g>\n     </g>\n    </g>\n    <g id=\"ytick_5\">\n     <g id=\"line2d_11\">\n      <g>\n       <use style=\"stroke:#000000;stroke-width:0.8;\" x=\"38.482813\" xlink:href=\"#m7bc85e7403\" y=\"113.789037\"/>\n      </g>\n     </g>\n     <g id=\"text_11\">\n      <!-- −0.5 -->\n      <g transform=\"translate(7.2 117.588256)scale(0.1 -0.1)\">\n       <use xlink:href=\"#DejaVuSans-8722\"/>\n       <use x=\"83.789062\" xlink:href=\"#DejaVuSans-48\"/>\n       <use x=\"147.412109\" xlink:href=\"#DejaVuSans-46\"/>\n       <use x=\"179.199219\" xlink:href=\"#DejaVuSans-53\"/>\n      </g>\n     </g>\n    </g>\n    <g id=\"ytick_6\">\n     <g id=\"line2d_12\">\n      <g>\n       <use style=\"stroke:#000000;stroke-width:0.8;\" x=\"38.482813\" xlink:href=\"#m7bc85e7403\" y=\"88.091582\"/>\n      </g>\n     </g>\n     <g id=\"text_12\">\n      <!-- 0.0 -->\n      <g transform=\"translate(15.579688 91.890801)scale(0.1 -0.1)\">\n       <use xlink:href=\"#DejaVuSans-48\"/>\n       <use x=\"63.623047\" xlink:href=\"#DejaVuSans-46\"/>\n       <use x=\"95.410156\" xlink:href=\"#DejaVuSans-48\"/>\n      </g>\n     </g>\n    </g>\n    <g id=\"ytick_7\">\n     <g id=\"line2d_13\">\n      <g>\n       <use style=\"stroke:#000000;stroke-width:0.8;\" x=\"38.482813\" xlink:href=\"#m7bc85e7403\" y=\"62.394128\"/>\n      </g>\n     </g>\n     <g id=\"text_13\">\n      <!-- 0.5 -->\n      <g transform=\"translate(15.579688 66.193347)scale(0.1 -0.1)\">\n       <use xlink:href=\"#DejaVuSans-48\"/>\n       <use x=\"63.623047\" xlink:href=\"#DejaVuSans-46\"/>\n       <use x=\"95.410156\" xlink:href=\"#DejaVuSans-53\"/>\n      </g>\n     </g>\n    </g>\n    <g id=\"ytick_8\">\n     <g id=\"line2d_14\">\n      <g>\n       <use style=\"stroke:#000000;stroke-width:0.8;\" x=\"38.482813\" xlink:href=\"#m7bc85e7403\" y=\"36.696673\"/>\n      </g>\n     </g>\n     <g id=\"text_14\">\n      <!-- 1.0 -->\n      <g transform=\"translate(15.579688 40.495892)scale(0.1 -0.1)\">\n       <use xlink:href=\"#DejaVuSans-49\"/>\n       <use x=\"63.623047\" xlink:href=\"#DejaVuSans-46\"/>\n       <use x=\"95.410156\" xlink:href=\"#DejaVuSans-48\"/>\n      </g>\n     </g>\n    </g>\n    <g id=\"ytick_9\">\n     <g id=\"line2d_15\">\n      <g>\n       <use style=\"stroke:#000000;stroke-width:0.8;\" x=\"38.482813\" xlink:href=\"#m7bc85e7403\" y=\"10.999219\"/>\n      </g>\n     </g>\n     <g id=\"text_15\">\n      <!-- 1.5 -->\n      <g transform=\"translate(15.579688 14.798437)scale(0.1 -0.1)\">\n       <use xlink:href=\"#DejaVuSans-49\"/>\n       <use x=\"63.623047\" xlink:href=\"#DejaVuSans-46\"/>\n       <use x=\"95.410156\" xlink:href=\"#DejaVuSans-53\"/>\n      </g>\n     </g>\n    </g>\n   </g>\n   <g id=\"line2d_16\">\n    <path clip-path=\"url(#p0446737a6f)\" d=\"M 53.700994 216.578855 \nL 59.912497 147.126275 \nL 66.124 112.750756 \nL 72.335503 92.236333 \nL 78.547005 78.605945 \nL 84.758508 68.892335 \nL 90.970011 61.61933 \nL 97.181514 55.969764 \nL 103.393017 51.454649 \nL 109.604519 47.76346 \nL 115.816022 44.689527 \nL 122.027525 42.089966 \nL 128.239028 39.862835 \nL 134.45053 37.933449 \nL 140.662033 36.245841 \nL 146.873536 34.757243 \nL 153.085039 33.434413 \nL 159.296542 32.251122 \nL 165.508044 31.186397 \nL 171.719547 30.223269 \nL 177.93105 29.347857 \nL 184.142553 28.5487 \nL 190.354056 27.816251 \nL 196.565558 27.142491 \nL 202.777061 26.52064 \nL 208.988564 25.944919 \nL 215.200067 25.410381 \nL 221.411569 24.912758 \nL 227.623072 24.448354 \nL 233.834575 24.01395 \nL 240.046078 23.606731 \nL 246.257581 23.224221 \nL 252.469083 22.864239 \nL 258.680586 22.524851 \nL 264.892089 22.204338 \nL 271.103592 21.901169 \nL 277.315095 21.613973 \nL 283.526597 21.341521 \nL 289.7381 21.082704 \nL 295.949603 20.836526 \nL 302.161106 20.602081 \nL 308.372608 20.37855 \nL 314.584111 20.16519 \nL 320.795614 19.96132 \nL 327.007117 19.766322 \nL 333.21862 19.579629 \nL 339.430122 19.400722 \nL 345.641625 19.229122 \nL 351.853128 19.064393 \nL 358.064631 18.906128 \n\" style=\"fill:none;stroke:#1f77b4;stroke-linecap:square;stroke-width:1.5;\"/>\n   </g>\n   <g id=\"line2d_17\">\n    <defs>\n     <path d=\"M 0 3 \nC 0.795609 3 1.55874 2.683901 2.12132 2.12132 \nC 2.683901 1.55874 3 0.795609 3 0 \nC 3 -0.795609 2.683901 -1.55874 2.12132 -2.12132 \nC 1.55874 -2.683901 0.795609 -3 0 -3 \nC -0.795609 -3 -1.55874 -2.683901 -2.12132 -2.12132 \nC -2.683901 -1.55874 -3 -0.795609 -3 0 \nC -3 0.795609 -2.683901 1.55874 -2.12132 2.12132 \nC -1.55874 2.683901 -0.795609 3 0 3 \nz\n\" id=\"m55fc9e36b1\" style=\"stroke:#008000;\"/>\n    </defs>\n    <g clip-path=\"url(#p0446737a6f)\">\n     <use style=\"fill:#008000;stroke:#008000;\" x=\"53.700994\" xlink:href=\"#m55fc9e36b1\" y=\"216.578855\"/>\n     <use style=\"fill:#008000;stroke:#008000;\" x=\"65.87554\" xlink:href=\"#m55fc9e36b1\" y=\"113.789037\"/>\n     <use style=\"fill:#008000;stroke:#008000;\" x=\"78.050085\" xlink:href=\"#m55fc9e36b1\" y=\"79.525764\"/>\n     <use style=\"fill:#008000;stroke:#008000;\" x=\"90.224631\" xlink:href=\"#m55fc9e36b1\" y=\"62.394128\"/>\n     <use style=\"fill:#008000;stroke:#008000;\" x=\"102.399176\" xlink:href=\"#m55fc9e36b1\" y=\"52.115146\"/>\n     <use style=\"fill:#008000;stroke:#008000;\" x=\"114.573722\" xlink:href=\"#m55fc9e36b1\" y=\"45.262491\"/>\n     <use style=\"fill:#008000;stroke:#008000;\" x=\"126.748267\" xlink:href=\"#m55fc9e36b1\" y=\"40.367738\"/>\n     <use style=\"fill:#008000;stroke:#008000;\" x=\"138.922812\" xlink:href=\"#m55fc9e36b1\" y=\"36.696673\"/>\n     <use style=\"fill:#008000;stroke:#008000;\" x=\"151.097358\" xlink:href=\"#m55fc9e36b1\" y=\"33.841401\"/>\n     <use style=\"fill:#008000;stroke:#008000;\" x=\"163.271903\" xlink:href=\"#m55fc9e36b1\" y=\"31.557182\"/>\n     <use style=\"fill:#008000;stroke:#008000;\" x=\"175.446449\" xlink:href=\"#m55fc9e36b1\" y=\"29.688277\"/>\n     <use style=\"fill:#008000;stroke:#008000;\" x=\"187.620994\" xlink:href=\"#m55fc9e36b1\" y=\"28.130855\"/>\n     <use style=\"fill:#008000;stroke:#008000;\" x=\"199.79554\" xlink:href=\"#m55fc9e36b1\" y=\"26.813037\"/>\n     <use style=\"fill:#008000;stroke:#008000;\" x=\"211.970085\" xlink:href=\"#m55fc9e36b1\" y=\"25.683478\"/>\n     <use style=\"fill:#008000;stroke:#008000;\" x=\"224.144631\" xlink:href=\"#m55fc9e36b1\" y=\"24.704528\"/>\n     <use style=\"fill:#008000;stroke:#008000;\" x=\"236.319176\" xlink:href=\"#m55fc9e36b1\" y=\"23.847946\"/>\n     <use style=\"fill:#008000;stroke:#008000;\" x=\"248.493722\" xlink:href=\"#m55fc9e36b1\" y=\"23.092139\"/>\n     <use style=\"fill:#008000;stroke:#008000;\" x=\"260.668267\" xlink:href=\"#m55fc9e36b1\" y=\"22.42031\"/>\n     <use style=\"fill:#008000;stroke:#008000;\" x=\"272.842812\" xlink:href=\"#m55fc9e36b1\" y=\"21.8192\"/>\n     <use style=\"fill:#008000;stroke:#008000;\" x=\"285.017358\" xlink:href=\"#m55fc9e36b1\" y=\"21.278201\"/>\n     <use style=\"fill:#008000;stroke:#008000;\" x=\"297.191903\" xlink:href=\"#m55fc9e36b1\" y=\"20.788725\"/>\n     <use style=\"fill:#008000;stroke:#008000;\" x=\"309.366449\" xlink:href=\"#m55fc9e36b1\" y=\"20.343748\"/>\n     <use style=\"fill:#008000;stroke:#008000;\" x=\"321.540994\" xlink:href=\"#m55fc9e36b1\" y=\"19.937464\"/>\n     <use style=\"fill:#008000;stroke:#008000;\" x=\"333.71554\" xlink:href=\"#m55fc9e36b1\" y=\"19.565037\"/>\n     <use style=\"fill:#008000;stroke:#008000;\" x=\"345.890085\" xlink:href=\"#m55fc9e36b1\" y=\"19.222404\"/>\n    </g>\n   </g>\n   <g id=\"patch_3\">\n    <path d=\"M 38.482813 226.462491 \nL 38.482813 9.022491 \n\" style=\"fill:none;stroke:#000000;stroke-linecap:square;stroke-linejoin:miter;stroke-width:0.8;\"/>\n   </g>\n   <g id=\"patch_4\">\n    <path d=\"M 373.282813 226.462491 \nL 373.282813 9.022491 \n\" style=\"fill:none;stroke:#000000;stroke-linecap:square;stroke-linejoin:miter;stroke-width:0.8;\"/>\n   </g>\n   <g id=\"patch_5\">\n    <path d=\"M 38.482813 226.462491 \nL 373.282812 226.462491 \n\" style=\"fill:none;stroke:#000000;stroke-linecap:square;stroke-linejoin:miter;stroke-width:0.8;\"/>\n   </g>\n   <g id=\"patch_6\">\n    <path d=\"M 38.482813 9.022491 \nL 373.282812 9.022491 \n\" style=\"fill:none;stroke:#000000;stroke-linecap:square;stroke-linejoin:miter;stroke-width:0.8;\"/>\n   </g>\n  </g>\n </g>\n <defs>\n  <clipPath id=\"p0446737a6f\">\n   <rect height=\"217.44\" width=\"334.8\" x=\"38.482813\" y=\"9.022491\"/>\n  </clipPath>\n </defs>\n</svg>\n",
      "image/png": "[encoded data removed]"
     },
     "metadata": {
      "needs_background": "light"
     }
    }
   ],
   "source": [
    "# import des modules\n",
    "import numpy as np\n",
    "import matplotlib.pyplot as plt\n",
    "\n",
    "# trace de la fonction\n",
    "x = np.linspace(0,N)\n",
    "plt.plot(x, F(x))\n",
    "\n",
    "# trace des elements de la suite\n",
    "plt.plot(range(N), liste_elements, 'og')"
   ]
  },
  {
   "source": [
    "Pour illustrer la façon donc chaque élément est calculé, on peut relier l'argument de la fonction et son image par un segment:"
   ],
   "cell_type": "markdown",
   "metadata": {}
  },
  {
   "cell_type": "code",
   "execution_count": 21,
   "metadata": {},
   "outputs": [
    {
     "output_type": "display_data",
     "data": {
      "text/plain": "<Figure size 432x288 with 1 Axes>",
      "image/svg+xml": "<?xml version=\"1.0\" encoding=\"utf-8\" standalone=\"no\"?>\n<!DOCTYPE svg PUBLIC \"-//W3C//DTD SVG 1.1//EN\"\n  \"http://www.w3.org/Graphics/SVG/1.1/DTD/svg11.dtd\">\n<!-- Created with matplotlib (https://matplotlib.org/) -->\n<svg height=\"250.340616pt\" version=\"1.1\" viewBox=\"0 0 380.482812 250.340616\" width=\"380.482812pt\" xmlns=\"http://www.w3.org/2000/svg\" xmlns:xlink=\"http://www.w3.org/1999/xlink\">\n <defs>\n  <style type=\"text/css\">\n*{stroke-linecap:butt;stroke-linejoin:round;}\n  </style>\n </defs>\n <g id=\"figure_1\">\n  <g id=\"patch_1\">\n   <path d=\"M -0 250.340616 \nL 380.482812 250.340616 \nL 380.482812 0 \nL -0 0 \nz\n\" style=\"fill:none;\"/>\n  </g>\n  <g id=\"axes_1\">\n   <g id=\"patch_2\">\n    <path d=\"M 38.482813 226.462491 \nL 373.282813 226.462491 \nL 373.282813 9.022491 \nL 38.482813 9.022491 \nz\n\" style=\"fill:#ffffff;\"/>\n   </g>\n   <g id=\"matplotlib.axis_1\">\n    <g id=\"xtick_1\">\n     <g id=\"line2d_1\">\n      <defs>\n       <path d=\"M 0 0 \nL 0 3.5 \n\" id=\"md01d126f41\" style=\"stroke:#000000;stroke-width:0.8;\"/>\n      </defs>\n      <g>\n       <use style=\"stroke:#000000;stroke-width:0.8;\" x=\"53.700994\" xlink:href=\"#md01d126f41\" y=\"226.462491\"/>\n      </g>\n     </g>\n     <g id=\"text_1\">\n      <!-- 0 -->\n      <defs>\n       <path d=\"M 31.78125 66.40625 \nQ 24.171875 66.40625 20.328125 58.90625 \nQ 16.5 51.421875 16.5 36.375 \nQ 16.5 21.390625 20.328125 13.890625 \nQ 24.171875 6.390625 31.78125 6.390625 \nQ 39.453125 6.390625 43.28125 13.890625 \nQ 47.125 21.390625 47.125 36.375 \nQ 47.125 51.421875 43.28125 58.90625 \nQ 39.453125 66.40625 31.78125 66.40625 \nz\nM 31.78125 74.21875 \nQ 44.046875 74.21875 50.515625 64.515625 \nQ 56.984375 54.828125 56.984375 36.375 \nQ 56.984375 17.96875 50.515625 8.265625 \nQ 44.046875 -1.421875 31.78125 -1.421875 \nQ 19.53125 -1.421875 13.0625 8.265625 \nQ 6.59375 17.96875 6.59375 36.375 \nQ 6.59375 54.828125 13.0625 64.515625 \nQ 19.53125 74.21875 31.78125 74.21875 \nz\n\" id=\"DejaVuSans-48\"/>\n      </defs>\n      <g transform=\"translate(50.519744 241.060929)scale(0.1 -0.1)\">\n       <use xlink:href=\"#DejaVuSans-48\"/>\n      </g>\n     </g>\n    </g>\n    <g id=\"xtick_2\">\n     <g id=\"line2d_2\">\n      <g>\n       <use style=\"stroke:#000000;stroke-width:0.8;\" x=\"114.573722\" xlink:href=\"#md01d126f41\" y=\"226.462491\"/>\n      </g>\n     </g>\n     <g id=\"text_2\">\n      <!-- 5 -->\n      <defs>\n       <path d=\"M 10.796875 72.90625 \nL 49.515625 72.90625 \nL 49.515625 64.59375 \nL 19.828125 64.59375 \nL 19.828125 46.734375 \nQ 21.96875 47.46875 24.109375 47.828125 \nQ 26.265625 48.1875 28.421875 48.1875 \nQ 40.625 48.1875 47.75 41.5 \nQ 54.890625 34.8125 54.890625 23.390625 \nQ 54.890625 11.625 47.5625 5.09375 \nQ 40.234375 -1.421875 26.90625 -1.421875 \nQ 22.3125 -1.421875 17.546875 -0.640625 \nQ 12.796875 0.140625 7.71875 1.703125 \nL 7.71875 11.625 \nQ 12.109375 9.234375 16.796875 8.0625 \nQ 21.484375 6.890625 26.703125 6.890625 \nQ 35.15625 6.890625 40.078125 11.328125 \nQ 45.015625 15.765625 45.015625 23.390625 \nQ 45.015625 31 40.078125 35.4375 \nQ 35.15625 39.890625 26.703125 39.890625 \nQ 22.75 39.890625 18.8125 39.015625 \nQ 14.890625 38.140625 10.796875 36.28125 \nz\n\" id=\"DejaVuSans-53\"/>\n      </defs>\n      <g transform=\"translate(111.392472 241.060929)scale(0.1 -0.1)\">\n       <use xlink:href=\"#DejaVuSans-53\"/>\n      </g>\n     </g>\n    </g>\n    <g id=\"xtick_3\">\n     <g id=\"line2d_3\">\n      <g>\n       <use style=\"stroke:#000000;stroke-width:0.8;\" x=\"175.446449\" xlink:href=\"#md01d126f41\" y=\"226.462491\"/>\n      </g>\n     </g>\n     <g id=\"text_3\">\n      <!-- 10 -->\n      <defs>\n       <path d=\"M 12.40625 8.296875 \nL 28.515625 8.296875 \nL 28.515625 63.921875 \nL 10.984375 60.40625 \nL 10.984375 69.390625 \nL 28.421875 72.90625 \nL 38.28125 72.90625 \nL 38.28125 8.296875 \nL 54.390625 8.296875 \nL 54.390625 0 \nL 12.40625 0 \nz\n\" id=\"DejaVuSans-49\"/>\n      </defs>\n      <g transform=\"translate(169.083949 241.060929)scale(0.1 -0.1)\">\n       <use xlink:href=\"#DejaVuSans-49\"/>\n       <use x=\"63.623047\" xlink:href=\"#DejaVuSans-48\"/>\n      </g>\n     </g>\n    </g>\n    <g id=\"xtick_4\">\n     <g id=\"line2d_4\">\n      <g>\n       <use style=\"stroke:#000000;stroke-width:0.8;\" x=\"236.319176\" xlink:href=\"#md01d126f41\" y=\"226.462491\"/>\n      </g>\n     </g>\n     <g id=\"text_4\">\n      <!-- 15 -->\n      <g transform=\"translate(229.956676 241.060929)scale(0.1 -0.1)\">\n       <use xlink:href=\"#DejaVuSans-49\"/>\n       <use x=\"63.623047\" xlink:href=\"#DejaVuSans-53\"/>\n      </g>\n     </g>\n    </g>\n    <g id=\"xtick_5\">\n     <g id=\"line2d_5\">\n      <g>\n       <use style=\"stroke:#000000;stroke-width:0.8;\" x=\"297.191903\" xlink:href=\"#md01d126f41\" y=\"226.462491\"/>\n      </g>\n     </g>\n     <g id=\"text_5\">\n      <!-- 20 -->\n      <defs>\n       <path d=\"M 19.1875 8.296875 \nL 53.609375 8.296875 \nL 53.609375 0 \nL 7.328125 0 \nL 7.328125 8.296875 \nQ 12.9375 14.109375 22.625 23.890625 \nQ 32.328125 33.6875 34.8125 36.53125 \nQ 39.546875 41.84375 41.421875 45.53125 \nQ 43.3125 49.21875 43.3125 52.78125 \nQ 43.3125 58.59375 39.234375 62.25 \nQ 35.15625 65.921875 28.609375 65.921875 \nQ 23.96875 65.921875 18.8125 64.3125 \nQ 13.671875 62.703125 7.8125 59.421875 \nL 7.8125 69.390625 \nQ 13.765625 71.78125 18.9375 73 \nQ 24.125 74.21875 28.421875 74.21875 \nQ 39.75 74.21875 46.484375 68.546875 \nQ 53.21875 62.890625 53.21875 53.421875 \nQ 53.21875 48.921875 51.53125 44.890625 \nQ 49.859375 40.875 45.40625 35.40625 \nQ 44.1875 33.984375 37.640625 27.21875 \nQ 31.109375 20.453125 19.1875 8.296875 \nz\n\" id=\"DejaVuSans-50\"/>\n      </defs>\n      <g transform=\"translate(290.829403 241.060929)scale(0.1 -0.1)\">\n       <use xlink:href=\"#DejaVuSans-50\"/>\n       <use x=\"63.623047\" xlink:href=\"#DejaVuSans-48\"/>\n      </g>\n     </g>\n    </g>\n    <g id=\"xtick_6\">\n     <g id=\"line2d_6\">\n      <g>\n       <use style=\"stroke:#000000;stroke-width:0.8;\" x=\"358.064631\" xlink:href=\"#md01d126f41\" y=\"226.462491\"/>\n      </g>\n     </g>\n     <g id=\"text_6\">\n      <!-- 25 -->\n      <g transform=\"translate(351.702131 241.060929)scale(0.1 -0.1)\">\n       <use xlink:href=\"#DejaVuSans-50\"/>\n       <use x=\"63.623047\" xlink:href=\"#DejaVuSans-53\"/>\n      </g>\n     </g>\n    </g>\n   </g>\n   <g id=\"matplotlib.axis_2\">\n    <g id=\"ytick_1\">\n     <g id=\"line2d_7\">\n      <defs>\n       <path d=\"M 0 0 \nL -3.5 0 \n\" id=\"m8e0faaaabf\" style=\"stroke:#000000;stroke-width:0.8;\"/>\n      </defs>\n      <g>\n       <use style=\"stroke:#000000;stroke-width:0.8;\" x=\"38.482813\" xlink:href=\"#m8e0faaaabf\" y=\"216.578855\"/>\n      </g>\n     </g>\n     <g id=\"text_7\">\n      <!-- −2.5 -->\n      <defs>\n       <path d=\"M 10.59375 35.5 \nL 73.1875 35.5 \nL 73.1875 27.203125 \nL 10.59375 27.203125 \nz\n\" id=\"DejaVuSans-8722\"/>\n       <path d=\"M 10.6875 12.40625 \nL 21 12.40625 \nL 21 0 \nL 10.6875 0 \nz\n\" id=\"DejaVuSans-46\"/>\n      </defs>\n      <g transform=\"translate(7.2 220.378074)scale(0.1 -0.1)\">\n       <use xlink:href=\"#DejaVuSans-8722\"/>\n       <use x=\"83.789062\" xlink:href=\"#DejaVuSans-50\"/>\n       <use x=\"147.412109\" xlink:href=\"#DejaVuSans-46\"/>\n       <use x=\"179.199219\" xlink:href=\"#DejaVuSans-53\"/>\n      </g>\n     </g>\n    </g>\n    <g id=\"ytick_2\">\n     <g id=\"line2d_8\">\n      <g>\n       <use style=\"stroke:#000000;stroke-width:0.8;\" x=\"38.482813\" xlink:href=\"#m8e0faaaabf\" y=\"190.881401\"/>\n      </g>\n     </g>\n     <g id=\"text_8\">\n      <!-- −2.0 -->\n      <g transform=\"translate(7.2 194.680619)scale(0.1 -0.1)\">\n       <use xlink:href=\"#DejaVuSans-8722\"/>\n       <use x=\"83.789062\" xlink:href=\"#DejaVuSans-50\"/>\n       <use x=\"147.412109\" xlink:href=\"#DejaVuSans-46\"/>\n       <use x=\"179.199219\" xlink:href=\"#DejaVuSans-48\"/>\n      </g>\n     </g>\n    </g>\n    <g id=\"ytick_3\">\n     <g id=\"line2d_9\">\n      <g>\n       <use style=\"stroke:#000000;stroke-width:0.8;\" x=\"38.482813\" xlink:href=\"#m8e0faaaabf\" y=\"165.183946\"/>\n      </g>\n     </g>\n     <g id=\"text_9\">\n      <!-- −1.5 -->\n      <g transform=\"translate(7.2 168.983165)scale(0.1 -0.1)\">\n       <use xlink:href=\"#DejaVuSans-8722\"/>\n       <use x=\"83.789062\" xlink:href=\"#DejaVuSans-49\"/>\n       <use x=\"147.412109\" xlink:href=\"#DejaVuSans-46\"/>\n       <use x=\"179.199219\" xlink:href=\"#DejaVuSans-53\"/>\n      </g>\n     </g>\n    </g>\n    <g id=\"ytick_4\">\n     <g id=\"line2d_10\">\n      <g>\n       <use style=\"stroke:#000000;stroke-width:0.8;\" x=\"38.482813\" xlink:href=\"#m8e0faaaabf\" y=\"139.486491\"/>\n      </g>\n     </g>\n     <g id=\"text_10\">\n      <!-- −1.0 -->\n      <g transform=\"translate(7.2 143.28571)scale(0.1 -0.1)\">\n       <use xlink:href=\"#DejaVuSans-8722\"/>\n       <use x=\"83.789062\" xlink:href=\"#DejaVuSans-49\"/>\n       <use x=\"147.412109\" xlink:href=\"#DejaVuSans-46\"/>\n       <use x=\"179.199219\" xlink:href=\"#DejaVuSans-48\"/>\n      </g>\n     </g>\n    </g>\n    <g id=\"ytick_5\">\n     <g id=\"line2d_11\">\n      <g>\n       <use style=\"stroke:#000000;stroke-width:0.8;\" x=\"38.482813\" xlink:href=\"#m8e0faaaabf\" y=\"113.789037\"/>\n      </g>\n     </g>\n     <g id=\"text_11\">\n      <!-- −0.5 -->\n      <g transform=\"translate(7.2 117.588256)scale(0.1 -0.1)\">\n       <use xlink:href=\"#DejaVuSans-8722\"/>\n       <use x=\"83.789062\" xlink:href=\"#DejaVuSans-48\"/>\n       <use x=\"147.412109\" xlink:href=\"#DejaVuSans-46\"/>\n       <use x=\"179.199219\" xlink:href=\"#DejaVuSans-53\"/>\n      </g>\n     </g>\n    </g>\n    <g id=\"ytick_6\">\n     <g id=\"line2d_12\">\n      <g>\n       <use style=\"stroke:#000000;stroke-width:0.8;\" x=\"38.482813\" xlink:href=\"#m8e0faaaabf\" y=\"88.091582\"/>\n      </g>\n     </g>\n     <g id=\"text_12\">\n      <!-- 0.0 -->\n      <g transform=\"translate(15.579688 91.890801)scale(0.1 -0.1)\">\n       <use xlink:href=\"#DejaVuSans-48\"/>\n       <use x=\"63.623047\" xlink:href=\"#DejaVuSans-46\"/>\n       <use x=\"95.410156\" xlink:href=\"#DejaVuSans-48\"/>\n      </g>\n     </g>\n    </g>\n    <g id=\"ytick_7\">\n     <g id=\"line2d_13\">\n      <g>\n       <use style=\"stroke:#000000;stroke-width:0.8;\" x=\"38.482813\" xlink:href=\"#m8e0faaaabf\" y=\"62.394128\"/>\n      </g>\n     </g>\n     <g id=\"text_13\">\n      <!-- 0.5 -->\n      <g transform=\"translate(15.579688 66.193347)scale(0.1 -0.1)\">\n       <use xlink:href=\"#DejaVuSans-48\"/>\n       <use x=\"63.623047\" xlink:href=\"#DejaVuSans-46\"/>\n       <use x=\"95.410156\" xlink:href=\"#DejaVuSans-53\"/>\n      </g>\n     </g>\n    </g>\n    <g id=\"ytick_8\">\n     <g id=\"line2d_14\">\n      <g>\n       <use style=\"stroke:#000000;stroke-width:0.8;\" x=\"38.482813\" xlink:href=\"#m8e0faaaabf\" y=\"36.696673\"/>\n      </g>\n     </g>\n     <g id=\"text_14\">\n      <!-- 1.0 -->\n      <g transform=\"translate(15.579688 40.495892)scale(0.1 -0.1)\">\n       <use xlink:href=\"#DejaVuSans-49\"/>\n       <use x=\"63.623047\" xlink:href=\"#DejaVuSans-46\"/>\n       <use x=\"95.410156\" xlink:href=\"#DejaVuSans-48\"/>\n      </g>\n     </g>\n    </g>\n    <g id=\"ytick_9\">\n     <g id=\"line2d_15\">\n      <g>\n       <use style=\"stroke:#000000;stroke-width:0.8;\" x=\"38.482813\" xlink:href=\"#m8e0faaaabf\" y=\"10.999219\"/>\n      </g>\n     </g>\n     <g id=\"text_15\">\n      <!-- 1.5 -->\n      <g transform=\"translate(15.579688 14.798437)scale(0.1 -0.1)\">\n       <use xlink:href=\"#DejaVuSans-49\"/>\n       <use x=\"63.623047\" xlink:href=\"#DejaVuSans-46\"/>\n       <use x=\"95.410156\" xlink:href=\"#DejaVuSans-53\"/>\n      </g>\n     </g>\n    </g>\n   </g>\n   <g id=\"line2d_16\">\n    <path clip-path=\"url(#p20e556ff59)\" d=\"M 53.700994 216.578855 \nL 59.912497 147.126275 \nL 66.124 112.750756 \nL 72.335503 92.236333 \nL 78.547005 78.605945 \nL 84.758508 68.892335 \nL 90.970011 61.61933 \nL 97.181514 55.969764 \nL 103.393017 51.454649 \nL 109.604519 47.76346 \nL 115.816022 44.689527 \nL 122.027525 42.089966 \nL 128.239028 39.862835 \nL 134.45053 37.933449 \nL 140.662033 36.245841 \nL 146.873536 34.757243 \nL 153.085039 33.434413 \nL 159.296542 32.251122 \nL 165.508044 31.186397 \nL 171.719547 30.223269 \nL 177.93105 29.347857 \nL 184.142553 28.5487 \nL 190.354056 27.816251 \nL 196.565558 27.142491 \nL 202.777061 26.52064 \nL 208.988564 25.944919 \nL 215.200067 25.410381 \nL 221.411569 24.912758 \nL 227.623072 24.448354 \nL 233.834575 24.01395 \nL 240.046078 23.606731 \nL 246.257581 23.224221 \nL 252.469083 22.864239 \nL 258.680586 22.524851 \nL 264.892089 22.204338 \nL 271.103592 21.901169 \nL 277.315095 21.613973 \nL 283.526597 21.341521 \nL 289.7381 21.082704 \nL 295.949603 20.836526 \nL 302.161106 20.602081 \nL 308.372608 20.37855 \nL 314.584111 20.16519 \nL 320.795614 19.96132 \nL 327.007117 19.766322 \nL 333.21862 19.579629 \nL 339.430122 19.400722 \nL 345.641625 19.229122 \nL 351.853128 19.064393 \nL 358.064631 18.906128 \n\" style=\"fill:none;stroke:#1f77b4;stroke-linecap:square;stroke-width:1.5;\"/>\n   </g>\n   <g id=\"line2d_17\">\n    <defs>\n     <path d=\"M 0 3 \nC 0.795609 3 1.55874 2.683901 2.12132 2.12132 \nC 2.683901 1.55874 3 0.795609 3 0 \nC 3 -0.795609 2.683901 -1.55874 2.12132 -2.12132 \nC 1.55874 -2.683901 0.795609 -3 0 -3 \nC -0.795609 -3 -1.55874 -2.683901 -2.12132 -2.12132 \nC -2.683901 -1.55874 -3 -0.795609 -3 0 \nC -3 0.795609 -2.683901 1.55874 -2.12132 2.12132 \nC -1.55874 2.683901 -0.795609 3 0 3 \nz\n\" id=\"m90e05e1387\" style=\"stroke:#008000;\"/>\n    </defs>\n    <g clip-path=\"url(#p20e556ff59)\">\n     <use style=\"fill:#008000;stroke:#008000;\" x=\"53.700994\" xlink:href=\"#m90e05e1387\" y=\"216.578855\"/>\n     <use style=\"fill:#008000;stroke:#008000;\" x=\"65.87554\" xlink:href=\"#m90e05e1387\" y=\"113.789037\"/>\n     <use style=\"fill:#008000;stroke:#008000;\" x=\"78.050085\" xlink:href=\"#m90e05e1387\" y=\"79.525764\"/>\n     <use style=\"fill:#008000;stroke:#008000;\" x=\"90.224631\" xlink:href=\"#m90e05e1387\" y=\"62.394128\"/>\n     <use style=\"fill:#008000;stroke:#008000;\" x=\"102.399176\" xlink:href=\"#m90e05e1387\" y=\"52.115146\"/>\n     <use style=\"fill:#008000;stroke:#008000;\" x=\"114.573722\" xlink:href=\"#m90e05e1387\" y=\"45.262491\"/>\n     <use style=\"fill:#008000;stroke:#008000;\" x=\"126.748267\" xlink:href=\"#m90e05e1387\" y=\"40.367738\"/>\n     <use style=\"fill:#008000;stroke:#008000;\" x=\"138.922812\" xlink:href=\"#m90e05e1387\" y=\"36.696673\"/>\n     <use style=\"fill:#008000;stroke:#008000;\" x=\"151.097358\" xlink:href=\"#m90e05e1387\" y=\"33.841401\"/>\n     <use style=\"fill:#008000;stroke:#008000;\" x=\"163.271903\" xlink:href=\"#m90e05e1387\" y=\"31.557182\"/>\n     <use style=\"fill:#008000;stroke:#008000;\" x=\"175.446449\" xlink:href=\"#m90e05e1387\" y=\"29.688277\"/>\n     <use style=\"fill:#008000;stroke:#008000;\" x=\"187.620994\" xlink:href=\"#m90e05e1387\" y=\"28.130855\"/>\n     <use style=\"fill:#008000;stroke:#008000;\" x=\"199.79554\" xlink:href=\"#m90e05e1387\" y=\"26.813037\"/>\n     <use style=\"fill:#008000;stroke:#008000;\" x=\"211.970085\" xlink:href=\"#m90e05e1387\" y=\"25.683478\"/>\n     <use style=\"fill:#008000;stroke:#008000;\" x=\"224.144631\" xlink:href=\"#m90e05e1387\" y=\"24.704528\"/>\n     <use style=\"fill:#008000;stroke:#008000;\" x=\"236.319176\" xlink:href=\"#m90e05e1387\" y=\"23.847946\"/>\n     <use style=\"fill:#008000;stroke:#008000;\" x=\"248.493722\" xlink:href=\"#m90e05e1387\" y=\"23.092139\"/>\n     <use style=\"fill:#008000;stroke:#008000;\" x=\"260.668267\" xlink:href=\"#m90e05e1387\" y=\"22.42031\"/>\n     <use style=\"fill:#008000;stroke:#008000;\" x=\"272.842812\" xlink:href=\"#m90e05e1387\" y=\"21.8192\"/>\n     <use style=\"fill:#008000;stroke:#008000;\" x=\"285.017358\" xlink:href=\"#m90e05e1387\" y=\"21.278201\"/>\n     <use style=\"fill:#008000;stroke:#008000;\" x=\"297.191903\" xlink:href=\"#m90e05e1387\" y=\"20.788725\"/>\n     <use style=\"fill:#008000;stroke:#008000;\" x=\"309.366449\" xlink:href=\"#m90e05e1387\" y=\"20.343748\"/>\n     <use style=\"fill:#008000;stroke:#008000;\" x=\"321.540994\" xlink:href=\"#m90e05e1387\" y=\"19.937464\"/>\n     <use style=\"fill:#008000;stroke:#008000;\" x=\"333.71554\" xlink:href=\"#m90e05e1387\" y=\"19.565037\"/>\n     <use style=\"fill:#008000;stroke:#008000;\" x=\"345.890085\" xlink:href=\"#m90e05e1387\" y=\"19.222404\"/>\n    </g>\n   </g>\n   <g id=\"line2d_18\">\n    <path clip-path=\"url(#p20e556ff59)\" d=\"M 53.700994 88.091582 \nL 358.064631 88.091582 \n\" style=\"fill:none;stroke:#008000;stroke-linecap:square;stroke-width:1.5;\"/>\n   </g>\n   <g id=\"line2d_19\">\n    <path clip-path=\"url(#p20e556ff59)\" d=\"M 53.700994 88.091582 \nL 53.700994 216.578855 \n\" style=\"fill:none;stroke:#000000;stroke-linecap:square;stroke-width:1.5;\"/>\n   </g>\n   <g id=\"line2d_20\">\n    <path clip-path=\"url(#p20e556ff59)\" d=\"M 65.87554 88.091582 \nL 65.87554 113.789037 \n\" style=\"fill:none;stroke:#000000;stroke-linecap:square;stroke-width:1.5;\"/>\n   </g>\n   <g id=\"line2d_21\">\n    <path clip-path=\"url(#p20e556ff59)\" d=\"M 78.050085 88.091582 \nL 78.050085 79.525764 \n\" style=\"fill:none;stroke:#000000;stroke-linecap:square;stroke-width:1.5;\"/>\n   </g>\n   <g id=\"line2d_22\">\n    <path clip-path=\"url(#p20e556ff59)\" d=\"M 90.224631 88.091582 \nL 90.224631 62.394128 \n\" style=\"fill:none;stroke:#000000;stroke-linecap:square;stroke-width:1.5;\"/>\n   </g>\n   <g id=\"line2d_23\">\n    <path clip-path=\"url(#p20e556ff59)\" d=\"M 102.399176 88.091582 \nL 102.399176 52.115146 \n\" style=\"fill:none;stroke:#000000;stroke-linecap:square;stroke-width:1.5;\"/>\n   </g>\n   <g id=\"line2d_24\">\n    <path clip-path=\"url(#p20e556ff59)\" d=\"M 114.573722 88.091582 \nL 114.573722 45.262491 \n\" style=\"fill:none;stroke:#000000;stroke-linecap:square;stroke-width:1.5;\"/>\n   </g>\n   <g id=\"line2d_25\">\n    <path clip-path=\"url(#p20e556ff59)\" d=\"M 126.748267 88.091582 \nL 126.748267 40.367738 \n\" style=\"fill:none;stroke:#000000;stroke-linecap:square;stroke-width:1.5;\"/>\n   </g>\n   <g id=\"line2d_26\">\n    <path clip-path=\"url(#p20e556ff59)\" d=\"M 138.922812 88.091582 \nL 138.922812 36.696673 \n\" style=\"fill:none;stroke:#000000;stroke-linecap:square;stroke-width:1.5;\"/>\n   </g>\n   <g id=\"line2d_27\">\n    <path clip-path=\"url(#p20e556ff59)\" d=\"M 151.097358 88.091582 \nL 151.097358 33.841401 \n\" style=\"fill:none;stroke:#000000;stroke-linecap:square;stroke-width:1.5;\"/>\n   </g>\n   <g id=\"line2d_28\">\n    <path clip-path=\"url(#p20e556ff59)\" d=\"M 163.271903 88.091582 \nL 163.271903 31.557182 \n\" style=\"fill:none;stroke:#000000;stroke-linecap:square;stroke-width:1.5;\"/>\n   </g>\n   <g id=\"line2d_29\">\n    <path clip-path=\"url(#p20e556ff59)\" d=\"M 175.446449 88.091582 \nL 175.446449 29.688277 \n\" style=\"fill:none;stroke:#000000;stroke-linecap:square;stroke-width:1.5;\"/>\n   </g>\n   <g id=\"line2d_30\">\n    <path clip-path=\"url(#p20e556ff59)\" d=\"M 187.620994 88.091582 \nL 187.620994 28.130855 \n\" style=\"fill:none;stroke:#000000;stroke-linecap:square;stroke-width:1.5;\"/>\n   </g>\n   <g id=\"line2d_31\">\n    <path clip-path=\"url(#p20e556ff59)\" d=\"M 199.79554 88.091582 \nL 199.79554 26.813037 \n\" style=\"fill:none;stroke:#000000;stroke-linecap:square;stroke-width:1.5;\"/>\n   </g>\n   <g id=\"line2d_32\">\n    <path clip-path=\"url(#p20e556ff59)\" d=\"M 211.970085 88.091582 \nL 211.970085 25.683478 \n\" style=\"fill:none;stroke:#000000;stroke-linecap:square;stroke-width:1.5;\"/>\n   </g>\n   <g id=\"line2d_33\">\n    <path clip-path=\"url(#p20e556ff59)\" d=\"M 224.144631 88.091582 \nL 224.144631 24.704528 \n\" style=\"fill:none;stroke:#000000;stroke-linecap:square;stroke-width:1.5;\"/>\n   </g>\n   <g id=\"line2d_34\">\n    <path clip-path=\"url(#p20e556ff59)\" d=\"M 236.319176 88.091582 \nL 236.319176 23.847946 \n\" style=\"fill:none;stroke:#000000;stroke-linecap:square;stroke-width:1.5;\"/>\n   </g>\n   <g id=\"line2d_35\">\n    <path clip-path=\"url(#p20e556ff59)\" d=\"M 248.493722 88.091582 \nL 248.493722 23.092139 \n\" style=\"fill:none;stroke:#000000;stroke-linecap:square;stroke-width:1.5;\"/>\n   </g>\n   <g id=\"line2d_36\">\n    <path clip-path=\"url(#p20e556ff59)\" d=\"M 260.668267 88.091582 \nL 260.668267 22.42031 \n\" style=\"fill:none;stroke:#000000;stroke-linecap:square;stroke-width:1.5;\"/>\n   </g>\n   <g id=\"line2d_37\">\n    <path clip-path=\"url(#p20e556ff59)\" d=\"M 272.842812 88.091582 \nL 272.842812 21.8192 \n\" style=\"fill:none;stroke:#000000;stroke-linecap:square;stroke-width:1.5;\"/>\n   </g>\n   <g id=\"line2d_38\">\n    <path clip-path=\"url(#p20e556ff59)\" d=\"M 285.017358 88.091582 \nL 285.017358 21.278201 \n\" style=\"fill:none;stroke:#000000;stroke-linecap:square;stroke-width:1.5;\"/>\n   </g>\n   <g id=\"line2d_39\">\n    <path clip-path=\"url(#p20e556ff59)\" d=\"M 297.191903 88.091582 \nL 297.191903 20.788725 \n\" style=\"fill:none;stroke:#000000;stroke-linecap:square;stroke-width:1.5;\"/>\n   </g>\n   <g id=\"line2d_40\">\n    <path clip-path=\"url(#p20e556ff59)\" d=\"M 309.366449 88.091582 \nL 309.366449 20.343748 \n\" style=\"fill:none;stroke:#000000;stroke-linecap:square;stroke-width:1.5;\"/>\n   </g>\n   <g id=\"line2d_41\">\n    <path clip-path=\"url(#p20e556ff59)\" d=\"M 321.540994 88.091582 \nL 321.540994 19.937464 \n\" style=\"fill:none;stroke:#000000;stroke-linecap:square;stroke-width:1.5;\"/>\n   </g>\n   <g id=\"line2d_42\">\n    <path clip-path=\"url(#p20e556ff59)\" d=\"M 333.71554 88.091582 \nL 333.71554 19.565037 \n\" style=\"fill:none;stroke:#000000;stroke-linecap:square;stroke-width:1.5;\"/>\n   </g>\n   <g id=\"line2d_43\">\n    <path clip-path=\"url(#p20e556ff59)\" d=\"M 345.890085 88.091582 \nL 345.890085 19.222404 \n\" style=\"fill:none;stroke:#000000;stroke-linecap:square;stroke-width:1.5;\"/>\n   </g>\n   <g id=\"patch_3\">\n    <path d=\"M 38.482813 226.462491 \nL 38.482813 9.022491 \n\" style=\"fill:none;stroke:#000000;stroke-linecap:square;stroke-linejoin:miter;stroke-width:0.8;\"/>\n   </g>\n   <g id=\"patch_4\">\n    <path d=\"M 373.282813 226.462491 \nL 373.282813 9.022491 \n\" style=\"fill:none;stroke:#000000;stroke-linecap:square;stroke-linejoin:miter;stroke-width:0.8;\"/>\n   </g>\n   <g id=\"patch_5\">\n    <path d=\"M 38.482813 226.462491 \nL 373.282812 226.462491 \n\" style=\"fill:none;stroke:#000000;stroke-linecap:square;stroke-linejoin:miter;stroke-width:0.8;\"/>\n   </g>\n   <g id=\"patch_6\">\n    <path d=\"M 38.482813 9.022491 \nL 373.282812 9.022491 \n\" style=\"fill:none;stroke:#000000;stroke-linecap:square;stroke-linejoin:miter;stroke-width:0.8;\"/>\n   </g>\n  </g>\n </g>\n <defs>\n  <clipPath id=\"p20e556ff59\">\n   <rect height=\"217.44\" width=\"334.8\" x=\"38.482813\" y=\"9.022491\"/>\n  </clipPath>\n </defs>\n</svg>\n",
      "image/png": "[encoded data removed]"
     },
     "metadata": {
      "needs_background": "light"
     }
    }
   ],
   "source": [
    "# trace de la fonction\n",
    "x = np.linspace(0,N)\n",
    "plt.plot(x, F(x))\n",
    "\n",
    "# trace des elements de la suite\n",
    "plt.plot(range(N), liste_elements, 'og')\n",
    "\n",
    "# trace de la ligne y = 0\n",
    "plt.plot([0, N], [0, 0], 'g')\n",
    "\n",
    "# trace des segments\n",
    "for k in range(N):\n",
    "    plt.plot([k, k], [0, F(k)], 'k')"
   ]
  },
  {
   "source": [
    "Un peu plus intéressant, introduisons maintenant la suite $u_n$ définie par récurrence:\n",
    "\n",
    "$$\n",
    "u_{n+1} = u_n - \\ln{u_n}\n",
    "$$\n",
    "\n",
    "Une écriture équivalente est:\n",
    "\n",
    "$$\n",
    "u_{n+1} = G(u_n), \\ \\text{avec} \\ G(x) = x - \\ln{x}\n",
    "$$"
   ],
   "cell_type": "markdown",
   "metadata": {}
  },
  {
   "source": [
    "Ainsi, le terme $n+1$ est trouvé en prenant l'image par la fonction $G$ du terme $n$. Supposons que $u_0=10$, on peut alors calculer $u_1$:"
   ],
   "cell_type": "markdown",
   "metadata": {}
  },
  {
   "cell_type": "code",
   "execution_count": 48,
   "metadata": {
    "tags": []
   },
   "outputs": [
    {
     "output_type": "stream",
     "name": "stdout",
     "text": "7.697414907005954\n5.656530360877891\n"
    }
   ],
   "source": [
    "# initialisation de la suite\n",
    "u0 = 10\n",
    "\n",
    "# definition de la fonction G\n",
    "def G(x):\n",
    "    return x - np.log(x)\n",
    "\n",
    "# calcul des termes suivants\n",
    "u1 = G(u0)\n",
    "u2 = G(u1)\n",
    "\n",
    "# affichage\n",
    "print(u1)\n",
    "print(u2)"
   ]
  },
  {
   "source": [
    "On peut illustrer cela sur le graphique suivant. D'abord, on trace la bissectrice $y=x$ et la fonction $G$. Ensuite, pour trouver $u_1$:\n",
    "\n",
    "1. on place le point $U_0 \\ (x=u_0, y=u_0)$ sur la bissectrice\n",
    "2. on place le point $U_{01} \\ (x=u_0, y=G(u_0)=u_1)$ sur la fonction $G$ en traçant une ligne verticale depuis le point $U_0$\n",
    "\n",
    "Pour trouver le point suivant:\n",
    "\n",
    "3. on place le point $U_1 \\ (x=u_1, y=u_1)$ sur la bissectrice en traçant une ligne horizontale depuis le point $U_{01}$\n",
    "4. on place le point $U_{12} \\ (x=u_1, y=G(u_1)=u_2)$ sur la fonction $G$ en traçant une ligne verticale depuis le point $U_1$\n",
    "\n",
    "et ainsi de suite ..."
   ],
   "cell_type": "markdown",
   "metadata": {}
  },
  {
   "cell_type": "code",
   "execution_count": 49,
   "metadata": {},
   "outputs": [
    {
     "output_type": "execute_result",
     "data": {
      "text/plain": "[<matplotlib.lines.Line2D at 0x7fa2901aa1d0>]"
     },
     "metadata": {},
     "execution_count": 49
    },
    {
     "output_type": "display_data",
     "data": {
      "text/plain": "<Figure size 432x288 with 1 Axes>",
      "image/svg+xml": "<?xml version=\"1.0\" encoding=\"utf-8\" standalone=\"no\"?>\n<!DOCTYPE svg PUBLIC \"-//W3C//DTD SVG 1.1//EN\"\n  \"http://www.w3.org/Graphics/SVG/1.1/DTD/svg11.dtd\">\n<!-- Created with matplotlib (https://matplotlib.org/) -->\n<svg height=\"248.518125pt\" version=\"1.1\" viewBox=\"0 0 368.925 248.518125\" width=\"368.925pt\" xmlns=\"http://www.w3.org/2000/svg\" xmlns:xlink=\"http://www.w3.org/1999/xlink\">\n <defs>\n  <style type=\"text/css\">\n*{stroke-linecap:butt;stroke-linejoin:round;}\n  </style>\n </defs>\n <g id=\"figure_1\">\n  <g id=\"patch_1\">\n   <path d=\"M -0 248.518125 \nL 368.925 248.518125 \nL 368.925 0 \nL -0 0 \nz\n\" style=\"fill:none;\"/>\n  </g>\n  <g id=\"axes_1\">\n   <g id=\"patch_2\">\n    <path d=\"M 26.925 224.64 \nL 361.725 224.64 \nL 361.725 7.2 \nL 26.925 7.2 \nz\n\" style=\"fill:#ffffff;\"/>\n   </g>\n   <g id=\"matplotlib.axis_1\">\n    <g id=\"xtick_1\">\n     <g id=\"line2d_1\">\n      <defs>\n       <path d=\"M 0 0 \nL 0 3.5 \n\" id=\"m9403ded5d3\" style=\"stroke:#000000;stroke-width:0.8;\"/>\n      </defs>\n      <g>\n       <use style=\"stroke:#000000;stroke-width:0.8;\" x=\"42.117816\" xlink:href=\"#m9403ded5d3\" y=\"224.64\"/>\n      </g>\n     </g>\n     <g id=\"text_1\">\n      <!-- 0 -->\n      <defs>\n       <path d=\"M 31.78125 66.40625 \nQ 24.171875 66.40625 20.328125 58.90625 \nQ 16.5 51.421875 16.5 36.375 \nQ 16.5 21.390625 20.328125 13.890625 \nQ 24.171875 6.390625 31.78125 6.390625 \nQ 39.453125 6.390625 43.28125 13.890625 \nQ 47.125 21.390625 47.125 36.375 \nQ 47.125 51.421875 43.28125 58.90625 \nQ 39.453125 66.40625 31.78125 66.40625 \nz\nM 31.78125 74.21875 \nQ 44.046875 74.21875 50.515625 64.515625 \nQ 56.984375 54.828125 56.984375 36.375 \nQ 56.984375 17.96875 50.515625 8.265625 \nQ 44.046875 -1.421875 31.78125 -1.421875 \nQ 19.53125 -1.421875 13.0625 8.265625 \nQ 6.59375 17.96875 6.59375 36.375 \nQ 6.59375 54.828125 13.0625 64.515625 \nQ 19.53125 74.21875 31.78125 74.21875 \nz\n\" id=\"DejaVuSans-48\"/>\n      </defs>\n      <g transform=\"translate(38.936566 239.238437)scale(0.1 -0.1)\">\n       <use xlink:href=\"#DejaVuSans-48\"/>\n      </g>\n     </g>\n    </g>\n    <g id=\"xtick_2\">\n     <g id=\"line2d_2\">\n      <g>\n       <use style=\"stroke:#000000;stroke-width:0.8;\" x=\"92.849316\" xlink:href=\"#m9403ded5d3\" y=\"224.64\"/>\n      </g>\n     </g>\n     <g id=\"text_2\">\n      <!-- 2 -->\n      <defs>\n       <path d=\"M 19.1875 8.296875 \nL 53.609375 8.296875 \nL 53.609375 0 \nL 7.328125 0 \nL 7.328125 8.296875 \nQ 12.9375 14.109375 22.625 23.890625 \nQ 32.328125 33.6875 34.8125 36.53125 \nQ 39.546875 41.84375 41.421875 45.53125 \nQ 43.3125 49.21875 43.3125 52.78125 \nQ 43.3125 58.59375 39.234375 62.25 \nQ 35.15625 65.921875 28.609375 65.921875 \nQ 23.96875 65.921875 18.8125 64.3125 \nQ 13.671875 62.703125 7.8125 59.421875 \nL 7.8125 69.390625 \nQ 13.765625 71.78125 18.9375 73 \nQ 24.125 74.21875 28.421875 74.21875 \nQ 39.75 74.21875 46.484375 68.546875 \nQ 53.21875 62.890625 53.21875 53.421875 \nQ 53.21875 48.921875 51.53125 44.890625 \nQ 49.859375 40.875 45.40625 35.40625 \nQ 44.1875 33.984375 37.640625 27.21875 \nQ 31.109375 20.453125 19.1875 8.296875 \nz\n\" id=\"DejaVuSans-50\"/>\n      </defs>\n      <g transform=\"translate(89.668066 239.238437)scale(0.1 -0.1)\">\n       <use xlink:href=\"#DejaVuSans-50\"/>\n      </g>\n     </g>\n    </g>\n    <g id=\"xtick_3\">\n     <g id=\"line2d_3\">\n      <g>\n       <use style=\"stroke:#000000;stroke-width:0.8;\" x=\"143.580817\" xlink:href=\"#m9403ded5d3\" y=\"224.64\"/>\n      </g>\n     </g>\n     <g id=\"text_3\">\n      <!-- 4 -->\n      <defs>\n       <path d=\"M 37.796875 64.3125 \nL 12.890625 25.390625 \nL 37.796875 25.390625 \nz\nM 35.203125 72.90625 \nL 47.609375 72.90625 \nL 47.609375 25.390625 \nL 58.015625 25.390625 \nL 58.015625 17.1875 \nL 47.609375 17.1875 \nL 47.609375 0 \nL 37.796875 0 \nL 37.796875 17.1875 \nL 4.890625 17.1875 \nL 4.890625 26.703125 \nz\n\" id=\"DejaVuSans-52\"/>\n      </defs>\n      <g transform=\"translate(140.399567 239.238437)scale(0.1 -0.1)\">\n       <use xlink:href=\"#DejaVuSans-52\"/>\n      </g>\n     </g>\n    </g>\n    <g id=\"xtick_4\">\n     <g id=\"line2d_4\">\n      <g>\n       <use style=\"stroke:#000000;stroke-width:0.8;\" x=\"194.312317\" xlink:href=\"#m9403ded5d3\" y=\"224.64\"/>\n      </g>\n     </g>\n     <g id=\"text_4\">\n      <!-- 6 -->\n      <defs>\n       <path d=\"M 33.015625 40.375 \nQ 26.375 40.375 22.484375 35.828125 \nQ 18.609375 31.296875 18.609375 23.390625 \nQ 18.609375 15.53125 22.484375 10.953125 \nQ 26.375 6.390625 33.015625 6.390625 \nQ 39.65625 6.390625 43.53125 10.953125 \nQ 47.40625 15.53125 47.40625 23.390625 \nQ 47.40625 31.296875 43.53125 35.828125 \nQ 39.65625 40.375 33.015625 40.375 \nz\nM 52.59375 71.296875 \nL 52.59375 62.3125 \nQ 48.875 64.0625 45.09375 64.984375 \nQ 41.3125 65.921875 37.59375 65.921875 \nQ 27.828125 65.921875 22.671875 59.328125 \nQ 17.53125 52.734375 16.796875 39.40625 \nQ 19.671875 43.65625 24.015625 45.921875 \nQ 28.375 48.1875 33.59375 48.1875 \nQ 44.578125 48.1875 50.953125 41.515625 \nQ 57.328125 34.859375 57.328125 23.390625 \nQ 57.328125 12.15625 50.6875 5.359375 \nQ 44.046875 -1.421875 33.015625 -1.421875 \nQ 20.359375 -1.421875 13.671875 8.265625 \nQ 6.984375 17.96875 6.984375 36.375 \nQ 6.984375 53.65625 15.1875 63.9375 \nQ 23.390625 74.21875 37.203125 74.21875 \nQ 40.921875 74.21875 44.703125 73.484375 \nQ 48.484375 72.75 52.59375 71.296875 \nz\n\" id=\"DejaVuSans-54\"/>\n      </defs>\n      <g transform=\"translate(191.131067 239.238437)scale(0.1 -0.1)\">\n       <use xlink:href=\"#DejaVuSans-54\"/>\n      </g>\n     </g>\n    </g>\n    <g id=\"xtick_5\">\n     <g id=\"line2d_5\">\n      <g>\n       <use style=\"stroke:#000000;stroke-width:0.8;\" x=\"245.043817\" xlink:href=\"#m9403ded5d3\" y=\"224.64\"/>\n      </g>\n     </g>\n     <g id=\"text_5\">\n      <!-- 8 -->\n      <defs>\n       <path d=\"M 31.78125 34.625 \nQ 24.75 34.625 20.71875 30.859375 \nQ 16.703125 27.09375 16.703125 20.515625 \nQ 16.703125 13.921875 20.71875 10.15625 \nQ 24.75 6.390625 31.78125 6.390625 \nQ 38.8125 6.390625 42.859375 10.171875 \nQ 46.921875 13.96875 46.921875 20.515625 \nQ 46.921875 27.09375 42.890625 30.859375 \nQ 38.875 34.625 31.78125 34.625 \nz\nM 21.921875 38.8125 \nQ 15.578125 40.375 12.03125 44.71875 \nQ 8.5 49.078125 8.5 55.328125 \nQ 8.5 64.0625 14.71875 69.140625 \nQ 20.953125 74.21875 31.78125 74.21875 \nQ 42.671875 74.21875 48.875 69.140625 \nQ 55.078125 64.0625 55.078125 55.328125 \nQ 55.078125 49.078125 51.53125 44.71875 \nQ 48 40.375 41.703125 38.8125 \nQ 48.828125 37.15625 52.796875 32.3125 \nQ 56.78125 27.484375 56.78125 20.515625 \nQ 56.78125 9.90625 50.3125 4.234375 \nQ 43.84375 -1.421875 31.78125 -1.421875 \nQ 19.734375 -1.421875 13.25 4.234375 \nQ 6.78125 9.90625 6.78125 20.515625 \nQ 6.78125 27.484375 10.78125 32.3125 \nQ 14.796875 37.15625 21.921875 38.8125 \nz\nM 18.3125 54.390625 \nQ 18.3125 48.734375 21.84375 45.5625 \nQ 25.390625 42.390625 31.78125 42.390625 \nQ 38.140625 42.390625 41.71875 45.5625 \nQ 45.3125 48.734375 45.3125 54.390625 \nQ 45.3125 60.0625 41.71875 63.234375 \nQ 38.140625 66.40625 31.78125 66.40625 \nQ 25.390625 66.40625 21.84375 63.234375 \nQ 18.3125 60.0625 18.3125 54.390625 \nz\n\" id=\"DejaVuSans-56\"/>\n      </defs>\n      <g transform=\"translate(241.862567 239.238437)scale(0.1 -0.1)\">\n       <use xlink:href=\"#DejaVuSans-56\"/>\n      </g>\n     </g>\n    </g>\n    <g id=\"xtick_6\">\n     <g id=\"line2d_6\">\n      <g>\n       <use style=\"stroke:#000000;stroke-width:0.8;\" x=\"295.775318\" xlink:href=\"#m9403ded5d3\" y=\"224.64\"/>\n      </g>\n     </g>\n     <g id=\"text_6\">\n      <!-- 10 -->\n      <defs>\n       <path d=\"M 12.40625 8.296875 \nL 28.515625 8.296875 \nL 28.515625 63.921875 \nL 10.984375 60.40625 \nL 10.984375 69.390625 \nL 28.421875 72.90625 \nL 38.28125 72.90625 \nL 38.28125 8.296875 \nL 54.390625 8.296875 \nL 54.390625 0 \nL 12.40625 0 \nz\n\" id=\"DejaVuSans-49\"/>\n      </defs>\n      <g transform=\"translate(289.412818 239.238437)scale(0.1 -0.1)\">\n       <use xlink:href=\"#DejaVuSans-49\"/>\n       <use x=\"63.623047\" xlink:href=\"#DejaVuSans-48\"/>\n      </g>\n     </g>\n    </g>\n    <g id=\"xtick_7\">\n     <g id=\"line2d_7\">\n      <g>\n       <use style=\"stroke:#000000;stroke-width:0.8;\" x=\"346.506818\" xlink:href=\"#m9403ded5d3\" y=\"224.64\"/>\n      </g>\n     </g>\n     <g id=\"text_7\">\n      <!-- 12 -->\n      <g transform=\"translate(340.144318 239.238437)scale(0.1 -0.1)\">\n       <use xlink:href=\"#DejaVuSans-49\"/>\n       <use x=\"63.623047\" xlink:href=\"#DejaVuSans-50\"/>\n      </g>\n     </g>\n    </g>\n   </g>\n   <g id=\"matplotlib.axis_2\">\n    <g id=\"ytick_1\">\n     <g id=\"line2d_8\">\n      <defs>\n       <path d=\"M 0 0 \nL -3.5 0 \n\" id=\"mb97e5d34ea\" style=\"stroke:#000000;stroke-width:0.8;\"/>\n      </defs>\n      <g>\n       <use style=\"stroke:#000000;stroke-width:0.8;\" x=\"26.925\" xlink:href=\"#mb97e5d34ea\" y=\"214.772838\"/>\n      </g>\n     </g>\n     <g id=\"text_8\">\n      <!-- 0 -->\n      <g transform=\"translate(13.5625 218.572056)scale(0.1 -0.1)\">\n       <use xlink:href=\"#DejaVuSans-48\"/>\n      </g>\n     </g>\n    </g>\n    <g id=\"ytick_2\">\n     <g id=\"line2d_9\">\n      <g>\n       <use style=\"stroke:#000000;stroke-width:0.8;\" x=\"26.925\" xlink:href=\"#mb97e5d34ea\" y=\"181.824638\"/>\n      </g>\n     </g>\n     <g id=\"text_9\">\n      <!-- 2 -->\n      <g transform=\"translate(13.5625 185.623856)scale(0.1 -0.1)\">\n       <use xlink:href=\"#DejaVuSans-50\"/>\n      </g>\n     </g>\n    </g>\n    <g id=\"ytick_3\">\n     <g id=\"line2d_10\">\n      <g>\n       <use style=\"stroke:#000000;stroke-width:0.8;\" x=\"26.925\" xlink:href=\"#mb97e5d34ea\" y=\"148.876437\"/>\n      </g>\n     </g>\n     <g id=\"text_10\">\n      <!-- 4 -->\n      <g transform=\"translate(13.5625 152.675656)scale(0.1 -0.1)\">\n       <use xlink:href=\"#DejaVuSans-52\"/>\n      </g>\n     </g>\n    </g>\n    <g id=\"ytick_4\">\n     <g id=\"line2d_11\">\n      <g>\n       <use style=\"stroke:#000000;stroke-width:0.8;\" x=\"26.925\" xlink:href=\"#mb97e5d34ea\" y=\"115.928237\"/>\n      </g>\n     </g>\n     <g id=\"text_11\">\n      <!-- 6 -->\n      <g transform=\"translate(13.5625 119.727456)scale(0.1 -0.1)\">\n       <use xlink:href=\"#DejaVuSans-54\"/>\n      </g>\n     </g>\n    </g>\n    <g id=\"ytick_5\">\n     <g id=\"line2d_12\">\n      <g>\n       <use style=\"stroke:#000000;stroke-width:0.8;\" x=\"26.925\" xlink:href=\"#mb97e5d34ea\" y=\"82.980037\"/>\n      </g>\n     </g>\n     <g id=\"text_12\">\n      <!-- 8 -->\n      <g transform=\"translate(13.5625 86.779256)scale(0.1 -0.1)\">\n       <use xlink:href=\"#DejaVuSans-56\"/>\n      </g>\n     </g>\n    </g>\n    <g id=\"ytick_6\">\n     <g id=\"line2d_13\">\n      <g>\n       <use style=\"stroke:#000000;stroke-width:0.8;\" x=\"26.925\" xlink:href=\"#mb97e5d34ea\" y=\"50.031837\"/>\n      </g>\n     </g>\n     <g id=\"text_13\">\n      <!-- 10 -->\n      <g transform=\"translate(7.2 53.831055)scale(0.1 -0.1)\">\n       <use xlink:href=\"#DejaVuSans-49\"/>\n       <use x=\"63.623047\" xlink:href=\"#DejaVuSans-48\"/>\n      </g>\n     </g>\n    </g>\n    <g id=\"ytick_7\">\n     <g id=\"line2d_14\">\n      <g>\n       <use style=\"stroke:#000000;stroke-width:0.8;\" x=\"26.925\" xlink:href=\"#mb97e5d34ea\" y=\"17.083636\"/>\n      </g>\n     </g>\n     <g id=\"text_14\">\n      <!-- 12 -->\n      <g transform=\"translate(7.2 20.882855)scale(0.1 -0.1)\">\n       <use xlink:href=\"#DejaVuSans-49\"/>\n       <use x=\"63.623047\" xlink:href=\"#DejaVuSans-50\"/>\n      </g>\n     </g>\n    </g>\n   </g>\n   <g id=\"line2d_15\">\n    <path clip-path=\"url(#p67bb32b173)\" d=\"M 42.143182 214.756364 \nL 48.354685 210.722226 \nL 54.566187 206.688089 \nL 60.77769 202.653952 \nL 66.989193 198.619814 \nL 73.200696 194.585677 \nL 79.412199 190.55154 \nL 85.623701 186.517403 \nL 91.835204 182.483265 \nL 98.046707 178.449128 \nL 104.25821 174.414991 \nL 110.469712 170.380853 \nL 116.681215 166.346716 \nL 122.892718 162.312579 \nL 129.104221 158.278442 \nL 135.315724 154.244304 \nL 141.527226 150.210167 \nL 147.738729 146.17603 \nL 153.950232 142.141892 \nL 160.161735 138.107755 \nL 166.373237 134.073618 \nL 172.58474 130.039481 \nL 178.796243 126.005343 \nL 185.007746 121.971206 \nL 191.219249 117.937069 \nL 197.430751 113.902931 \nL 203.642254 109.868794 \nL 209.853757 105.834657 \nL 216.06526 101.800519 \nL 222.276763 97.766382 \nL 228.488265 93.732245 \nL 234.699768 89.698108 \nL 240.911271 85.66397 \nL 247.122774 81.629833 \nL 253.334276 77.595696 \nL 259.545779 73.561558 \nL 265.757282 69.527421 \nL 271.968785 65.493284 \nL 278.180288 61.459147 \nL 284.39179 57.425009 \nL 290.603293 53.390872 \nL 296.814796 49.356735 \nL 303.026299 45.322597 \nL 309.237801 41.28846 \nL 315.449304 37.254323 \nL 321.660807 33.220186 \nL 327.87231 29.186048 \nL 334.083813 25.151911 \nL 340.295315 21.117774 \nL 346.506818 17.083636 \n\" style=\"fill:none;stroke:#1f77b4;stroke-linecap:square;stroke-width:1.5;\"/>\n   </g>\n   <g id=\"line2d_16\">\n    <path clip-path=\"url(#p67bb32b173)\" d=\"M 42.143182 100.957312 \nL 48.354685 187.610355 \nL 54.566187 194.961659 \nL 60.77769 197.596001 \nL 66.989193 198.295568 \nL 73.200696 197.934159 \nL 79.412199 196.901364 \nL 85.623701 195.40512 \nL 91.835204 193.569591 \nL 98.046707 191.47489 \nL 104.25821 189.175725 \nL 110.469712 186.711126 \nL 116.681215 184.109913 \nL 122.892718 181.393976 \nL 129.104221 178.580332 \nL 135.315724 175.68247 \nL 141.527226 172.711266 \nL 147.738729 169.675618 \nL 153.950232 166.582894 \nL 160.161735 163.439269 \nL 166.373237 160.249965 \nL 172.58474 157.019442 \nL 178.796243 153.751535 \nL 185.007746 150.449567 \nL 191.219249 147.116439 \nL 197.430751 143.754696 \nL 203.642254 140.366581 \nL 209.853757 136.954086 \nL 216.06526 133.518983 \nL 222.276763 130.062861 \nL 228.488265 126.587144 \nL 234.699768 123.093117 \nL 240.911271 119.581944 \nL 247.122774 116.054678 \nL 253.334276 112.512281 \nL 259.545779 108.955631 \nL 265.757282 105.38553 \nL 271.968785 101.802716 \nL 278.180288 98.207866 \nL 284.39179 94.601606 \nL 290.603293 90.984514 \nL 296.814796 87.357124 \nL 303.026299 83.719933 \nL 309.237801 80.073403 \nL 315.449304 76.417961 \nL 321.660807 72.75401 \nL 327.87231 69.081923 \nL 334.083813 65.40205 \nL 340.295315 61.714719 \nL 346.506818 58.020237 \n\" style=\"fill:none;stroke:#ff7f0e;stroke-linecap:square;stroke-width:1.5;\"/>\n   </g>\n   <g id=\"line2d_17\">\n    <defs>\n     <path d=\"M 0 3 \nC 0.795609 3 1.55874 2.683901 2.12132 2.12132 \nC 2.683901 1.55874 3 0.795609 3 0 \nC 3 -0.795609 2.683901 -1.55874 2.12132 -2.12132 \nC 1.55874 -2.683901 0.795609 -3 0 -3 \nC -0.795609 -3 -1.55874 -2.683901 -2.12132 -2.12132 \nC -2.683901 -1.55874 -3 -0.795609 -3 0 \nC -3 0.795609 -2.683901 1.55874 -2.12132 2.12132 \nC -1.55874 2.683901 -0.795609 3 0 3 \nz\n\" id=\"m8c450b3e9a\" style=\"stroke:#008000;\"/>\n    </defs>\n    <g clip-path=\"url(#p67bb32b173)\">\n     <use style=\"fill:#008000;stroke:#008000;\" x=\"295.775318\" xlink:href=\"#m8c450b3e9a\" y=\"50.031837\"/>\n    </g>\n   </g>\n   <g id=\"line2d_18\">\n    <path clip-path=\"url(#p67bb32b173)\" d=\"M 295.775318 50.031837 \nL 295.775318 87.964854 \n\" style=\"fill:none;stroke:#000000;stroke-linecap:square;stroke-width:1.5;\"/>\n   </g>\n   <g id=\"line2d_19\">\n    <g clip-path=\"url(#p67bb32b173)\">\n     <use style=\"fill:#008000;stroke:#008000;\" x=\"295.775318\" xlink:href=\"#m8c450b3e9a\" y=\"87.964854\"/>\n    </g>\n   </g>\n   <g id=\"line2d_20\">\n    <path clip-path=\"url(#p67bb32b173)\" d=\"M 295.775318 87.964854 \nL 237.36852 87.964854 \n\" style=\"fill:none;stroke:#000000;stroke-linecap:square;stroke-width:1.5;\"/>\n   </g>\n   <g id=\"line2d_21\">\n    <g clip-path=\"url(#p67bb32b173)\">\n     <use style=\"fill:#008000;stroke:#008000;\" x=\"237.36852\" xlink:href=\"#m8c450b3e9a\" y=\"87.964854\"/>\n    </g>\n   </g>\n   <g id=\"line2d_22\">\n    <path clip-path=\"url(#p67bb32b173)\" d=\"M 237.36852 87.964854 \nL 237.36852 121.58659 \n\" style=\"fill:none;stroke:#000000;stroke-linecap:square;stroke-width:1.5;\"/>\n   </g>\n   <g id=\"line2d_23\">\n    <g clip-path=\"url(#p67bb32b173)\">\n     <use style=\"fill:#008000;stroke:#008000;\" x=\"237.36852\" xlink:href=\"#m8c450b3e9a\" y=\"121.58659\"/>\n    </g>\n   </g>\n   <g id=\"patch_3\">\n    <path d=\"M 26.925 224.64 \nL 26.925 7.2 \n\" style=\"fill:none;stroke:#000000;stroke-linecap:square;stroke-linejoin:miter;stroke-width:0.8;\"/>\n   </g>\n   <g id=\"patch_4\">\n    <path d=\"M 361.725 224.64 \nL 361.725 7.2 \n\" style=\"fill:none;stroke:#000000;stroke-linecap:square;stroke-linejoin:miter;stroke-width:0.8;\"/>\n   </g>\n   <g id=\"patch_5\">\n    <path d=\"M 26.925 224.64 \nL 361.725 224.64 \n\" style=\"fill:none;stroke:#000000;stroke-linecap:square;stroke-linejoin:miter;stroke-width:0.8;\"/>\n   </g>\n   <g id=\"patch_6\">\n    <path d=\"M 26.925 7.2 \nL 361.725 7.2 \n\" style=\"fill:none;stroke:#000000;stroke-linecap:square;stroke-linejoin:miter;stroke-width:0.8;\"/>\n   </g>\n  </g>\n </g>\n <defs>\n  <clipPath id=\"p67bb32b173\">\n   <rect height=\"217.44\" width=\"334.8\" x=\"26.925\" y=\"7.2\"/>\n  </clipPath>\n </defs>\n</svg>\n",
      "image/png": "[encoded data removed]"
     },
     "metadata": {
      "needs_background": "light"
     }
    }
   ],
   "source": [
    "# limites des abscisses\n",
    "xb = 1e-3\n",
    "xe = 12\n",
    "\n",
    "# trace de la bissectrice et de la fonction G\n",
    "x = np.linspace(xb,xe)\n",
    "plt.plot(x, x)\n",
    "plt.plot(x, G(x))\n",
    "\n",
    "# etape 1: point U0\n",
    "plt.plot([u0], [u0], 'og')\n",
    "\n",
    "# etape 2: image du point U0 avec une ligne \n",
    "#   verticale -> U_01\n",
    "u1 = G(u0)\n",
    "plt.plot([u0, u0], [u0, u1], 'k')\n",
    "plt.plot([u0], [u1], 'og')\n",
    "\n",
    "# etape 3: placer le point U1 sur la bissectrice \n",
    "#   avec une ligne horizontale depuis U_01\n",
    "plt.plot([u0, u1], [u1, u1], 'k')\n",
    "plt.plot([u1], [u1], 'og')\n",
    "\n",
    "# etape 4: image du point U1 avec une ligne \n",
    "#   verticale -> U_12\n",
    "u2 = G(u1)\n",
    "plt.plot([u1, u1], [u1, u2], 'k')\n",
    "plt.plot([u1], [u2], 'og')"
   ]
  },
  {
   "source": [
    "On voit que cette visualisation peut se généraliser à N points avec une boucle `for`:"
   ],
   "cell_type": "markdown",
   "metadata": {}
  },
  {
   "cell_type": "code",
   "execution_count": 50,
   "metadata": {},
   "outputs": [
    {
     "output_type": "display_data",
     "data": {
      "text/plain": "<Figure size 432x288 with 1 Axes>",
      "image/svg+xml": "<?xml version=\"1.0\" encoding=\"utf-8\" standalone=\"no\"?>\n<!DOCTYPE svg PUBLIC \"-//W3C//DTD SVG 1.1//EN\"\n  \"http://www.w3.org/Graphics/SVG/1.1/DTD/svg11.dtd\">\n<!-- Created with matplotlib (https://matplotlib.org/) -->\n<svg height=\"248.518125pt\" version=\"1.1\" viewBox=\"0 0 368.925 248.518125\" width=\"368.925pt\" xmlns=\"http://www.w3.org/2000/svg\" xmlns:xlink=\"http://www.w3.org/1999/xlink\">\n <defs>\n  <style type=\"text/css\">\n*{stroke-linecap:butt;stroke-linejoin:round;}\n  </style>\n </defs>\n <g id=\"figure_1\">\n  <g id=\"patch_1\">\n   <path d=\"M -0 248.518125 \nL 368.925 248.518125 \nL 368.925 0 \nL -0 0 \nz\n\" style=\"fill:none;\"/>\n  </g>\n  <g id=\"axes_1\">\n   <g id=\"patch_2\">\n    <path d=\"M 26.925 224.64 \nL 361.725 224.64 \nL 361.725 7.2 \nL 26.925 7.2 \nz\n\" style=\"fill:#ffffff;\"/>\n   </g>\n   <g id=\"matplotlib.axis_1\">\n    <g id=\"xtick_1\">\n     <g id=\"line2d_1\">\n      <defs>\n       <path d=\"M 0 0 \nL 0 3.5 \n\" id=\"m7b64131653\" style=\"stroke:#000000;stroke-width:0.8;\"/>\n      </defs>\n      <g>\n       <use style=\"stroke:#000000;stroke-width:0.8;\" x=\"42.117816\" xlink:href=\"#m7b64131653\" y=\"224.64\"/>\n      </g>\n     </g>\n     <g id=\"text_1\">\n      <!-- 0 -->\n      <defs>\n       <path d=\"M 31.78125 66.40625 \nQ 24.171875 66.40625 20.328125 58.90625 \nQ 16.5 51.421875 16.5 36.375 \nQ 16.5 21.390625 20.328125 13.890625 \nQ 24.171875 6.390625 31.78125 6.390625 \nQ 39.453125 6.390625 43.28125 13.890625 \nQ 47.125 21.390625 47.125 36.375 \nQ 47.125 51.421875 43.28125 58.90625 \nQ 39.453125 66.40625 31.78125 66.40625 \nz\nM 31.78125 74.21875 \nQ 44.046875 74.21875 50.515625 64.515625 \nQ 56.984375 54.828125 56.984375 36.375 \nQ 56.984375 17.96875 50.515625 8.265625 \nQ 44.046875 -1.421875 31.78125 -1.421875 \nQ 19.53125 -1.421875 13.0625 8.265625 \nQ 6.59375 17.96875 6.59375 36.375 \nQ 6.59375 54.828125 13.0625 64.515625 \nQ 19.53125 74.21875 31.78125 74.21875 \nz\n\" id=\"DejaVuSans-48\"/>\n      </defs>\n      <g transform=\"translate(38.936566 239.238437)scale(0.1 -0.1)\">\n       <use xlink:href=\"#DejaVuSans-48\"/>\n      </g>\n     </g>\n    </g>\n    <g id=\"xtick_2\">\n     <g id=\"line2d_2\">\n      <g>\n       <use style=\"stroke:#000000;stroke-width:0.8;\" x=\"92.849316\" xlink:href=\"#m7b64131653\" y=\"224.64\"/>\n      </g>\n     </g>\n     <g id=\"text_2\">\n      <!-- 2 -->\n      <defs>\n       <path d=\"M 19.1875 8.296875 \nL 53.609375 8.296875 \nL 53.609375 0 \nL 7.328125 0 \nL 7.328125 8.296875 \nQ 12.9375 14.109375 22.625 23.890625 \nQ 32.328125 33.6875 34.8125 36.53125 \nQ 39.546875 41.84375 41.421875 45.53125 \nQ 43.3125 49.21875 43.3125 52.78125 \nQ 43.3125 58.59375 39.234375 62.25 \nQ 35.15625 65.921875 28.609375 65.921875 \nQ 23.96875 65.921875 18.8125 64.3125 \nQ 13.671875 62.703125 7.8125 59.421875 \nL 7.8125 69.390625 \nQ 13.765625 71.78125 18.9375 73 \nQ 24.125 74.21875 28.421875 74.21875 \nQ 39.75 74.21875 46.484375 68.546875 \nQ 53.21875 62.890625 53.21875 53.421875 \nQ 53.21875 48.921875 51.53125 44.890625 \nQ 49.859375 40.875 45.40625 35.40625 \nQ 44.1875 33.984375 37.640625 27.21875 \nQ 31.109375 20.453125 19.1875 8.296875 \nz\n\" id=\"DejaVuSans-50\"/>\n      </defs>\n      <g transform=\"translate(89.668066 239.238437)scale(0.1 -0.1)\">\n       <use xlink:href=\"#DejaVuSans-50\"/>\n      </g>\n     </g>\n    </g>\n    <g id=\"xtick_3\">\n     <g id=\"line2d_3\">\n      <g>\n       <use style=\"stroke:#000000;stroke-width:0.8;\" x=\"143.580817\" xlink:href=\"#m7b64131653\" y=\"224.64\"/>\n      </g>\n     </g>\n     <g id=\"text_3\">\n      <!-- 4 -->\n      <defs>\n       <path d=\"M 37.796875 64.3125 \nL 12.890625 25.390625 \nL 37.796875 25.390625 \nz\nM 35.203125 72.90625 \nL 47.609375 72.90625 \nL 47.609375 25.390625 \nL 58.015625 25.390625 \nL 58.015625 17.1875 \nL 47.609375 17.1875 \nL 47.609375 0 \nL 37.796875 0 \nL 37.796875 17.1875 \nL 4.890625 17.1875 \nL 4.890625 26.703125 \nz\n\" id=\"DejaVuSans-52\"/>\n      </defs>\n      <g transform=\"translate(140.399567 239.238437)scale(0.1 -0.1)\">\n       <use xlink:href=\"#DejaVuSans-52\"/>\n      </g>\n     </g>\n    </g>\n    <g id=\"xtick_4\">\n     <g id=\"line2d_4\">\n      <g>\n       <use style=\"stroke:#000000;stroke-width:0.8;\" x=\"194.312317\" xlink:href=\"#m7b64131653\" y=\"224.64\"/>\n      </g>\n     </g>\n     <g id=\"text_4\">\n      <!-- 6 -->\n      <defs>\n       <path d=\"M 33.015625 40.375 \nQ 26.375 40.375 22.484375 35.828125 \nQ 18.609375 31.296875 18.609375 23.390625 \nQ 18.609375 15.53125 22.484375 10.953125 \nQ 26.375 6.390625 33.015625 6.390625 \nQ 39.65625 6.390625 43.53125 10.953125 \nQ 47.40625 15.53125 47.40625 23.390625 \nQ 47.40625 31.296875 43.53125 35.828125 \nQ 39.65625 40.375 33.015625 40.375 \nz\nM 52.59375 71.296875 \nL 52.59375 62.3125 \nQ 48.875 64.0625 45.09375 64.984375 \nQ 41.3125 65.921875 37.59375 65.921875 \nQ 27.828125 65.921875 22.671875 59.328125 \nQ 17.53125 52.734375 16.796875 39.40625 \nQ 19.671875 43.65625 24.015625 45.921875 \nQ 28.375 48.1875 33.59375 48.1875 \nQ 44.578125 48.1875 50.953125 41.515625 \nQ 57.328125 34.859375 57.328125 23.390625 \nQ 57.328125 12.15625 50.6875 5.359375 \nQ 44.046875 -1.421875 33.015625 -1.421875 \nQ 20.359375 -1.421875 13.671875 8.265625 \nQ 6.984375 17.96875 6.984375 36.375 \nQ 6.984375 53.65625 15.1875 63.9375 \nQ 23.390625 74.21875 37.203125 74.21875 \nQ 40.921875 74.21875 44.703125 73.484375 \nQ 48.484375 72.75 52.59375 71.296875 \nz\n\" id=\"DejaVuSans-54\"/>\n      </defs>\n      <g transform=\"translate(191.131067 239.238437)scale(0.1 -0.1)\">\n       <use xlink:href=\"#DejaVuSans-54\"/>\n      </g>\n     </g>\n    </g>\n    <g id=\"xtick_5\">\n     <g id=\"line2d_5\">\n      <g>\n       <use style=\"stroke:#000000;stroke-width:0.8;\" x=\"245.043817\" xlink:href=\"#m7b64131653\" y=\"224.64\"/>\n      </g>\n     </g>\n     <g id=\"text_5\">\n      <!-- 8 -->\n      <defs>\n       <path d=\"M 31.78125 34.625 \nQ 24.75 34.625 20.71875 30.859375 \nQ 16.703125 27.09375 16.703125 20.515625 \nQ 16.703125 13.921875 20.71875 10.15625 \nQ 24.75 6.390625 31.78125 6.390625 \nQ 38.8125 6.390625 42.859375 10.171875 \nQ 46.921875 13.96875 46.921875 20.515625 \nQ 46.921875 27.09375 42.890625 30.859375 \nQ 38.875 34.625 31.78125 34.625 \nz\nM 21.921875 38.8125 \nQ 15.578125 40.375 12.03125 44.71875 \nQ 8.5 49.078125 8.5 55.328125 \nQ 8.5 64.0625 14.71875 69.140625 \nQ 20.953125 74.21875 31.78125 74.21875 \nQ 42.671875 74.21875 48.875 69.140625 \nQ 55.078125 64.0625 55.078125 55.328125 \nQ 55.078125 49.078125 51.53125 44.71875 \nQ 48 40.375 41.703125 38.8125 \nQ 48.828125 37.15625 52.796875 32.3125 \nQ 56.78125 27.484375 56.78125 20.515625 \nQ 56.78125 9.90625 50.3125 4.234375 \nQ 43.84375 -1.421875 31.78125 -1.421875 \nQ 19.734375 -1.421875 13.25 4.234375 \nQ 6.78125 9.90625 6.78125 20.515625 \nQ 6.78125 27.484375 10.78125 32.3125 \nQ 14.796875 37.15625 21.921875 38.8125 \nz\nM 18.3125 54.390625 \nQ 18.3125 48.734375 21.84375 45.5625 \nQ 25.390625 42.390625 31.78125 42.390625 \nQ 38.140625 42.390625 41.71875 45.5625 \nQ 45.3125 48.734375 45.3125 54.390625 \nQ 45.3125 60.0625 41.71875 63.234375 \nQ 38.140625 66.40625 31.78125 66.40625 \nQ 25.390625 66.40625 21.84375 63.234375 \nQ 18.3125 60.0625 18.3125 54.390625 \nz\n\" id=\"DejaVuSans-56\"/>\n      </defs>\n      <g transform=\"translate(241.862567 239.238437)scale(0.1 -0.1)\">\n       <use xlink:href=\"#DejaVuSans-56\"/>\n      </g>\n     </g>\n    </g>\n    <g id=\"xtick_6\">\n     <g id=\"line2d_6\">\n      <g>\n       <use style=\"stroke:#000000;stroke-width:0.8;\" x=\"295.775318\" xlink:href=\"#m7b64131653\" y=\"224.64\"/>\n      </g>\n     </g>\n     <g id=\"text_6\">\n      <!-- 10 -->\n      <defs>\n       <path d=\"M 12.40625 8.296875 \nL 28.515625 8.296875 \nL 28.515625 63.921875 \nL 10.984375 60.40625 \nL 10.984375 69.390625 \nL 28.421875 72.90625 \nL 38.28125 72.90625 \nL 38.28125 8.296875 \nL 54.390625 8.296875 \nL 54.390625 0 \nL 12.40625 0 \nz\n\" id=\"DejaVuSans-49\"/>\n      </defs>\n      <g transform=\"translate(289.412818 239.238437)scale(0.1 -0.1)\">\n       <use xlink:href=\"#DejaVuSans-49\"/>\n       <use x=\"63.623047\" xlink:href=\"#DejaVuSans-48\"/>\n      </g>\n     </g>\n    </g>\n    <g id=\"xtick_7\">\n     <g id=\"line2d_7\">\n      <g>\n       <use style=\"stroke:#000000;stroke-width:0.8;\" x=\"346.506818\" xlink:href=\"#m7b64131653\" y=\"224.64\"/>\n      </g>\n     </g>\n     <g id=\"text_7\">\n      <!-- 12 -->\n      <g transform=\"translate(340.144318 239.238437)scale(0.1 -0.1)\">\n       <use xlink:href=\"#DejaVuSans-49\"/>\n       <use x=\"63.623047\" xlink:href=\"#DejaVuSans-50\"/>\n      </g>\n     </g>\n    </g>\n   </g>\n   <g id=\"matplotlib.axis_2\">\n    <g id=\"ytick_1\">\n     <g id=\"line2d_8\">\n      <defs>\n       <path d=\"M 0 0 \nL -3.5 0 \n\" id=\"me4dfbacc11\" style=\"stroke:#000000;stroke-width:0.8;\"/>\n      </defs>\n      <g>\n       <use style=\"stroke:#000000;stroke-width:0.8;\" x=\"26.925\" xlink:href=\"#me4dfbacc11\" y=\"214.772838\"/>\n      </g>\n     </g>\n     <g id=\"text_8\">\n      <!-- 0 -->\n      <g transform=\"translate(13.5625 218.572056)scale(0.1 -0.1)\">\n       <use xlink:href=\"#DejaVuSans-48\"/>\n      </g>\n     </g>\n    </g>\n    <g id=\"ytick_2\">\n     <g id=\"line2d_9\">\n      <g>\n       <use style=\"stroke:#000000;stroke-width:0.8;\" x=\"26.925\" xlink:href=\"#me4dfbacc11\" y=\"181.824638\"/>\n      </g>\n     </g>\n     <g id=\"text_9\">\n      <!-- 2 -->\n      <g transform=\"translate(13.5625 185.623856)scale(0.1 -0.1)\">\n       <use xlink:href=\"#DejaVuSans-50\"/>\n      </g>\n     </g>\n    </g>\n    <g id=\"ytick_3\">\n     <g id=\"line2d_10\">\n      <g>\n       <use style=\"stroke:#000000;stroke-width:0.8;\" x=\"26.925\" xlink:href=\"#me4dfbacc11\" y=\"148.876437\"/>\n      </g>\n     </g>\n     <g id=\"text_10\">\n      <!-- 4 -->\n      <g transform=\"translate(13.5625 152.675656)scale(0.1 -0.1)\">\n       <use xlink:href=\"#DejaVuSans-52\"/>\n      </g>\n     </g>\n    </g>\n    <g id=\"ytick_4\">\n     <g id=\"line2d_11\">\n      <g>\n       <use style=\"stroke:#000000;stroke-width:0.8;\" x=\"26.925\" xlink:href=\"#me4dfbacc11\" y=\"115.928237\"/>\n      </g>\n     </g>\n     <g id=\"text_11\">\n      <!-- 6 -->\n      <g transform=\"translate(13.5625 119.727456)scale(0.1 -0.1)\">\n       <use xlink:href=\"#DejaVuSans-54\"/>\n      </g>\n     </g>\n    </g>\n    <g id=\"ytick_5\">\n     <g id=\"line2d_12\">\n      <g>\n       <use style=\"stroke:#000000;stroke-width:0.8;\" x=\"26.925\" xlink:href=\"#me4dfbacc11\" y=\"82.980037\"/>\n      </g>\n     </g>\n     <g id=\"text_12\">\n      <!-- 8 -->\n      <g transform=\"translate(13.5625 86.779256)scale(0.1 -0.1)\">\n       <use xlink:href=\"#DejaVuSans-56\"/>\n      </g>\n     </g>\n    </g>\n    <g id=\"ytick_6\">\n     <g id=\"line2d_13\">\n      <g>\n       <use style=\"stroke:#000000;stroke-width:0.8;\" x=\"26.925\" xlink:href=\"#me4dfbacc11\" y=\"50.031837\"/>\n      </g>\n     </g>\n     <g id=\"text_13\">\n      <!-- 10 -->\n      <g transform=\"translate(7.2 53.831055)scale(0.1 -0.1)\">\n       <use xlink:href=\"#DejaVuSans-49\"/>\n       <use x=\"63.623047\" xlink:href=\"#DejaVuSans-48\"/>\n      </g>\n     </g>\n    </g>\n    <g id=\"ytick_7\">\n     <g id=\"line2d_14\">\n      <g>\n       <use style=\"stroke:#000000;stroke-width:0.8;\" x=\"26.925\" xlink:href=\"#me4dfbacc11\" y=\"17.083636\"/>\n      </g>\n     </g>\n     <g id=\"text_14\">\n      <!-- 12 -->\n      <g transform=\"translate(7.2 20.882855)scale(0.1 -0.1)\">\n       <use xlink:href=\"#DejaVuSans-49\"/>\n       <use x=\"63.623047\" xlink:href=\"#DejaVuSans-50\"/>\n      </g>\n     </g>\n    </g>\n   </g>\n   <g id=\"line2d_15\">\n    <path clip-path=\"url(#p9b50ea1b5d)\" d=\"M 42.143182 214.756364 \nL 48.354685 210.722226 \nL 54.566187 206.688089 \nL 60.77769 202.653952 \nL 66.989193 198.619814 \nL 73.200696 194.585677 \nL 79.412199 190.55154 \nL 85.623701 186.517403 \nL 91.835204 182.483265 \nL 98.046707 178.449128 \nL 104.25821 174.414991 \nL 110.469712 170.380853 \nL 116.681215 166.346716 \nL 122.892718 162.312579 \nL 129.104221 158.278442 \nL 135.315724 154.244304 \nL 141.527226 150.210167 \nL 147.738729 146.17603 \nL 153.950232 142.141892 \nL 160.161735 138.107755 \nL 166.373237 134.073618 \nL 172.58474 130.039481 \nL 178.796243 126.005343 \nL 185.007746 121.971206 \nL 191.219249 117.937069 \nL 197.430751 113.902931 \nL 203.642254 109.868794 \nL 209.853757 105.834657 \nL 216.06526 101.800519 \nL 222.276763 97.766382 \nL 228.488265 93.732245 \nL 234.699768 89.698108 \nL 240.911271 85.66397 \nL 247.122774 81.629833 \nL 253.334276 77.595696 \nL 259.545779 73.561558 \nL 265.757282 69.527421 \nL 271.968785 65.493284 \nL 278.180288 61.459147 \nL 284.39179 57.425009 \nL 290.603293 53.390872 \nL 296.814796 49.356735 \nL 303.026299 45.322597 \nL 309.237801 41.28846 \nL 315.449304 37.254323 \nL 321.660807 33.220186 \nL 327.87231 29.186048 \nL 334.083813 25.151911 \nL 340.295315 21.117774 \nL 346.506818 17.083636 \n\" style=\"fill:none;stroke:#1f77b4;stroke-linecap:square;stroke-width:1.5;\"/>\n   </g>\n   <g id=\"line2d_16\">\n    <path clip-path=\"url(#p9b50ea1b5d)\" d=\"M 42.143182 100.957312 \nL 48.354685 187.610355 \nL 54.566187 194.961659 \nL 60.77769 197.596001 \nL 66.989193 198.295568 \nL 73.200696 197.934159 \nL 79.412199 196.901364 \nL 85.623701 195.40512 \nL 91.835204 193.569591 \nL 98.046707 191.47489 \nL 104.25821 189.175725 \nL 110.469712 186.711126 \nL 116.681215 184.109913 \nL 122.892718 181.393976 \nL 129.104221 178.580332 \nL 135.315724 175.68247 \nL 141.527226 172.711266 \nL 147.738729 169.675618 \nL 153.950232 166.582894 \nL 160.161735 163.439269 \nL 166.373237 160.249965 \nL 172.58474 157.019442 \nL 178.796243 153.751535 \nL 185.007746 150.449567 \nL 191.219249 147.116439 \nL 197.430751 143.754696 \nL 203.642254 140.366581 \nL 209.853757 136.954086 \nL 216.06526 133.518983 \nL 222.276763 130.062861 \nL 228.488265 126.587144 \nL 234.699768 123.093117 \nL 240.911271 119.581944 \nL 247.122774 116.054678 \nL 253.334276 112.512281 \nL 259.545779 108.955631 \nL 265.757282 105.38553 \nL 271.968785 101.802716 \nL 278.180288 98.207866 \nL 284.39179 94.601606 \nL 290.603293 90.984514 \nL 296.814796 87.357124 \nL 303.026299 83.719933 \nL 309.237801 80.073403 \nL 315.449304 76.417961 \nL 321.660807 72.75401 \nL 327.87231 69.081923 \nL 334.083813 65.40205 \nL 340.295315 61.714719 \nL 346.506818 58.020237 \n\" style=\"fill:none;stroke:#ff7f0e;stroke-linecap:square;stroke-width:1.5;\"/>\n   </g>\n   <g id=\"line2d_17\">\n    <defs>\n     <path d=\"M 0 3 \nC 0.795609 3 1.55874 2.683901 2.12132 2.12132 \nC 2.683901 1.55874 3 0.795609 3 0 \nC 3 -0.795609 2.683901 -1.55874 2.12132 -2.12132 \nC 1.55874 -2.683901 0.795609 -3 0 -3 \nC -0.795609 -3 -1.55874 -2.683901 -2.12132 -2.12132 \nC -2.683901 -1.55874 -3 -0.795609 -3 0 \nC -3 0.795609 -2.683901 1.55874 -2.12132 2.12132 \nC -1.55874 2.683901 -0.795609 3 0 3 \nz\n\" id=\"m64bfede5fa\" style=\"stroke:#008000;\"/>\n    </defs>\n    <g clip-path=\"url(#p9b50ea1b5d)\">\n     <use style=\"fill:#008000;stroke:#008000;\" x=\"295.775318\" xlink:href=\"#m64bfede5fa\" y=\"50.031837\"/>\n    </g>\n   </g>\n   <g id=\"line2d_18\">\n    <path clip-path=\"url(#p9b50ea1b5d)\" d=\"M 295.775318 50.031837 \nL 295.775318 87.964854 \n\" style=\"fill:none;stroke:#000000;stroke-linecap:square;stroke-width:1.5;\"/>\n   </g>\n   <g id=\"line2d_19\">\n    <g clip-path=\"url(#p9b50ea1b5d)\">\n     <use style=\"fill:#008000;stroke:#008000;\" x=\"295.775318\" xlink:href=\"#m64bfede5fa\" y=\"87.964854\"/>\n    </g>\n   </g>\n   <g id=\"line2d_20\">\n    <path clip-path=\"url(#p9b50ea1b5d)\" d=\"M 295.775318 87.964854 \nL 237.36852 87.964854 \n\" style=\"fill:none;stroke:#000000;stroke-linecap:square;stroke-width:1.5;\"/>\n   </g>\n   <g id=\"line2d_21\">\n    <g clip-path=\"url(#p9b50ea1b5d)\">\n     <use style=\"fill:#008000;stroke:#008000;\" x=\"237.36852\" xlink:href=\"#m64bfede5fa\" y=\"87.964854\"/>\n    </g>\n   </g>\n   <g id=\"line2d_22\">\n    <path clip-path=\"url(#p9b50ea1b5d)\" d=\"M 237.36852 87.964854 \nL 237.36852 121.58659 \n\" style=\"fill:none;stroke:#000000;stroke-linecap:square;stroke-width:1.5;\"/>\n   </g>\n   <g id=\"line2d_23\">\n    <g clip-path=\"url(#p9b50ea1b5d)\">\n     <use style=\"fill:#008000;stroke:#008000;\" x=\"237.36852\" xlink:href=\"#m64bfede5fa\" y=\"121.58659\"/>\n    </g>\n   </g>\n   <g id=\"line2d_24\">\n    <path clip-path=\"url(#p9b50ea1b5d)\" d=\"M 237.36852 121.58659 \nL 185.599952 121.58659 \n\" style=\"fill:none;stroke:#000000;stroke-linecap:square;stroke-width:1.5;\"/>\n   </g>\n   <g id=\"line2d_25\">\n    <g clip-path=\"url(#p9b50ea1b5d)\">\n     <use style=\"fill:#008000;stroke:#008000;\" x=\"185.599952\" xlink:href=\"#m64bfede5fa\" y=\"121.58659\"/>\n    </g>\n   </g>\n   <g id=\"line2d_26\">\n    <path clip-path=\"url(#p9b50ea1b5d)\" d=\"M 185.599952 121.58659 \nL 185.599952 150.133087 \n\" style=\"fill:none;stroke:#000000;stroke-linecap:square;stroke-width:1.5;\"/>\n   </g>\n   <g id=\"line2d_27\">\n    <g clip-path=\"url(#p9b50ea1b5d)\">\n     <use style=\"fill:#008000;stroke:#008000;\" x=\"185.599952\" xlink:href=\"#m64bfede5fa\" y=\"150.133087\"/>\n    </g>\n   </g>\n   <g id=\"line2d_28\">\n    <path clip-path=\"url(#p9b50ea1b5d)\" d=\"M 185.599952 150.133087 \nL 141.645909 150.133087 \n\" style=\"fill:none;stroke:#000000;stroke-linecap:square;stroke-width:1.5;\"/>\n   </g>\n   <g id=\"line2d_29\">\n    <g clip-path=\"url(#p9b50ea1b5d)\">\n     <use style=\"fill:#008000;stroke:#008000;\" x=\"141.645909\" xlink:href=\"#m64bfede5fa\" y=\"150.133087\"/>\n    </g>\n   </g>\n   <g id=\"line2d_30\">\n    <path clip-path=\"url(#p9b50ea1b5d)\" d=\"M 141.645909 150.133087 \nL 141.645909 172.653843 \n\" style=\"fill:none;stroke:#000000;stroke-linecap:square;stroke-width:1.5;\"/>\n   </g>\n   <g id=\"line2d_31\">\n    <g clip-path=\"url(#p9b50ea1b5d)\">\n     <use style=\"fill:#008000;stroke:#008000;\" x=\"141.645909\" xlink:href=\"#m64bfede5fa\" y=\"172.653843\"/>\n    </g>\n   </g>\n   <g id=\"line2d_32\">\n    <path clip-path=\"url(#p9b50ea1b5d)\" d=\"M 141.645909 172.653843 \nL 106.969911 172.653843 \n\" style=\"fill:none;stroke:#000000;stroke-linecap:square;stroke-width:1.5;\"/>\n   </g>\n   <g id=\"line2d_33\">\n    <g clip-path=\"url(#p9b50ea1b5d)\">\n     <use style=\"fill:#008000;stroke:#008000;\" x=\"106.969911\" xlink:href=\"#m64bfede5fa\" y=\"172.653843\"/>\n    </g>\n   </g>\n   <g id=\"line2d_34\">\n    <path clip-path=\"url(#p9b50ea1b5d)\" d=\"M 106.969911 172.653843 \nL 106.969911 188.118235 \n\" style=\"fill:none;stroke:#000000;stroke-linecap:square;stroke-width:1.5;\"/>\n   </g>\n   <g id=\"line2d_35\">\n    <g clip-path=\"url(#p9b50ea1b5d)\">\n     <use style=\"fill:#008000;stroke:#008000;\" x=\"106.969911\" xlink:href=\"#m64bfede5fa\" y=\"188.118235\"/>\n    </g>\n   </g>\n   <g id=\"line2d_36\">\n    <path clip-path=\"url(#p9b50ea1b5d)\" d=\"M 106.969911 188.118235 \nL 83.158844 188.118235 \n\" style=\"fill:none;stroke:#000000;stroke-linecap:square;stroke-width:1.5;\"/>\n   </g>\n   <g id=\"line2d_37\">\n    <g clip-path=\"url(#p9b50ea1b5d)\">\n     <use style=\"fill:#008000;stroke:#008000;\" x=\"83.158844\" xlink:href=\"#m64bfede5fa\" y=\"188.118235\"/>\n    </g>\n   </g>\n   <g id=\"line2d_38\">\n    <path clip-path=\"url(#p9b50ea1b5d)\" d=\"M 83.158844 188.118235 \nL 83.158844 196.045117 \n\" style=\"fill:none;stroke:#000000;stroke-linecap:square;stroke-width:1.5;\"/>\n   </g>\n   <g id=\"line2d_39\">\n    <g clip-path=\"url(#p9b50ea1b5d)\">\n     <use style=\"fill:#008000;stroke:#008000;\" x=\"83.158844\" xlink:href=\"#m64bfede5fa\" y=\"196.045117\"/>\n    </g>\n   </g>\n   <g id=\"line2d_40\">\n    <path clip-path=\"url(#p9b50ea1b5d)\" d=\"M 83.158844 196.045117 \nL 70.953545 196.045117 \n\" style=\"fill:none;stroke:#000000;stroke-linecap:square;stroke-width:1.5;\"/>\n   </g>\n   <g id=\"line2d_41\">\n    <g clip-path=\"url(#p9b50ea1b5d)\">\n     <use style=\"fill:#008000;stroke:#008000;\" x=\"70.953545\" xlink:href=\"#m64bfede5fa\" y=\"196.045117\"/>\n    </g>\n   </g>\n   <g id=\"line2d_42\">\n    <path clip-path=\"url(#p9b50ea1b5d)\" d=\"M 70.953545 196.045117 \nL 70.953545 198.15735 \n\" style=\"fill:none;stroke:#000000;stroke-linecap:square;stroke-width:1.5;\"/>\n   </g>\n   <g id=\"line2d_43\">\n    <g clip-path=\"url(#p9b50ea1b5d)\">\n     <use style=\"fill:#008000;stroke:#008000;\" x=\"70.953545\" xlink:href=\"#m64bfede5fa\" y=\"198.15735\"/>\n    </g>\n   </g>\n   <g id=\"line2d_44\">\n    <path clip-path=\"url(#p9b50ea1b5d)\" d=\"M 70.953545 198.15735 \nL 67.701266 198.15735 \n\" style=\"fill:none;stroke:#000000;stroke-linecap:square;stroke-width:1.5;\"/>\n   </g>\n   <g id=\"line2d_45\">\n    <g clip-path=\"url(#p9b50ea1b5d)\">\n     <use style=\"fill:#008000;stroke:#008000;\" x=\"67.701266\" xlink:href=\"#m64bfede5fa\" y=\"198.15735\"/>\n    </g>\n   </g>\n   <g id=\"line2d_46\">\n    <path clip-path=\"url(#p9b50ea1b5d)\" d=\"M 67.701266 198.15735 \nL 67.701266 198.298134 \n\" style=\"fill:none;stroke:#000000;stroke-linecap:square;stroke-width:1.5;\"/>\n   </g>\n   <g id=\"line2d_47\">\n    <g clip-path=\"url(#p9b50ea1b5d)\">\n     <use style=\"fill:#008000;stroke:#008000;\" x=\"67.701266\" xlink:href=\"#m64bfede5fa\" y=\"198.298134\"/>\n    </g>\n   </g>\n   <g id=\"line2d_48\">\n    <path clip-path=\"url(#p9b50ea1b5d)\" d=\"M 67.701266 198.298134 \nL 67.484495 198.298134 \n\" style=\"fill:none;stroke:#000000;stroke-linecap:square;stroke-width:1.5;\"/>\n   </g>\n   <g id=\"line2d_49\">\n    <g clip-path=\"url(#p9b50ea1b5d)\">\n     <use style=\"fill:#008000;stroke:#008000;\" x=\"67.484495\" xlink:href=\"#m64bfede5fa\" y=\"198.298134\"/>\n    </g>\n   </g>\n   <g id=\"line2d_50\">\n    <path clip-path=\"url(#p9b50ea1b5d)\" d=\"M 67.484495 198.298134 \nL 67.484495 198.298738 \n\" style=\"fill:none;stroke:#000000;stroke-linecap:square;stroke-width:1.5;\"/>\n   </g>\n   <g id=\"line2d_51\">\n    <g clip-path=\"url(#p9b50ea1b5d)\">\n     <use style=\"fill:#008000;stroke:#008000;\" x=\"67.484495\" xlink:href=\"#m64bfede5fa\" y=\"198.298738\"/>\n    </g>\n   </g>\n   <g id=\"line2d_52\">\n    <path clip-path=\"url(#p9b50ea1b5d)\" d=\"M 67.484495 198.298738 \nL 67.483566 198.298738 \n\" style=\"fill:none;stroke:#000000;stroke-linecap:square;stroke-width:1.5;\"/>\n   </g>\n   <g id=\"line2d_53\">\n    <g clip-path=\"url(#p9b50ea1b5d)\">\n     <use style=\"fill:#008000;stroke:#008000;\" x=\"67.483566\" xlink:href=\"#m64bfede5fa\" y=\"198.298738\"/>\n    </g>\n   </g>\n   <g id=\"line2d_54\">\n    <path clip-path=\"url(#p9b50ea1b5d)\" d=\"M 67.483566 198.298738 \nL 67.483566 198.298738 \n\" style=\"fill:none;stroke:#000000;stroke-linecap:square;stroke-width:1.5;\"/>\n   </g>\n   <g id=\"line2d_55\">\n    <g clip-path=\"url(#p9b50ea1b5d)\">\n     <use style=\"fill:#008000;stroke:#008000;\" x=\"67.483566\" xlink:href=\"#m64bfede5fa\" y=\"198.298738\"/>\n    </g>\n   </g>\n   <g id=\"line2d_56\">\n    <path clip-path=\"url(#p9b50ea1b5d)\" d=\"M 67.483566 198.298738 \nL 67.483566 198.298738 \n\" style=\"fill:none;stroke:#000000;stroke-linecap:square;stroke-width:1.5;\"/>\n   </g>\n   <g id=\"line2d_57\">\n    <g clip-path=\"url(#p9b50ea1b5d)\">\n     <use style=\"fill:#008000;stroke:#008000;\" x=\"67.483566\" xlink:href=\"#m64bfede5fa\" y=\"198.298738\"/>\n    </g>\n   </g>\n   <g id=\"patch_3\">\n    <path d=\"M 26.925 224.64 \nL 26.925 7.2 \n\" style=\"fill:none;stroke:#000000;stroke-linecap:square;stroke-linejoin:miter;stroke-width:0.8;\"/>\n   </g>\n   <g id=\"patch_4\">\n    <path d=\"M 361.725 224.64 \nL 361.725 7.2 \n\" style=\"fill:none;stroke:#000000;stroke-linecap:square;stroke-linejoin:miter;stroke-width:0.8;\"/>\n   </g>\n   <g id=\"patch_5\">\n    <path d=\"M 26.925 224.64 \nL 361.725 224.64 \n\" style=\"fill:none;stroke:#000000;stroke-linecap:square;stroke-linejoin:miter;stroke-width:0.8;\"/>\n   </g>\n   <g id=\"patch_6\">\n    <path d=\"M 26.925 7.2 \nL 361.725 7.2 \n\" style=\"fill:none;stroke:#000000;stroke-linecap:square;stroke-linejoin:miter;stroke-width:0.8;\"/>\n   </g>\n  </g>\n </g>\n <defs>\n  <clipPath id=\"p9b50ea1b5d\">\n   <rect height=\"217.44\" width=\"334.8\" x=\"26.925\" y=\"7.2\"/>\n  </clipPath>\n </defs>\n</svg>\n",
      "image/png": "[encoded data removed]"
     },
     "metadata": {
      "needs_background": "light"
     }
    }
   ],
   "source": [
    "# limites des abscisses et nommbre de recurrence\n",
    "xb = 1e-3\n",
    "xe = 12\n",
    "N = 10\n",
    "\n",
    "# trace de la bissectrice et de la fonction G\n",
    "x = np.linspace(xb,xe)\n",
    "plt.plot(x, x)\n",
    "plt.plot(x, G(x))\n",
    "\n",
    "# Initialisation\n",
    "plt.plot([u0], [u0], 'og')\n",
    "\n",
    "# recurrence\n",
    "for k in range(N):\n",
    "    # etape 2: image du point U0 avec une ligne \n",
    "    #   verticale -> U_01\n",
    "    u1 = G(u0)\n",
    "    plt.plot([u0, u0], [u0, u1], 'k')\n",
    "    plt.plot([u0], [u1], 'og')\n",
    "    # etape 3: placer le point U1 sur la bissectrice \n",
    "    #   avec une ligne horizontale depuis U_01\n",
    "    plt.plot([u0, u1], [u1, u1], 'k')\n",
    "    plt.plot([u1], [u1], 'og')\n",
    "    # recurrence:\n",
    "    u0 = u1"
   ]
  },
  {
   "source": [
    "On voit que la suite tend vers une limite finie."
   ],
   "cell_type": "markdown",
   "metadata": {}
  }
 ],
 "metadata": {
  "kernelspec": {
   "display_name": "Python 3",
   "language": "python",
   "name": "python3"
  },
  "language_info": {
   "codemirror_mode": {
    "name": "ipython",
    "version": 3
   },
   "file_extension": ".py",
   "mimetype": "text/x-python",
   "name": "python",
   "nbconvert_exporter": "python",
   "pygments_lexer": "ipython3",
   "version": "3.6.9-final"
  }
 },
 "nbformat": 4,
 "nbformat_minor": 4
}