{
 "cells": [
  {
   "cell_type": "markdown",
   "metadata": {},
   "source": [
    "# Le module NumPy"
   ]
  },
  {
   "cell_type": "markdown",
   "metadata": {},
   "source": [
    "> vidéo"
   ]
  },
  {
   "cell_type": "markdown",
   "metadata": {},
   "source": [
    "## Le tableau NumPy"
   ]
  },
  {
   "cell_type": "markdown",
   "metadata": {},
   "source": [
    "L'objet de base du [module NumPy](https://numpy.org/) est un tableau à N-dimension (*ndarray*), que l'on appelera simplement tableau par la suite. Le plus simple pour créer un tableau est de convertir une liste en tableau. Pour cela, il faut utiliser la fonction `array()` du module NumPy:"
   ]
  },
  {
   "cell_type": "code",
   "execution_count": 8,
   "metadata": {},
   "outputs": [
    {
     "output_type": "stream",
     "name": "stdout",
     "text": "[ 2.2  6.1  9.6  1.3 56.8  8. ]\n<class 'numpy.ndarray'>\n"
    }
   ],
   "source": [
    "# importation du module NumPy avec un alias np\n",
    "import numpy as np\n",
    "\n",
    "# création de la liste\n",
    "ma_liste = [2.2, 6.1, 9.6, 1.3, 56.8, 8.0]\n",
    "\n",
    "# création du tableau NumPy\n",
    "mon_tableau = np.array(ma_liste)\n",
    "\n",
    "# affichage du tableau et de son type\n",
    "print(mon_tableau)\n",
    "print(type(mon_tableau))"
   ]
  },
  {
   "cell_type": "markdown",
   "metadata": {},
   "source": [
    "Nous avons nouvel objet (ou type, c'est équivalent): le `numpy.ndarray`, ou tableau NumPy. Comme tout objet, il a des opérateurs, des fonctions et des méthodes associés.\n",
    "\n",
    "En Python, un objet a des attributs auxquels on peut accéder en écrivant le nom de l'objet, suivi d'un point et du nom de l'attribut. Voici la liste des attributs d'un tableau NumPy:\n",
    "\n",
    "attribut | description\n",
    "--|--\n",
    "t.ndim | nombre de dimensions\n",
    "t.shape | taille du tableau dans chaque dimension\n",
    "t.size | nombre total d'éléments\n",
    "t.dtype | type des éléments du tableau"
   ]
  },
  {
   "cell_type": "markdown",
   "metadata": {},
   "source": [
    "Regardons quelques attributs de `mon_tableau`:"
   ]
  },
  {
   "cell_type": "code",
   "execution_count": 21,
   "metadata": {},
   "outputs": [
    {
     "output_type": "execute_result",
     "data": {
      "text/plain": "1"
     },
     "metadata": {},
     "execution_count": 21
    }
   ],
   "source": [
    "# attribut nombre de dimensions (ndim)\n",
    "mon_tableau.ndim"
   ]
  },
  {
   "cell_type": "code",
   "execution_count": 20,
   "metadata": {},
   "outputs": [
    {
     "output_type": "execute_result",
     "data": {
      "text/plain": "6"
     },
     "metadata": {},
     "execution_count": 20
    }
   ],
   "source": [
    "# attribut taille (size)\n",
    "mon_tableau.size"
   ]
  },
  {
   "cell_type": "code",
   "execution_count": 24,
   "metadata": {},
   "outputs": [
    {
     "output_type": "execute_result",
     "data": {
      "text/plain": "(6,)"
     },
     "metadata": {},
     "execution_count": 24
    }
   ],
   "source": [
    "# attribut forme (shape) -> résultat sous la forme d'un tuple\n",
    "mon_tableau.shape"
   ]
  },
  {
   "cell_type": "markdown",
   "metadata": {},
   "source": [
    "<div class=\"alert alert-info\">\n",
    "\n",
    "**tuple**\n",
    "\n",
    "Un [tuple](https://docs.python.org/fr/3/library/stdtypes.html#tuple) est un [type de données séquentiel](https://docs.python.org/fr/3/library/stdtypes.html#sequence-types-list-tuple-range) comme les listes. Cependant, alors que les listes sont muables (modifiables), les tuples sont immuables (non modifiables). On peut créer un tuple comme une liste, mais en utilisant une paire de parenthèse plutôt que des crochets. Pour différencier un tuple à un élément d'une simple paire de parenthèse, on ajoute une virgule après le chiffre, par exemple `a = (2,)`.\n",
    "\n",
    "</div>"
   ]
  },
  {
   "cell_type": "code",
   "execution_count": 35,
   "metadata": {},
   "outputs": [
    {
     "output_type": "execute_result",
     "data": {
      "text/plain": "dtype('float64')"
     },
     "metadata": {},
     "execution_count": 35
    }
   ],
   "source": [
    "# attribut type des éléments (dtype)\n",
    "mon_tableau.dtype"
   ]
  },
  {
   "cell_type": "markdown",
   "metadata": {},
   "source": [
    "<div class=\"alert alert-info\">\n",
    "\n",
    "**dtype**\n",
    "\n",
    "Numpy contient un nombre de types numériques beaucoup plus important que les types natifs de Python. De plus, il est possible de créer facilement de nouveaux types de données structurées. C'est pourquoi NumPy est adpaté au calcul scientifique. Le type par défaut d'un réel lorsque l'on crée un tableau est `float64`. Ce type est équivalent (en précision) au type `float` natif de Python. 64 bits correspond à la place que prend un scalaire en mémoire. On peut trouver une [liste des types natifs de NumPy](https://numpy.org/doc/1.18/reference/arrays.scalars.html#arrays-scalars-built-in).\n",
    "\n",
    "</div>"
   ]
  },
  {
   "cell_type": "markdown",
   "metadata": {},
   "source": [
    "### Exercice\n",
    "La liste suivante contient le nombre d'habitants des 8 villes de France les plus peuplées: Paris, Marseille, Lyon, Toulouse, Nice, Nantes, Montpellier et Strasbourg (chiffres INSEE 2015)"
   ]
  },
  {
   "cell_type": "code",
   "execution_count": 11,
   "metadata": {},
   "outputs": [],
   "source": [
    "nombre_habitants = [2206488, 861635, 513275, 471941, 342522, 303382, 277639, 277270]"
   ]
  },
  {
   "cell_type": "markdown",
   "metadata": {},
   "source": [
    "1. Importer le module `numpy` sans alias.\n",
    "2. Créer un tableau NumPy `np_nombre_habitants` à partir de la liste `nombre_habitants`.\n",
    "3. Afficher le tableau créé et son attribut dtype."
   ]
  },
  {
   "cell_type": "code",
   "execution_count": 38,
   "metadata": {},
   "outputs": [
    {
     "output_type": "stream",
     "name": "stdout",
     "text": "[2206488  861635  513275  471941  342522  303382  277639  277270]\nint64\n"
    }
   ],
   "source": [
    "# importer le module NumPy\n",
    "import numpy\n",
    "\n",
    "# création du tableau NumPy\n",
    "np_nombre_habitants = numpy.array(nombre_habitants)\n",
    "\n",
    "# afficher le tableau et son attribut dtype\n",
    "print(np_nombre_habitants)\n",
    "print(np_nombre_habitants.dtype)"
   ]
  },
  {
   "cell_type": "markdown",
   "metadata": {},
   "source": [
    "## Opérations sur les tableaux\n",
    "Un grand intérêt des tableaux NumPy par rapport aux listes Python, est la possibilité de les utiliser dans des expressions avec des opérateurs arithmétiques.\n",
    "\n",
    "Les opérateurs arithmétiques que l'on a vu pour les types scalaires en Python (addition, soustraction, multiplication, etc...) s'appliquent **terme à terme** sur les tableaux.\n",
    "\n",
    "Par exemple, si on multiplie un tableau par un scalaire, chaque élément du tableau est multiplié:"
   ]
  },
  {
   "cell_type": "code",
   "execution_count": 43,
   "metadata": {},
   "outputs": [
    {
     "output_type": "stream",
     "name": "stdout",
     "text": "[1.1 3.  4.8]\n"
    }
   ],
   "source": [
    "# création du tableau\n",
    "mon_tableau = np.array([2.2, 6.0, 9.6])\n",
    "\n",
    "# multiplication par un scalaire\n",
    "print(0.5 * mon_tableau)"
   ]
  },
  {
   "cell_type": "markdown",
   "metadata": {},
   "source": [
    "On peut aussi utiliser des opérateurs arithmétiques dans des expressions avec **des tableaux de même forme**. Les opérations sont alors effectuées **terme à terme**: le 1er élément du 1er tableau avec le 1er élément du 2ème tableaux, etc.."
   ]
  },
  {
   "cell_type": "code",
   "execution_count": 45,
   "metadata": {},
   "outputs": [
    {
     "output_type": "stream",
     "name": "stdout",
     "text": "[ 2 10  4]\n"
    }
   ],
   "source": [
    "# création de 2 tableaux\n",
    "A = np.array([0, 5, 3])\n",
    "B = np.array([2, 5, 1])\n",
    "\n",
    "# addition terme à terme\n",
    "print(A + B)"
   ]
  },
  {
   "cell_type": "markdown",
   "metadata": {},
   "source": [
    "On peut former des expressions avec des tableaux de types numériques différents. Le résultat correspond alors au type le plus général ou le plus précis (propriété appelée *upcasting*). \n",
    "\n",
    "Par exemple, si on multiplie un tableau d'entiers avec un tableau de réels:"
   ]
  },
  {
   "cell_type": "code",
   "execution_count": 47,
   "metadata": {},
   "outputs": [
    {
     "output_type": "stream",
     "name": "stdout",
     "text": "float64\n"
    }
   ],
   "source": [
    "# création d'un tableau de réels\n",
    "A = np.array([0.0, 5.0, 3.0], dtype='float64')\n",
    "\n",
    "# création d'un tableau d'entiers\n",
    "B = np.array([2, 5, 1], dtype='int64')\n",
    "\n",
    "# multiplication terme à terme\n",
    "C = A * B\n",
    "\n",
    "# type des éléments du tableau résultant\n",
    "print(C.dtype)"
   ]
  },
  {
   "cell_type": "markdown",
   "metadata": {},
   "source": [
    "### Exercice\n",
    "Reprenons le tableau `np_nombre_habitants`, donnant le nombre d'habitants des 8 villes de France les plus peuplées (Paris, Marseille, Lyon, Toulouse, Nice, Nantes, Montpellier et Strasbourg). On définit un tableau donnant la superficie de ces mêmes ville (en km**2), dans le même ordre:"
   ]
  },
  {
   "cell_type": "code",
   "execution_count": 49,
   "metadata": {},
   "outputs": [],
   "source": [
    "np_superficie = np.array([105.40, 240.62, 47.87, 118.30, 71.92, 65.19, 56.88, 78.26]) # km**2"
   ]
  },
  {
   "cell_type": "markdown",
   "metadata": {},
   "source": [
    "1. Calculer la densité de population de chaque ville en nombre d'habitants/km**2. Affecter le résultat à une variable `np_densite` et afficher le résultat. Note: une seule expression sur une seule ligne est nécessaire.\n",
    "2. Quel est le type des éléments du tableau `np_densité` (attribut dtype)"
   ]
  },
  {
   "cell_type": "code",
   "execution_count": 53,
   "metadata": {},
   "outputs": [
    {
     "output_type": "stream",
     "name": "stdout",
     "text": "[20934.42125237  3580.89518743 10722.26864424  3989.35756551\n  4762.54171301  4653.81193435  4881.13572433  3542.93381038]\nfloat64\n"
    }
   ],
   "source": [
    "# calcul de la densité de population (hab/km**2)\n",
    "np_densité = np_nombre_habitants / np_superficie\n",
    "\n",
    "# afficher le résultat\n",
    "print(np_densité)\n",
    "\n",
    "# attribut dtype du résultat\n",
    "print(np_densité.dtype)"
   ]
  },
  {
   "cell_type": "markdown",
   "metadata": {},
   "source": [
    "## Indexation et tranche"
   ]
  },
  {
   "cell_type": "code",
   "execution_count": null,
   "metadata": {},
   "outputs": [],
   "source": []
  }
 ],
 "metadata": {
  "language_info": {
   "codemirror_mode": {
    "name": "ipython",
    "version": 3
   },
   "file_extension": ".py",
   "mimetype": "text/x-python",
   "name": "python",
   "nbconvert_exporter": "python",
   "pygments_lexer": "ipython3",
   "version": "3.6.9-final"
  },
  "orig_nbformat": 2,
  "kernelspec": {
   "name": "python36964bitb2f6799a6d294292a84414c9014f9ca3",
   "display_name": "Python 3.6.9 64-bit"
  }
 },
 "nbformat": 4,
 "nbformat_minor": 2
}